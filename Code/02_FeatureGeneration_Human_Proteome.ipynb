{
 "cells": [
  {
   "cell_type": "markdown",
   "metadata": {},
   "source": [
    "# Feature generation for the human proteome\n",
    "\n",
    "This notebook includes:\n",
    "- Feature generation\n",
    "- Data normalization (amino acid count values to proportions)\n",
    "- Log transformation of features\n",
    "- Removal of non-MS detectable proteins from the dataset\n",
    "       \n",
    "Output dataset:\n",
    "- features_human_proteome.csv\n",
    "- features_human_proteome_MS_filtering.csv"
   ]
  },
  {
   "cell_type": "markdown",
   "metadata": {},
   "source": [
    "## Import libraries"
   ]
  },
  {
   "cell_type": "code",
   "execution_count": 1,
   "metadata": {},
   "outputs": [],
   "source": [
    "import json\n",
    "import numpy as np\n",
    "import os\n",
    "import pandas as pd\n",
    "\n",
    "from Bio import SeqIO\n",
    "from Bio.SeqUtils.ProtParam import ProteinAnalysis"
   ]
  },
  {
   "cell_type": "markdown",
   "metadata": {},
   "source": [
    "## Define paths"
   ]
  },
  {
   "cell_type": "code",
   "execution_count": 2,
   "metadata": {},
   "outputs": [],
   "source": [
    "Data_path = os.path.dirname(os.getcwd()) + '/Data'"
   ]
  },
  {
   "cell_type": "markdown",
   "metadata": {},
   "source": [
    "## Feature generation"
   ]
  },
  {
   "cell_type": "markdown",
   "metadata": {},
   "source": [
    "### Basic & structural property predictions (NetSurfP-2.0 predictions)\n",
    "\n",
    "Dataset already contains:\n",
    "- Sequence length\n",
    "- Molecular weight\n",
    "- Amino acid count\n",
    "- NetSurfP-2.0 predictions"
   ]
  },
  {
   "cell_type": "code",
   "execution_count": 3,
   "metadata": {},
   "outputs": [],
   "source": [
    "# import NSP2 predictions for human proteome (does not include TITIN as NSP2 cannot run such a big protein)\n",
    "df_features = pd.read_csv(Data_path + '/Features/NSP2_complete.tab', sep='\\t', engine='python')  \n",
    "df_features = df_features.drop(columns=['PDB', 'q3_H', 'q3_E', 'q3_C', 'on_surface']) # drop ununsed columns"
   ]
  },
  {
   "cell_type": "markdown",
   "metadata": {},
   "source": [
    "### Exposed amino acid count"
   ]
  },
  {
   "cell_type": "code",
   "execution_count": 4,
   "metadata": {},
   "outputs": [],
   "source": [
    "# if RSA > 0.4 AA residue is exposed\n",
    "nsp_aa_exposed = pd.read_csv(Data_path + '/Features/NSP2_exposed.csv', sep=',', engine='python') \n",
    "df_features = pd.merge(df_features, nsp_aa_exposed, on=['id'], how=\"left\") \n",
    "# nps_aa_exposed contains only 19873 proteins, some get lost if inner merge is performed, dataframe contains some NAs"
   ]
  },
  {
   "cell_type": "markdown",
   "metadata": {},
   "source": [
    "### Solubility-weighted index (SWI)\n",
    "\n",
    "Bhandari BK, Gardner PP, Lim CS. Solubility-Weighted Index: fast and accurate prediction of protein solubility. Bioinformatics. 2020 Sep 15; 36(18):4691-4698. doi: https://doi.org/10.1093/bioinformatics/btaa578"
   ]
  },
  {
   "cell_type": "code",
   "execution_count": 5,
   "metadata": {},
   "outputs": [],
   "source": [
    "weights = {'A': 0.8356471476582918,\n",
    "           'C': 0.5208088354857734,\n",
    "           'U': 0.5208088354857734, # since FASTA sequences contain U \n",
    "           'E': 0.9876987431418378,\n",
    "           'D': 0.9079044671339564,\n",
    "           'G': 0.7997168496420723,\n",
    "           'F': 0.5849790194237692,\n",
    "           'I': 0.6784124413866582,\n",
    "           'H': 0.8947913996466419,\n",
    "           'K': 0.9267104557513497,\n",
    "           'M': 0.6296623675420369,\n",
    "           'L': 0.6554221515081433,\n",
    "           'N': 0.8597433107431216,\n",
    "           'Q': 0.789434648348208,\n",
    "           'P': 0.8235328714705341,\n",
    "           'S': 0.7440908318492778,\n",
    "           'R': 0.7712466317693457,\n",
    "           'T': 0.8096922697856334,\n",
    "           'W': 0.6374678690957594,\n",
    "           'V': 0.7357837119163659,\n",
    "           'Y': 0.6112801822947587}\n",
    "\n",
    "A = 81.0581\n",
    "B = -62.7775\n",
    "\n",
    "def SWI(df):\n",
    "\n",
    "    df['SWI'] = df['fasta_sequence'].apply(\n",
    "        lambda x: np.mean([weights[i] for i in x]))\n",
    "    df['Probability_solubility'] = 1/(1 + np.exp(-(A*df['SWI'] + B)))\n",
    "\n",
    "    return df"
   ]
  },
  {
   "cell_type": "code",
   "execution_count": 6,
   "metadata": {},
   "outputs": [],
   "source": [
    "# run SWI calculation, add SWI columns to feature dataset\n",
    "df_features = SWI(df_features.copy())\n",
    "# drop SWI column\n",
    "df_features = df_features.drop(columns=['SWI']) "
   ]
  },
  {
   "cell_type": "markdown",
   "metadata": {},
   "source": [
    "### Aggregation propensity\n",
    "\n",
    "Sánchez de Groot N, Pallarés I, Avilés FX, Vendrell J, Ventura S. Prediction of \"hot spots\" of aggregation in disease-linked polypeptides. BMC Struct Biol. 2005 Sep 30;5:18. doi: https://doi.org/10.1186/1472-6807-5-18"
   ]
  },
  {
   "cell_type": "code",
   "execution_count": 7,
   "metadata": {},
   "outputs": [],
   "source": [
    "propensities = {'I': 1.822,\n",
    "                'F': 1.754,\n",
    "                'V': 1.594,\n",
    "                'L': 1.380,\n",
    "                'Y': 1.159,\n",
    "                'W': 1.037,\n",
    "                'M': 0.910,\n",
    "                'C': 0.604,\n",
    "                'U': 0.604,\n",
    "                'A': -0.036,\n",
    "                'T': -0.159,\n",
    "                'S': -0.294,\n",
    "                'P': -0.334,\n",
    "                'G': -0.535,\n",
    "                'K': -0.931,\n",
    "                'H': -1.033,\n",
    "                'Q': -1.231,\n",
    "                'R': -1.240,\n",
    "                'N': -1.302,\n",
    "                'E': -1.412,\n",
    "                'D': -1.836}\n",
    "\n",
    "def aggregation_score(df):\n",
    "\n",
    "    df['Aggregation_propensity'] = df['fasta_sequence'].apply(\n",
    "        lambda x: np.sum([propensities[i] for i in x]))\n",
    "\n",
    "    return df"
   ]
  },
  {
   "cell_type": "code",
   "execution_count": 8,
   "metadata": {},
   "outputs": [],
   "source": [
    "# run aggregation propensity calculation, add aggregation column to feature dataset\n",
    "df_features = aggregation_score(df_features.copy())"
   ]
  },
  {
   "cell_type": "markdown",
   "metadata": {},
   "source": [
    "### Simple protein analysis by Biopython\n",
    "\n",
    "Bio.SeqUtils.ProtParam module (https://biopython.org/wiki/ProtParam)\n",
    "- Aromaticity: Calculates the aromaticity value of a protein according to Lobry, 1994. It is simply the relative frequency of Phe+Trp+Tyr.\n",
    "- Instability index: Implementation of the method of Guruprasad et al. 1990 to test a protein for stability. Any value above 40 means the protein is unstable (has a short half life). \n",
    "- Gravy: Calculate the gravy according to Kyte and Doolittle.\n",
    "- Isoelectric point: Calculate the isoelectric point.\n",
    "- Charge at pH 5: Calculate the charge of a protein at given pH.\n",
    "- Charge at pH 7: Calculate the charge of a protein at given pH."
   ]
  },
  {
   "cell_type": "code",
   "execution_count": 9,
   "metadata": {},
   "outputs": [],
   "source": [
    "# Generate a list and replace U with C, because biopython gives an error otherwise\n",
    "sequences = list(df_features['fasta_sequence'])\n",
    "sequences = [sequence.replace('U', 'C') for sequence in sequences]\n",
    "\n",
    "# create empty lists\n",
    "aromaticity_list = []\n",
    "instability_index_list = []\n",
    "gravy_list = []\n",
    "isoelectric_point_list = []\n",
    "charge_at_7_list = []\n",
    "charge_at_5_list = []"
   ]
  },
  {
   "cell_type": "code",
   "execution_count": 10,
   "metadata": {},
   "outputs": [],
   "source": [
    "for sequence in sequences:\n",
    "    analysis = ProteinAnalysis(str(sequence))\n",
    "    \n",
    "    #calculate different values\n",
    "    aromaticity = analysis.aromaticity()\n",
    "    instability_index = analysis.instability_index()\n",
    "    gravy_score = analysis.gravy()\n",
    "    isoelectric_point = analysis.isoelectric_point()\n",
    "    charge_at_7 = analysis.charge_at_pH(7)\n",
    "    charge_at_5 = analysis.charge_at_pH(5)\n",
    "    \n",
    "    #append the list\n",
    "    aromaticity_list.append(aromaticity)\n",
    "    instability_index_list.append(instability_index)\n",
    "    gravy_list.append(gravy_score)\n",
    "    isoelectric_point_list.append(isoelectric_point)\n",
    "    charge_at_7_list.append(charge_at_7)\n",
    "    charge_at_5_list.append(charge_at_5)"
   ]
  },
  {
   "cell_type": "code",
   "execution_count": 11,
   "metadata": {},
   "outputs": [],
   "source": [
    "# add a column\n",
    "df_features['Aromaticity'] = aromaticity_list \n",
    "df_features['Instability_index'] = instability_index_list \n",
    "df_features['Gravy'] = gravy_list \n",
    "df_features['Isoelectric_point'] = isoelectric_point_list \n",
    "df_features['Charge_at_7'] = charge_at_7_list \n",
    "df_features['Charge_at_5'] = charge_at_5_list "
   ]
  },
  {
   "cell_type": "markdown",
   "metadata": {},
   "source": [
    "### HSP annotation"
   ]
  },
  {
   "cell_type": "code",
   "execution_count": 12,
   "metadata": {},
   "outputs": [],
   "source": [
    "HSP = pd.read_csv(Data_path + '/Features/UniProt/HSP.tab', sep='\\t', engine='python')\n",
    "\n",
    "HSP_list = set(HSP[\"Entry\"])\n",
    "df_features[\"HSP\"] = np.where(df_features['id'].isin(HSP_list), 1, 0) "
   ]
  },
  {
   "cell_type": "markdown",
   "metadata": {},
   "source": [
    "### Post-translational modification"
   ]
  },
  {
   "cell_type": "markdown",
   "metadata": {},
   "source": [
    "#### UniProt annotations (keywords)"
   ]
  },
  {
   "cell_type": "code",
   "execution_count": 13,
   "metadata": {},
   "outputs": [],
   "source": [
    "def up_import(ptm):\n",
    "    \n",
    "    UP_list = []\n",
    "    \n",
    "    f = open(Data_path + '/Features/UniProt/' + ptm + '.list', 'r')\n",
    "    \n",
    "    # import data\n",
    "    while True:\n",
    "        line = f.readline()\n",
    "        line = line.rstrip('\\n')\n",
    "        UP_list.append(line) \n",
    "        # end of file is reached\n",
    "        if not line:\n",
    "            break\n",
    "    \n",
    "    return UP_list "
   ]
  },
  {
   "cell_type": "code",
   "execution_count": 14,
   "metadata": {},
   "outputs": [],
   "source": [
    "# define UniProt keywords\n",
    "UP = ['PTM', 'Acetylation', 'Citrullination' , 'Glycoprotein', 'GPI-anchor', 'Methylation',  'Myristate', 'Nitration', \n",
    "      'Palmitate', 'Prenylation', 'Phosphoprotein', 'S-nitrosylation', 'Ubl_conjugation'] # dropped Lipoprotein keyword\n",
    "\n",
    "# create dict of all PTM files\n",
    "UP_dict = {}\n",
    "for i in UP:\n",
    "    UP_dict[i] = up_import(i)"
   ]
  },
  {
   "cell_type": "code",
   "execution_count": 15,
   "metadata": {},
   "outputs": [
    {
     "name": "stdout",
     "output_type": "stream",
     "text": [
      "Number of annotations in feature dataset (UniProt keywords)\n",
      "PTM: 13918\n",
      "Citrullination: 68\n",
      "GPI-anchor: 139\n",
      "Nitration: 48\n",
      "Prenylation: 172\n"
     ]
    }
   ],
   "source": [
    "# 0/1 annotation\n",
    "UP_only = ['PTM', 'Citrullination', 'GPI-anchor', 'Nitration', 'Prenylation']\n",
    "\n",
    "print('Number of annotations in feature dataset (UniProt keywords)')\n",
    "\n",
    "for i in UP_only:\n",
    "    column_name = str(i) + '_Uniprot'\n",
    "    df_features[column_name] = np.where(df_features['id'].isin(UP_dict[i]), 1, 0) \n",
    "    print(str(i) + ':', sum(df_features[column_name]))"
   ]
  },
  {
   "cell_type": "markdown",
   "metadata": {},
   "source": [
    "#### UniProt annotations (text mining)"
   ]
  },
  {
   "cell_type": "code",
   "execution_count": 16,
   "metadata": {},
   "outputs": [],
   "source": [
    "# load PTM comment table\n",
    "PTM_comments = pd.read_csv(Data_path + '/Features/UniProt/PTM_comments.tab', sep='\\t', engine='python')\n",
    "\n",
    "# merge PTM comment table with feature dataset\n",
    "PTM_comments.rename(columns={'Entry':'id', 'Post-translational modification':'PTM_comments'}, inplace=True)\n",
    "df_features = df_features.merge(PTM_comments, on='id', how='left')"
   ]
  },
  {
   "cell_type": "code",
   "execution_count": 17,
   "metadata": {},
   "outputs": [
    {
     "name": "stdout",
     "output_type": "stream",
     "text": [
      "Number of annotations in feature dataset (UniProt textmining)\n",
      "ISGylation: 42\n",
      "NEDDylation: 41\n"
     ]
    }
   ],
   "source": [
    "print('Number of annotations in feature dataset (UniProt textmining)')\n",
    "\n",
    "df_features['ISGylation_Uniprot'] = np.where(df_features['PTM_comments'].str.contains('ISGy', na=False), 1, 0)\n",
    "print(\"ISGylation:\", sum(df_features['ISGylation_Uniprot']))\n",
    "df_features['NEDDylation_Uniprot'] = np.where(df_features['PTM_comments'].str.contains('NEDD', na=False), 1, 0)\n",
    "print(\"NEDDylation:\", sum(df_features['NEDDylation_Uniprot']))"
   ]
  },
  {
   "cell_type": "code",
   "execution_count": 18,
   "metadata": {},
   "outputs": [],
   "source": [
    "df_features.drop(columns=['PTM_comments'], inplace=True) "
   ]
  },
  {
   "cell_type": "markdown",
   "metadata": {},
   "source": [
    "#### PhosphoSitePlus annotations"
   ]
  },
  {
   "cell_type": "code",
   "execution_count": 19,
   "metadata": {},
   "outputs": [],
   "source": [
    "def psp_import(ptm):\n",
    "    \n",
    "    # import data\n",
    "    loc = Data_path + '/Features/PhosphositePlus/' + ptm + '_psp.tab'\n",
    "    df = pd.read_csv(loc, sep='\\t', engine='python')\n",
    "    \n",
    "    # filter for human entries only\n",
    "    df = df[df['ORGANISM'] == 'human']\n",
    "    \n",
    "    return df \n",
    "    \n",
    "def psp_to_list(df):    \n",
    "    \n",
    "    # create list of UniProt IDs\n",
    "    UP_list = list(df['ACC_ID'])\n",
    "    print('\\t Number of entries:', len(UP_list))\n",
    "    \n",
    "    # filter out duplicates\n",
    "    UP_list_unique = list(set(UP_list))\n",
    "    print('\\t Number of unique entries:', len(UP_list_unique))\n",
    "    \n",
    "    return UP_list_unique\n",
    "\n",
    "\n",
    "def psp_to_count(df):    \n",
    "    \n",
    "    # count entries per UniProt ID\n",
    "    df['COUNT'] = df.groupby('ACC_ID')['ACC_ID'].transform('count')\n",
    "    df = df.drop_duplicates(subset=['ACC_ID'], keep='first')\n",
    "    \n",
    "    return df[['ACC_ID', 'COUNT']]"
   ]
  },
  {
   "cell_type": "code",
   "execution_count": 20,
   "metadata": {},
   "outputs": [
    {
     "name": "stdout",
     "output_type": "stream",
     "text": [
      "Ubiquitination\n",
      "\t Number of entries: 97777\n",
      "\t Number of unique entries: 12435\n",
      "Phosphorylation\n",
      "\t Number of entries: 239544\n",
      "\t Number of unique entries: 19834\n",
      "Methylation\n",
      "\t Number of entries: 16374\n",
      "\t Number of unique entries: 5691\n",
      "Acetylation\n",
      "\t Number of entries: 22824\n",
      "\t Number of unique entries: 7253\n",
      "Sumoylation\n",
      "\t Number of entries: 8415\n",
      "\t Number of unique entries: 2667\n",
      "O-GlcNAc\n",
      "\t Number of entries: 441\n",
      "\t Number of unique entries: 173\n",
      "O-GalNAc\n",
      "\t Number of entries: 2102\n",
      "\t Number of unique entries: 478\n"
     ]
    }
   ],
   "source": [
    "psp = ['Ubiquitination', 'Phosphorylation', 'Methylation', 'Acetylation', 'Sumoylation', 'O-GlcNAc', 'O-GalNAc']\n",
    "# create dict of all PTM files\n",
    "psp_dict = {}\n",
    "\n",
    "for i in psp:\n",
    "    print(i)\n",
    "    psp_dict[i] = psp_to_list(psp_import(i))"
   ]
  },
  {
   "cell_type": "code",
   "execution_count": 21,
   "metadata": {},
   "outputs": [],
   "source": [
    "Glycosylation_PSP = list(set(psp_dict['O-GlcNAc'] + psp_dict['O-GalNAc']))"
   ]
  },
  {
   "cell_type": "markdown",
   "metadata": {},
   "source": [
    "#### iPTMnet annotations"
   ]
  },
  {
   "cell_type": "code",
   "execution_count": 22,
   "metadata": {},
   "outputs": [
    {
     "data": {
      "text/plain": [
       "PHOSPHORYLATION    139966\n",
       "ACETYLATION          4841\n",
       "GLYCOSYLATION        3348\n",
       "S-NITROSYLATION      2376\n",
       "METHYLATION          1007\n",
       "UBIQUITINATION        523\n",
       "MYRISTOYLATION        125\n",
       "SUMOYLATION            35\n",
       "Name: ptm_type, dtype: int64"
      ]
     },
     "execution_count": 22,
     "metadata": {},
     "output_type": "execute_result"
    }
   ],
   "source": [
    "iPTM = Data_path + '/Features/iPTMnet_annotations.txt'  \n",
    "iPTM = pd.read_csv(iPTM, sep='\\t', engine='python')\n",
    "\n",
    "iPTM = iPTM[iPTM['organism'] == 'Homo sapiens (Human)']\n",
    "\n",
    "# count all glycosylation sites together\n",
    "iPTM['ptm_type'] = iPTM['ptm_type'].replace(['N-GLYCOSYLATION', 'O-GLYCOSYLATION', 'C-GLYCOSYLATION', 'S-GLYCOSYLATION'], \n",
    "                    'GLYCOSYLATION')\n",
    "\n",
    "iPTM['ptm_type'].value_counts()"
   ]
  },
  {
   "cell_type": "code",
   "execution_count": 23,
   "metadata": {},
   "outputs": [],
   "source": [
    "iPTM_list = ['PHOSPHORYLATION', 'ACETYLATION', 'GLYCOSYLATION', 'S-NITROSYLATION', 'METHYLATION', 'UBIQUITINATION', \n",
    "        'MYRISTOYLATION', 'SUMOYLATION'] \n",
    "\n",
    "def iPTM_to_list(ptm): \n",
    "    \n",
    "    iPTM_subset = iPTM[iPTM['ptm_type'] == ptm]\n",
    "    print('\\t Number of entries:', len(iPTM_subset))\n",
    "    \n",
    "    iPTM_list = list(set(list(iPTM_subset['substrate_UniProtAC'])))\n",
    "    print('\\t Number of unique entries:', len(iPTM_list))\n",
    "    \n",
    "    return iPTM_list"
   ]
  },
  {
   "cell_type": "code",
   "execution_count": 24,
   "metadata": {},
   "outputs": [
    {
     "name": "stdout",
     "output_type": "stream",
     "text": [
      "PHOSPHORYLATION\n",
      "\t Number of entries: 139966\n",
      "\t Number of unique entries: 15228\n",
      "ACETYLATION\n",
      "\t Number of entries: 4841\n",
      "\t Number of unique entries: 2970\n",
      "GLYCOSYLATION\n",
      "\t Number of entries: 3348\n",
      "\t Number of unique entries: 1160\n",
      "S-NITROSYLATION\n",
      "\t Number of entries: 2376\n",
      "\t Number of unique entries: 1213\n",
      "METHYLATION\n",
      "\t Number of entries: 1007\n",
      "\t Number of unique entries: 471\n",
      "UBIQUITINATION\n",
      "\t Number of entries: 523\n",
      "\t Number of unique entries: 183\n",
      "MYRISTOYLATION\n",
      "\t Number of entries: 125\n",
      "\t Number of unique entries: 120\n",
      "SUMOYLATION\n",
      "\t Number of entries: 35\n",
      "\t Number of unique entries: 25\n"
     ]
    }
   ],
   "source": [
    "# create dict of all PTM files\n",
    "iPTM_dict = {}\n",
    "\n",
    "for i in iPTM_list:\n",
    "    print(i)\n",
    "    iPTM_dict[i] = iPTM_to_list(i)"
   ]
  },
  {
   "cell_type": "markdown",
   "metadata": {},
   "source": [
    "#### SwissPalm (Palmitoylation database)"
   ]
  },
  {
   "cell_type": "code",
   "execution_count": 25,
   "metadata": {},
   "outputs": [],
   "source": [
    "SwissPalm = pd.read_csv(Data_path + '/Features/SwissPalm_proteins.txt', sep='\\t', engine='python')"
   ]
  },
  {
   "cell_type": "code",
   "execution_count": 26,
   "metadata": {},
   "outputs": [],
   "source": [
    "def swisspalm_to_list(df): \n",
    "    \n",
    "    # filter for human entries only\n",
    "    df = df[df['organism'] == 'Homo sapiens']\n",
    "    \n",
    "    # create list of UniProt IDs\n",
    "    UP_list = list(df['uniprot_ac'])\n",
    "    \n",
    "    # filter out duplicates\n",
    "    UP_list_unique = list(set(UP_list))\n",
    "    print('Number of unique entries:', len(UP_list_unique))\n",
    "    \n",
    "    return UP_list_unique"
   ]
  },
  {
   "cell_type": "code",
   "execution_count": 27,
   "metadata": {},
   "outputs": [
    {
     "name": "stdout",
     "output_type": "stream",
     "text": [
      "Number of unique entries: 4587\n"
     ]
    }
   ],
   "source": [
    "SwissPalm_list = swisspalm_to_list(SwissPalm)"
   ]
  },
  {
   "cell_type": "markdown",
   "metadata": {},
   "source": [
    "#### Combined PTM annotation"
   ]
  },
  {
   "cell_type": "code",
   "execution_count": 28,
   "metadata": {},
   "outputs": [],
   "source": [
    "# create list of combined database annotations\n",
    "Acetylation_all = set(UP_dict[\"Acetylation\"] + iPTM_dict[\"ACETYLATION\"] + psp_dict[\"Acetylation\"])\n",
    "Glycosylation_all = set(UP_dict[\"Glycoprotein\"] + iPTM_dict[\"GLYCOSYLATION\"] + Glycosylation_PSP)\n",
    "Methylation_all = set(UP_dict[\"Methylation\"] + iPTM_dict[\"METHYLATION\"] + psp_dict[\"Methylation\"])\n",
    "Myristoylation_all = set(UP_dict[\"Myristate\"] + iPTM_dict[\"MYRISTOYLATION\"])\n",
    "Nitrosylation_all = set(UP_dict[\"S-nitrosylation\"] + iPTM_dict[\"S-NITROSYLATION\"])                  \n",
    "Palmitoylation_all = set(UP_dict[\"Palmitate\"] + SwissPalm_list)\n",
    "Phosphorylation_all = set(UP_dict[\"Phosphoprotein\"] + iPTM_dict[\"PHOSPHORYLATION\"] + psp_dict[\"Phosphorylation\"])\n",
    "SUMOylation_all = set(iPTM_dict[\"SUMOYLATION\"] + psp_dict[\"Sumoylation\"])\n",
    "Ubiquitination_all = set(iPTM_dict[\"UBIQUITINATION\"] + psp_dict[\"Ubiquitination\"])\n",
    "\n",
    "df_features['Acetylation_all'] = np.where(df_features['id'].isin(Acetylation_all), 1, 0)\n",
    "df_features['Glycosylation_all'] = np.where(df_features['id'].isin(Glycosylation_all), 1, 0)\n",
    "df_features['Methylation_all'] = np.where(df_features['id'].isin(Methylation_all), 1, 0)\n",
    "df_features['Myristoylation_all'] = np.where(df_features['id'].isin(Myristoylation_all), 1, 0)\n",
    "df_features['Nitrosylation_all'] = np.where(df_features['id'].isin(Nitrosylation_all), 1, 0)\n",
    "df_features['Palmitoylation_all'] = np.where(df_features['id'].isin(Palmitoylation_all), 1, 0)\n",
    "df_features['Phosphorylation_all'] = np.where(df_features['id'].isin(Phosphorylation_all), 1, 0)\n",
    "df_features['SUMOylation_all'] = np.where(df_features['id'].isin(SUMOylation_all), 1, 0)\n",
    "df_features['Ubiquitination_all'] = np.where(df_features['id'].isin(Ubiquitination_all), 1, 0)"
   ]
  },
  {
   "cell_type": "code",
   "execution_count": 29,
   "metadata": {},
   "outputs": [
    {
     "name": "stdout",
     "output_type": "stream",
     "text": [
      "Number of annotations in feature dataset\n",
      "Acetylation: 7950\n",
      "Glycosylation: 4892\n",
      "Methylation: 5683\n",
      "Myristoylation: 196\n",
      "Nitrosylation: 1223\n",
      "Palmitoylation: 3705\n",
      "Phosphorylation: 17524\n",
      "Palmitoylation: 3705\n",
      "Ubiquitination: 11709\n"
     ]
    }
   ],
   "source": [
    "print(\"Number of annotations in feature dataset\")\n",
    "print(\"Acetylation:\", sum(df_features['Acetylation_all']))\n",
    "print(\"Glycosylation:\", sum(df_features['Glycosylation_all']))\n",
    "print(\"Methylation:\", sum(df_features['Methylation_all']))\n",
    "print(\"Myristoylation:\", sum(df_features['Myristoylation_all']))\n",
    "print(\"Nitrosylation:\", sum(df_features['Nitrosylation_all']))\n",
    "print(\"Palmitoylation:\", sum(df_features['Palmitoylation_all']))\n",
    "print(\"Phosphorylation:\", sum(df_features['Phosphorylation_all']))\n",
    "print(\"Palmitoylation:\", sum(df_features['Palmitoylation_all']))\n",
    "print(\"Ubiquitination:\", sum(df_features['Ubiquitination_all']))"
   ]
  },
  {
   "cell_type": "markdown",
   "metadata": {},
   "source": [
    "#### MusiteDeep (PTM prediction)\n",
    "\n",
    "Wang D, Liu D, Yuchi J, He F, Jiang Y, Cai S, Li J, Xu D. MusiteDeep: a deep-learning based webserver for protein post-translational modification site prediction and visualization. Nucleic Acids Res. 2020 Jul 2;48(W1):W140-W146. doi: https://doi.org/10.1093/nar/gkaa275"
   ]
  },
  {
   "cell_type": "code",
   "execution_count": 30,
   "metadata": {},
   "outputs": [],
   "source": [
    "# load PTM prediction dataset\n",
    "MSP = pd.read_csv(Data_path + '/Features/PTM_MusiteDeep_75.csv', sep=',', engine='python')\n",
    "MSP.rename(columns={'ID':'id'}, inplace=True)\n",
    "\n",
    "# merge PTM predictions with feature dataset\n",
    "df_features = df_features.merge(MSP, how='left', on='id')\n",
    "\n",
    "# change any NA values to 0\n",
    "df_features = df_features.fillna(0)\n",
    "\n",
    "# convert PTM count to 0/1 annotation\n",
    "df_features['PTM_count'] = np.where(df_features['PTM_count'] > 0, 1, 0)\n",
    "# rename columns\n",
    "df_features.rename(columns = {'PTM_count':'PTM_MSD', 'Acetyllysine_MSD':'Acetylation_MSD'}, inplace=True)\n",
    "# drop MSD predictions with no annotation \n",
    "df_features = df_features.drop(columns=['Hydroxylation_MSD', 'Pyrrolidone_carboxylic_acid_MSD']) "
   ]
  },
  {
   "cell_type": "markdown",
   "metadata": {},
   "source": [
    "### PROSITE domains\n",
    "\n",
    "- Coiled coil domain\n",
    "- EGF\n",
    "- RRM\n",
    "- RAS profile\n",
    "- WW domain"
   ]
  },
  {
   "cell_type": "code",
   "execution_count": 31,
   "metadata": {},
   "outputs": [],
   "source": [
    "PROSITE_path = Data_path + '/Features/PROSITE/matched_domains/'\n",
    "files_PROSITE = [f for f in os.listdir(PROSITE_path) if os.path.isfile(os.path.join(PROSITE_path, f))]\n",
    "\n",
    "for file in files_PROSITE[0:]:\n",
    "    domain = ''.join(file.split('.')[:-1])\n",
    "    file = pd.read_csv(PROSITE_path + file, sep='\\t', engine='python', header=None)\n",
    "    domain_set = set(file[0])\n",
    "    df_features[domain] = np.where(df_features['id'].isin(domain_set), 1, 0)"
   ]
  },
  {
   "cell_type": "markdown",
   "metadata": {},
   "source": [
    "### Transmembrane annotations"
   ]
  },
  {
   "cell_type": "code",
   "execution_count": 32,
   "metadata": {},
   "outputs": [
    {
     "name": "stdout",
     "output_type": "stream",
     "text": [
      "Number of transmembrane proteins in feature dataset: 6316\n"
     ]
    }
   ],
   "source": [
    "# import data (tm=transmembrane)\n",
    "tm = Data_path + '/Features/UniProt/TM_proteins.tab'\n",
    "tm = pd.read_csv(tm, sep='\\t', engine='python')\n",
    "tm_proteins = list(tm['Entry'])\n",
    "\n",
    "# add a column 1/0\n",
    "df_features['transmembrane'] = np.where(df_features['id'].isin(tm_proteins), 1, 0)\n",
    "print('Number of transmembrane proteins in feature dataset:', sum(df_features['transmembrane']))"
   ]
  },
  {
   "cell_type": "markdown",
   "metadata": {},
   "source": [
    "### Transmembrane predictions (TMHMM)"
   ]
  },
  {
   "cell_type": "code",
   "execution_count": 33,
   "metadata": {},
   "outputs": [
    {
     "name": "stdout",
     "output_type": "stream",
     "text": [
      "Number of transmembrane proteins predicted by TMHMM: 5279\n"
     ]
    }
   ],
   "source": [
    "# import data (tm=transmembrane)\n",
    "TMHMM = Data_path + '/Features/TMHMM_tmp.csv'\n",
    "TMHMM = pd.read_csv(TMHMM, sep=',')\n",
    "\n",
    "TMHMM_list = list(TMHMM['id'])\n",
    "# add a column 1/0\n",
    "df_features['TMHMM'] = np.where(df_features['id'].isin(TMHMM_list), 1, 0)\n",
    "print('Number of transmembrane proteins predicted by TMHMM:', sum(df_features['TMHMM']))"
   ]
  },
  {
   "cell_type": "markdown",
   "metadata": {},
   "source": [
    "## Data preprocessing "
   ]
  },
  {
   "cell_type": "markdown",
   "metadata": {},
   "source": [
    "### Normalization"
   ]
  },
  {
   "cell_type": "code",
   "execution_count": 34,
   "metadata": {},
   "outputs": [],
   "source": [
    "df_normalized = df_features.copy()\n",
    "\n",
    "features_count = ['A', 'C', 'D', 'E', 'F', 'G', 'H', 'I', 'K', 'L', 'M', 'N', 'P', 'Q', 'R', 'S', 'T', 'V', 'W', 'Y',\n",
    "                  'hydr_count', 'polar_count']\n",
    "\n",
    "# normalize amino acid count features by length\n",
    "for feature in features_count:\n",
    "    df_normalized[feature] = df_normalized[feature]/df_normalized.length"
   ]
  },
  {
   "cell_type": "code",
   "execution_count": 35,
   "metadata": {},
   "outputs": [],
   "source": [
    "features_exposed = ['A_exposed', 'C_exposed', 'D_exposed', 'E_exposed', 'F_exposed', 'G_exposed', 'H_exposed', \n",
    "                    'I_exposed', 'K_exposed', 'L_exposed', 'M_exposed', 'N_exposed', 'P_exposed', 'Q_exposed', \n",
    "                    'R_exposed', 'S_exposed', 'T_exposed', 'V_exposed', 'W_exposed', 'Y_exposed']\n",
    "\n",
    "hydrophobic = ['A_exposed', 'C_exposed', 'F_exposed', 'L_exposed', 'I_exposed', 'M_exposed', 'V_exposed', \n",
    "               'W_exposed', 'Y_exposed']\n",
    "\n",
    "polar = ['D_exposed', 'E_exposed', 'H_exposed', 'K_exposed', 'N_exposed', 'Q_exposed', 'R_exposed', 'T_exposed']\n",
    "\n",
    "# create a sum of exposed AA column\n",
    "df_normalized['Sum_AA_exposed'] = df_normalized[features_exposed].sum(axis=1)\n",
    "\n",
    "# create a column for polar and hydrophobic exposed AA counts and normalise it\n",
    "df_normalized['Polar_exposed'] = df_normalized[polar].sum(axis=1)\n",
    "df_normalized['Polar_exposed'] = df_normalized['Polar_exposed']/df_normalized['Sum_AA_exposed']\n",
    "\n",
    "df_normalized['Hydrophobic_exposed'] = df_normalized[hydrophobic].sum(axis=1)\n",
    "df_normalized['Hydrophobic_exposed'] = df_normalized['Hydrophobic_exposed']/df_normalized['Sum_AA_exposed']\n",
    "\n",
    "for i, feature in enumerate(features_exposed):\n",
    "    df_normalized[feature] = df_normalized[feature]/df_normalized['Sum_AA_exposed']"
   ]
  },
  {
   "cell_type": "code",
   "execution_count": 36,
   "metadata": {},
   "outputs": [],
   "source": [
    "# handle infinity values as missing values\n",
    "pd.options.mode.use_inf_as_na = True\n",
    "# change any NA values to 0, caused by division by 0\n",
    "df_normalized = df_normalized.fillna(0)\n",
    "# drop the summed column\n",
    "df_normalized = df_normalized.drop(columns=['Sum_AA_exposed'])"
   ]
  },
  {
   "cell_type": "markdown",
   "metadata": {},
   "source": [
    "### Logarithmic transformation"
   ]
  },
  {
   "cell_type": "code",
   "execution_count": 37,
   "metadata": {},
   "outputs": [],
   "source": [
    "df_log = df_normalized.copy()\n",
    "df_log['length'] = df_log['length'].transform(np.log2)\n",
    "df_log['molecular_weight'] = df_log['molecular_weight'].transform(np.log2)\n",
    "df_log['tasa_netsurfp2'] = df_log['tasa_netsurfp2'].transform(np.log2)\n",
    "df_log['thsa_netsurfp2'] = df_log['thsa_netsurfp2'].transform(np.log2)"
   ]
  },
  {
   "cell_type": "code",
   "execution_count": 38,
   "metadata": {},
   "outputs": [
    {
     "data": {
      "text/html": [
       "<div>\n",
       "<style scoped>\n",
       "    .dataframe tbody tr th:only-of-type {\n",
       "        vertical-align: middle;\n",
       "    }\n",
       "\n",
       "    .dataframe tbody tr th {\n",
       "        vertical-align: top;\n",
       "    }\n",
       "\n",
       "    .dataframe thead th {\n",
       "        text-align: right;\n",
       "    }\n",
       "</style>\n",
       "<table border=\"1\" class=\"dataframe\">\n",
       "  <thead>\n",
       "    <tr style=\"text-align: right;\">\n",
       "      <th></th>\n",
       "      <th>length</th>\n",
       "      <th>molecular_weight</th>\n",
       "      <th>tasa_netsurfp2</th>\n",
       "      <th>thsa_netsurfp2</th>\n",
       "    </tr>\n",
       "  </thead>\n",
       "  <tbody>\n",
       "    <tr>\n",
       "      <th>count</th>\n",
       "      <td>20381.000000</td>\n",
       "      <td>20381.000000</td>\n",
       "      <td>20381.000000</td>\n",
       "      <td>20381.000000</td>\n",
       "    </tr>\n",
       "    <tr>\n",
       "      <th>mean</th>\n",
       "      <td>8.669155</td>\n",
       "      <td>15.685170</td>\n",
       "      <td>14.682639</td>\n",
       "      <td>12.842945</td>\n",
       "    </tr>\n",
       "    <tr>\n",
       "      <th>std</th>\n",
       "      <td>1.134623</td>\n",
       "      <td>1.135034</td>\n",
       "      <td>1.054951</td>\n",
       "      <td>0.961493</td>\n",
       "    </tr>\n",
       "    <tr>\n",
       "      <th>min</th>\n",
       "      <td>1.000000</td>\n",
       "      <td>8.120497</td>\n",
       "      <td>8.356479</td>\n",
       "      <td>7.222158</td>\n",
       "    </tr>\n",
       "    <tr>\n",
       "      <th>25%</th>\n",
       "      <td>7.960002</td>\n",
       "      <td>14.978191</td>\n",
       "      <td>13.996420</td>\n",
       "      <td>12.198453</td>\n",
       "    </tr>\n",
       "    <tr>\n",
       "      <th>50%</th>\n",
       "      <td>8.696968</td>\n",
       "      <td>15.712038</td>\n",
       "      <td>14.620437</td>\n",
       "      <td>12.853003</td>\n",
       "    </tr>\n",
       "    <tr>\n",
       "      <th>75%</th>\n",
       "      <td>9.388017</td>\n",
       "      <td>16.406327</td>\n",
       "      <td>15.362288</td>\n",
       "      <td>13.440654</td>\n",
       "    </tr>\n",
       "    <tr>\n",
       "      <th>max</th>\n",
       "      <td>13.824462</td>\n",
       "      <td>20.763749</td>\n",
       "      <td>19.447881</td>\n",
       "      <td>17.275738</td>\n",
       "    </tr>\n",
       "  </tbody>\n",
       "</table>\n",
       "</div>"
      ],
      "text/plain": [
       "             length  molecular_weight  tasa_netsurfp2  thsa_netsurfp2\n",
       "count  20381.000000      20381.000000    20381.000000    20381.000000\n",
       "mean       8.669155         15.685170       14.682639       12.842945\n",
       "std        1.134623          1.135034        1.054951        0.961493\n",
       "min        1.000000          8.120497        8.356479        7.222158\n",
       "25%        7.960002         14.978191       13.996420       12.198453\n",
       "50%        8.696968         15.712038       14.620437       12.853003\n",
       "75%        9.388017         16.406327       15.362288       13.440654\n",
       "max       13.824462         20.763749       19.447881       17.275738"
      ]
     },
     "execution_count": 38,
     "metadata": {},
     "output_type": "execute_result"
    }
   ],
   "source": [
    "df_log.dropna(inplace=True)\n",
    "df_log[['length', 'molecular_weight', 'tasa_netsurfp2', 'thsa_netsurfp2']].describe()"
   ]
  },
  {
   "cell_type": "markdown",
   "metadata": {},
   "source": [
    "## Application of MS filter\n",
    "\n",
    "According to ProteomicsDB (https://www.proteomicsdb.org/#api), the following evidence classes exist:\n",
    "- 0: not observed\n",
    "- 1: observed with low scoring spectra \n",
    "- 2: observed with high quality spectra\n",
    "\n",
    "Only proteins with observed spectra are retained to limit the bias caused by mass spectrometry detectability."
   ]
  },
  {
   "cell_type": "code",
   "execution_count": 39,
   "metadata": {},
   "outputs": [],
   "source": [
    "# load evidence ProteomicsDB data\n",
    "with open(Data_path + '/ProteomicsDB/ProteomicsDB_evidence_positive.txt') as f:\n",
    "    ProteomicsDB_evidence_positive = json.load(f)"
   ]
  },
  {
   "cell_type": "code",
   "execution_count": 40,
   "metadata": {},
   "outputs": [
    {
     "name": "stdout",
     "output_type": "stream",
     "text": [
      "Number of proteins in positive set: 18997\n",
      "Number of MS-detectable proteins in positive set with evidence score of 1 or higher: 16791\n"
     ]
    }
   ],
   "source": [
    "# create list of proteins with evidence on ProteomicsDB\n",
    "pos = set(ProteomicsDB_evidence_positive.keys())\n",
    "pos_filtered_low = set([k for k, v in ProteomicsDB_evidence_positive.items() if v > 0])\n",
    "print('Number of proteins in positive set:', len(pos))\n",
    "print('Number of MS-detectable proteins in positive set with evidence score of 1 or higher:', len(pos_filtered_low))"
   ]
  },
  {
   "cell_type": "code",
   "execution_count": 41,
   "metadata": {},
   "outputs": [
    {
     "name": "stdout",
     "output_type": "stream",
     "text": [
      "Number of MS-detectable proteins in human proteome dataset: 16790\n"
     ]
    }
   ],
   "source": [
    "# filter feature dataset for MS detected proteins\n",
    "df_MS_filtered = df_log[df_log['id'].isin(pos_filtered_low)]\n",
    "print('Number of MS-detectable proteins in human proteome dataset:', len(df_MS_filtered))"
   ]
  },
  {
   "cell_type": "markdown",
   "metadata": {},
   "source": [
    "# Save final feature data set"
   ]
  },
  {
   "cell_type": "code",
   "execution_count": 42,
   "metadata": {},
   "outputs": [
    {
     "data": {
      "text/html": [
       "<div>\n",
       "<style scoped>\n",
       "    .dataframe tbody tr th:only-of-type {\n",
       "        vertical-align: middle;\n",
       "    }\n",
       "\n",
       "    .dataframe tbody tr th {\n",
       "        vertical-align: top;\n",
       "    }\n",
       "\n",
       "    .dataframe thead th {\n",
       "        text-align: right;\n",
       "    }\n",
       "</style>\n",
       "<table border=\"1\" class=\"dataframe\">\n",
       "  <thead>\n",
       "    <tr style=\"text-align: right;\">\n",
       "      <th></th>\n",
       "      <th>id</th>\n",
       "      <th>length</th>\n",
       "      <th>hydr_count</th>\n",
       "      <th>polar_count</th>\n",
       "      <th>molecular_weight</th>\n",
       "      <th>helix</th>\n",
       "      <th>turn</th>\n",
       "      <th>sheet</th>\n",
       "      <th>A</th>\n",
       "      <th>C</th>\n",
       "      <th>...</th>\n",
       "      <th>Methylation_MSD</th>\n",
       "      <th>coiled_coil</th>\n",
       "      <th>EGF</th>\n",
       "      <th>RAS_profile</th>\n",
       "      <th>RRM</th>\n",
       "      <th>ww_domain</th>\n",
       "      <th>transmembrane</th>\n",
       "      <th>TMHMM</th>\n",
       "      <th>Polar_exposed</th>\n",
       "      <th>Hydrophobic_exposed</th>\n",
       "    </tr>\n",
       "  </thead>\n",
       "  <tbody>\n",
       "    <tr>\n",
       "      <th>0</th>\n",
       "      <td>Q8N7X0</td>\n",
       "      <td>10.703038</td>\n",
       "      <td>0.376125</td>\n",
       "      <td>0.431314</td>\n",
       "      <td>17.745289</td>\n",
       "      <td>0.225555</td>\n",
       "      <td>0.604079</td>\n",
       "      <td>0.170366</td>\n",
       "      <td>0.056989</td>\n",
       "      <td>0.011398</td>\n",
       "      <td>...</td>\n",
       "      <td>1.0</td>\n",
       "      <td>0</td>\n",
       "      <td>0</td>\n",
       "      <td>0</td>\n",
       "      <td>0</td>\n",
       "      <td>0</td>\n",
       "      <td>0</td>\n",
       "      <td>0</td>\n",
       "      <td>0.597984</td>\n",
       "      <td>0.161254</td>\n",
       "    </tr>\n",
       "    <tr>\n",
       "      <th>1</th>\n",
       "      <td>Q5T1N1</td>\n",
       "      <td>9.707359</td>\n",
       "      <td>0.290670</td>\n",
       "      <td>0.479665</td>\n",
       "      <td>16.719373</td>\n",
       "      <td>0.183014</td>\n",
       "      <td>0.777512</td>\n",
       "      <td>0.039474</td>\n",
       "      <td>0.052632</td>\n",
       "      <td>0.021531</td>\n",
       "      <td>...</td>\n",
       "      <td>1.0</td>\n",
       "      <td>0</td>\n",
       "      <td>0</td>\n",
       "      <td>0</td>\n",
       "      <td>0</td>\n",
       "      <td>0</td>\n",
       "      <td>0</td>\n",
       "      <td>0</td>\n",
       "      <td>0.570968</td>\n",
       "      <td>0.162903</td>\n",
       "    </tr>\n",
       "    <tr>\n",
       "      <th>2</th>\n",
       "      <td>Q92667</td>\n",
       "      <td>9.818582</td>\n",
       "      <td>0.376523</td>\n",
       "      <td>0.370986</td>\n",
       "      <td>16.793404</td>\n",
       "      <td>0.079734</td>\n",
       "      <td>0.805094</td>\n",
       "      <td>0.115172</td>\n",
       "      <td>0.079734</td>\n",
       "      <td>0.018826</td>\n",
       "      <td>...</td>\n",
       "      <td>0.0</td>\n",
       "      <td>1</td>\n",
       "      <td>0</td>\n",
       "      <td>0</td>\n",
       "      <td>0</td>\n",
       "      <td>0</td>\n",
       "      <td>1</td>\n",
       "      <td>1</td>\n",
       "      <td>0.447738</td>\n",
       "      <td>0.263651</td>\n",
       "    </tr>\n",
       "    <tr>\n",
       "      <th>3</th>\n",
       "      <td>Q5VUY0</td>\n",
       "      <td>8.668885</td>\n",
       "      <td>0.511057</td>\n",
       "      <td>0.312039</td>\n",
       "      <td>15.706400</td>\n",
       "      <td>0.491400</td>\n",
       "      <td>0.380835</td>\n",
       "      <td>0.127764</td>\n",
       "      <td>0.058968</td>\n",
       "      <td>0.039312</td>\n",
       "      <td>...</td>\n",
       "      <td>0.0</td>\n",
       "      <td>0</td>\n",
       "      <td>0</td>\n",
       "      <td>0</td>\n",
       "      <td>0</td>\n",
       "      <td>0</td>\n",
       "      <td>0</td>\n",
       "      <td>1</td>\n",
       "      <td>0.560000</td>\n",
       "      <td>0.256000</td>\n",
       "    </tr>\n",
       "    <tr>\n",
       "      <th>4</th>\n",
       "      <td>P62736</td>\n",
       "      <td>8.558421</td>\n",
       "      <td>0.427056</td>\n",
       "      <td>0.379310</td>\n",
       "      <td>15.574035</td>\n",
       "      <td>0.445623</td>\n",
       "      <td>0.347480</td>\n",
       "      <td>0.206897</td>\n",
       "      <td>0.076923</td>\n",
       "      <td>0.018568</td>\n",
       "      <td>...</td>\n",
       "      <td>1.0</td>\n",
       "      <td>0</td>\n",
       "      <td>0</td>\n",
       "      <td>0</td>\n",
       "      <td>0</td>\n",
       "      <td>0</td>\n",
       "      <td>0</td>\n",
       "      <td>0</td>\n",
       "      <td>0.682540</td>\n",
       "      <td>0.111111</td>\n",
       "    </tr>\n",
       "  </tbody>\n",
       "</table>\n",
       "<p>5 rows × 95 columns</p>\n",
       "</div>"
      ],
      "text/plain": [
       "       id     length  hydr_count  polar_count  molecular_weight     helix  \\\n",
       "0  Q8N7X0  10.703038    0.376125     0.431314         17.745289  0.225555   \n",
       "1  Q5T1N1   9.707359    0.290670     0.479665         16.719373  0.183014   \n",
       "2  Q92667   9.818582    0.376523     0.370986         16.793404  0.079734   \n",
       "3  Q5VUY0   8.668885    0.511057     0.312039         15.706400  0.491400   \n",
       "4  P62736   8.558421    0.427056     0.379310         15.574035  0.445623   \n",
       "\n",
       "       turn     sheet         A         C  ...  Methylation_MSD  coiled_coil  \\\n",
       "0  0.604079  0.170366  0.056989  0.011398  ...              1.0            0   \n",
       "1  0.777512  0.039474  0.052632  0.021531  ...              1.0            0   \n",
       "2  0.805094  0.115172  0.079734  0.018826  ...              0.0            1   \n",
       "3  0.380835  0.127764  0.058968  0.039312  ...              0.0            0   \n",
       "4  0.347480  0.206897  0.076923  0.018568  ...              1.0            0   \n",
       "\n",
       "   EGF  RAS_profile  RRM  ww_domain  transmembrane  TMHMM  Polar_exposed  \\\n",
       "0    0            0    0          0              0      0       0.597984   \n",
       "1    0            0    0          0              0      0       0.570968   \n",
       "2    0            0    0          0              1      1       0.447738   \n",
       "3    0            0    0          0              0      1       0.560000   \n",
       "4    0            0    0          0              0      0       0.682540   \n",
       "\n",
       "   Hydrophobic_exposed  \n",
       "0             0.161254  \n",
       "1             0.162903  \n",
       "2             0.263651  \n",
       "3             0.256000  \n",
       "4             0.111111  \n",
       "\n",
       "[5 rows x 95 columns]"
      ]
     },
     "execution_count": 42,
     "metadata": {},
     "output_type": "execute_result"
    }
   ],
   "source": [
    "df_log[:5] # unfiltered human proteome dataset"
   ]
  },
  {
   "cell_type": "code",
   "execution_count": 43,
   "metadata": {},
   "outputs": [
    {
     "data": {
      "text/html": [
       "<div>\n",
       "<style scoped>\n",
       "    .dataframe tbody tr th:only-of-type {\n",
       "        vertical-align: middle;\n",
       "    }\n",
       "\n",
       "    .dataframe tbody tr th {\n",
       "        vertical-align: top;\n",
       "    }\n",
       "\n",
       "    .dataframe thead th {\n",
       "        text-align: right;\n",
       "    }\n",
       "</style>\n",
       "<table border=\"1\" class=\"dataframe\">\n",
       "  <thead>\n",
       "    <tr style=\"text-align: right;\">\n",
       "      <th></th>\n",
       "      <th>id</th>\n",
       "      <th>length</th>\n",
       "      <th>hydr_count</th>\n",
       "      <th>polar_count</th>\n",
       "      <th>molecular_weight</th>\n",
       "      <th>helix</th>\n",
       "      <th>turn</th>\n",
       "      <th>sheet</th>\n",
       "      <th>A</th>\n",
       "      <th>C</th>\n",
       "      <th>...</th>\n",
       "      <th>Methylation_MSD</th>\n",
       "      <th>coiled_coil</th>\n",
       "      <th>EGF</th>\n",
       "      <th>RAS_profile</th>\n",
       "      <th>RRM</th>\n",
       "      <th>ww_domain</th>\n",
       "      <th>transmembrane</th>\n",
       "      <th>TMHMM</th>\n",
       "      <th>Polar_exposed</th>\n",
       "      <th>Hydrophobic_exposed</th>\n",
       "    </tr>\n",
       "  </thead>\n",
       "  <tbody>\n",
       "    <tr>\n",
       "      <th>2</th>\n",
       "      <td>Q92667</td>\n",
       "      <td>9.818582</td>\n",
       "      <td>0.376523</td>\n",
       "      <td>0.370986</td>\n",
       "      <td>16.793404</td>\n",
       "      <td>0.079734</td>\n",
       "      <td>0.805094</td>\n",
       "      <td>0.115172</td>\n",
       "      <td>0.079734</td>\n",
       "      <td>0.018826</td>\n",
       "      <td>...</td>\n",
       "      <td>0.0</td>\n",
       "      <td>1</td>\n",
       "      <td>0</td>\n",
       "      <td>0</td>\n",
       "      <td>0</td>\n",
       "      <td>0</td>\n",
       "      <td>1</td>\n",
       "      <td>1</td>\n",
       "      <td>0.447738</td>\n",
       "      <td>0.263651</td>\n",
       "    </tr>\n",
       "    <tr>\n",
       "      <th>4</th>\n",
       "      <td>P62736</td>\n",
       "      <td>8.558421</td>\n",
       "      <td>0.427056</td>\n",
       "      <td>0.379310</td>\n",
       "      <td>15.574035</td>\n",
       "      <td>0.445623</td>\n",
       "      <td>0.347480</td>\n",
       "      <td>0.206897</td>\n",
       "      <td>0.076923</td>\n",
       "      <td>0.018568</td>\n",
       "      <td>...</td>\n",
       "      <td>1.0</td>\n",
       "      <td>0</td>\n",
       "      <td>0</td>\n",
       "      <td>0</td>\n",
       "      <td>0</td>\n",
       "      <td>0</td>\n",
       "      <td>0</td>\n",
       "      <td>0</td>\n",
       "      <td>0.682540</td>\n",
       "      <td>0.111111</td>\n",
       "    </tr>\n",
       "    <tr>\n",
       "      <th>5</th>\n",
       "      <td>Q9H553</td>\n",
       "      <td>8.700440</td>\n",
       "      <td>0.471154</td>\n",
       "      <td>0.358173</td>\n",
       "      <td>15.735720</td>\n",
       "      <td>0.485577</td>\n",
       "      <td>0.375000</td>\n",
       "      <td>0.139423</td>\n",
       "      <td>0.072115</td>\n",
       "      <td>0.028846</td>\n",
       "      <td>...</td>\n",
       "      <td>1.0</td>\n",
       "      <td>0</td>\n",
       "      <td>0</td>\n",
       "      <td>0</td>\n",
       "      <td>0</td>\n",
       "      <td>0</td>\n",
       "      <td>1</td>\n",
       "      <td>0</td>\n",
       "      <td>0.614286</td>\n",
       "      <td>0.185714</td>\n",
       "    </tr>\n",
       "    <tr>\n",
       "      <th>6</th>\n",
       "      <td>P0C7M7</td>\n",
       "      <td>9.179909</td>\n",
       "      <td>0.424138</td>\n",
       "      <td>0.379310</td>\n",
       "      <td>16.216178</td>\n",
       "      <td>0.320690</td>\n",
       "      <td>0.448276</td>\n",
       "      <td>0.231034</td>\n",
       "      <td>0.058621</td>\n",
       "      <td>0.022414</td>\n",
       "      <td>...</td>\n",
       "      <td>0.0</td>\n",
       "      <td>0</td>\n",
       "      <td>0</td>\n",
       "      <td>0</td>\n",
       "      <td>0</td>\n",
       "      <td>0</td>\n",
       "      <td>0</td>\n",
       "      <td>0</td>\n",
       "      <td>0.661111</td>\n",
       "      <td>0.088889</td>\n",
       "    </tr>\n",
       "    <tr>\n",
       "      <th>7</th>\n",
       "      <td>P49703</td>\n",
       "      <td>7.651052</td>\n",
       "      <td>0.417910</td>\n",
       "      <td>0.402985</td>\n",
       "      <td>14.652697</td>\n",
       "      <td>0.328358</td>\n",
       "      <td>0.477612</td>\n",
       "      <td>0.194030</td>\n",
       "      <td>0.099502</td>\n",
       "      <td>0.004975</td>\n",
       "      <td>...</td>\n",
       "      <td>1.0</td>\n",
       "      <td>0</td>\n",
       "      <td>0</td>\n",
       "      <td>0</td>\n",
       "      <td>0</td>\n",
       "      <td>0</td>\n",
       "      <td>0</td>\n",
       "      <td>0</td>\n",
       "      <td>0.567010</td>\n",
       "      <td>0.195876</td>\n",
       "    </tr>\n",
       "  </tbody>\n",
       "</table>\n",
       "<p>5 rows × 95 columns</p>\n",
       "</div>"
      ],
      "text/plain": [
       "       id    length  hydr_count  polar_count  molecular_weight     helix  \\\n",
       "2  Q92667  9.818582    0.376523     0.370986         16.793404  0.079734   \n",
       "4  P62736  8.558421    0.427056     0.379310         15.574035  0.445623   \n",
       "5  Q9H553  8.700440    0.471154     0.358173         15.735720  0.485577   \n",
       "6  P0C7M7  9.179909    0.424138     0.379310         16.216178  0.320690   \n",
       "7  P49703  7.651052    0.417910     0.402985         14.652697  0.328358   \n",
       "\n",
       "       turn     sheet         A         C  ...  Methylation_MSD  coiled_coil  \\\n",
       "2  0.805094  0.115172  0.079734  0.018826  ...              0.0            1   \n",
       "4  0.347480  0.206897  0.076923  0.018568  ...              1.0            0   \n",
       "5  0.375000  0.139423  0.072115  0.028846  ...              1.0            0   \n",
       "6  0.448276  0.231034  0.058621  0.022414  ...              0.0            0   \n",
       "7  0.477612  0.194030  0.099502  0.004975  ...              1.0            0   \n",
       "\n",
       "   EGF  RAS_profile  RRM  ww_domain  transmembrane  TMHMM  Polar_exposed  \\\n",
       "2    0            0    0          0              1      1       0.447738   \n",
       "4    0            0    0          0              0      0       0.682540   \n",
       "5    0            0    0          0              1      0       0.614286   \n",
       "6    0            0    0          0              0      0       0.661111   \n",
       "7    0            0    0          0              0      0       0.567010   \n",
       "\n",
       "   Hydrophobic_exposed  \n",
       "2             0.263651  \n",
       "4             0.111111  \n",
       "5             0.185714  \n",
       "6             0.088889  \n",
       "7             0.195876  \n",
       "\n",
       "[5 rows x 95 columns]"
      ]
     },
     "execution_count": 43,
     "metadata": {},
     "output_type": "execute_result"
    }
   ],
   "source": [
    "df_MS_filtered[:5] # filtered human proteome dataset"
   ]
  },
  {
   "cell_type": "code",
   "execution_count": 44,
   "metadata": {},
   "outputs": [],
   "source": [
    "# save final unfiltered feature dataset\n",
    "df_log.to_csv(Data_path + '/curated/features_human_proteome.csv', index=False)\n",
    "\n",
    "# save final MS filtered feature dataset\n",
    "df_MS_filtered.to_csv(Data_path + '/curated/features_human_proteome_MS_filter.csv', index=False)"
   ]
  }
 ],
 "metadata": {
  "kernelspec": {
   "display_name": "Python 3",
   "language": "python",
   "name": "python3"
  },
  "language_info": {
   "codemirror_mode": {
    "name": "ipython",
    "version": 3
   },
   "file_extension": ".py",
   "mimetype": "text/x-python",
   "name": "python",
   "nbconvert_exporter": "python",
   "pygments_lexer": "ipython3",
   "version": "3.8.5"
  }
 },
 "nbformat": 4,
 "nbformat_minor": 4
}
