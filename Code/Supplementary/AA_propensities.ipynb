{
 "cells": [
  {
   "cell_type": "markdown",
   "metadata": {},
   "source": [
    "# Import Libraries"
   ]
  },
  {
   "cell_type": "code",
   "execution_count": 1,
   "metadata": {},
   "outputs": [],
   "source": [
    "import matplotlib.pyplot as plt\n",
    "import numpy as np\n",
    "import pandas as pd\n",
    "import seaborn as sns\n",
    "import sklearn.metrics as metrics\n",
    "import os\n",
    "\n",
    "%matplotlib inline"
   ]
  },
  {
   "cell_type": "markdown",
   "metadata": {},
   "source": [
    "### Amino acid propensities are usually calculated regarding the secondary structure.\n",
    "\n",
    "A propensity between zero and one indicates that an amino acid avoids that type of secondary structure, a propensity of one indicates no preference and a propensity larger than one indicates a strong preference for that secondary structure type.\n",
    "\n",
    "Here we calculate the propensity of an amino acid (1.any and 2.exposed) to be associated with the EVs"
   ]
  },
  {
   "cell_type": "markdown",
   "metadata": {},
   "source": [
    "# Define paths"
   ]
  },
  {
   "cell_type": "code",
   "execution_count": 2,
   "metadata": {},
   "outputs": [],
   "source": [
    "Data_path = os.path.dirname(os.path.dirname(os.getcwd())) + '/Data'"
   ]
  },
  {
   "cell_type": "markdown",
   "metadata": {},
   "source": [
    "# Import data sets\n",
    "\n",
    "I need the curated datasets but there we already calculated fractions. I need actualy numbers of aa residues, therefore I need to fetch those numbers from the unfiltered datasets."
   ]
  },
  {
   "cell_type": "code",
   "execution_count": 3,
   "metadata": {},
   "outputs": [],
   "source": [
    "df_all = Data_path + '/MachineLearning/training_data.csv' \n",
    "df_all = pd.read_csv(df_all, sep=',', engine='python')\n",
    "df_all = df_all[['id','EV']]"
   ]
  },
  {
   "cell_type": "code",
   "execution_count": 5,
   "metadata": {},
   "outputs": [],
   "source": [
    "# import NSP2 predictions for human genome\n",
    "nsp = Data_path + '/Raw/NSP2_complete.tab'\n",
    "df_features = pd.read_csv(nsp, sep='\\t', engine='python') # 20384 proteins, does not include TITIN (NSP2 cannot run such a big protein)\n",
    "df_features = df_features.drop(columns=['PDB', 'q3_H', 'q3_E', 'q3_C', 'on_surface']) # drop ununsed columns"
   ]
  },
  {
   "cell_type": "code",
   "execution_count": 6,
   "metadata": {},
   "outputs": [],
   "source": [
    "# if RSA > 0.4 AA residue is exposed\n",
    "nsp_aa_exposed = Data_path + '/Raw/NSP_exposed_aa.csv'\n",
    "nsp_aa_exposed = pd.read_csv(nsp_aa_exposed, sep=',', engine='python') \n",
    "df_features = pd.merge(df_features, nsp_aa_exposed, on=['id'], how=\"left\") \n",
    "\n",
    "# prop = propensity\n",
    "prop = pd.merge(df_all, df_features, on=['id'], how=\"left\") "
   ]
  },
  {
   "cell_type": "code",
   "execution_count": 8,
   "metadata": {},
   "outputs": [
    {
     "data": {
      "text/plain": [
       "Index(['id', 'EV', 'length', 'hydr_count', 'polar_count', 'molecular_weight',\n",
       "       'helix', 'turn', 'sheet', 'A', 'C', 'D', 'E', 'F', 'G', 'H', 'I', 'K',\n",
       "       'L', 'M', 'N', 'P', 'Q', 'R', 'S', 'T', 'V', 'W', 'Y', 'fasta_sequence',\n",
       "       'thsa_netsurfp2', 'tasa_netsurfp2', 'rhsa_netsurfp2', 'disorder',\n",
       "       'A_exposed', 'C_exposed', 'D_exposed', 'E_exposed', 'F_exposed',\n",
       "       'G_exposed', 'H_exposed', 'I_exposed', 'K_exposed', 'L_exposed',\n",
       "       'M_exposed', 'N_exposed', 'P_exposed', 'Q_exposed', 'R_exposed',\n",
       "       'S_exposed', 'T_exposed', 'V_exposed', 'W_exposed', 'Y_exposed'],\n",
       "      dtype='object')"
      ]
     },
     "execution_count": 8,
     "metadata": {},
     "output_type": "execute_result"
    }
   ],
   "source": [
    "prop.columns"
   ]
  },
  {
   "cell_type": "markdown",
   "metadata": {},
   "source": [
    "# amino acid count"
   ]
  },
  {
   "cell_type": "code",
   "execution_count": 9,
   "metadata": {},
   "outputs": [],
   "source": [
    "prop_df = prop[['id', 'EV', 'A', 'C', 'D','E','F','G','H','I','K',\n",
    "                'L','M','N', 'P','Q','R', 'S','T','V','W','Y']]\n",
    "aa_columns = ['A', 'C', 'D','E','F','G','H','I','K',\n",
    "                'L','M','N', 'P','Q','R', 'S','T','V','W','Y']\n",
    "\n",
    "prop_df['Total'] = prop_df[aa_columns].sum(axis=1)\n",
    "#list(prop.columns)\n",
    "EV = prop_df[prop_df['EV']==1]"
   ]
  },
  {
   "cell_type": "markdown",
   "metadata": {},
   "source": [
    "# Fraction of total number of amino acids to be in EVs"
   ]
  },
  {
   "cell_type": "code",
   "execution_count": 13,
   "metadata": {},
   "outputs": [],
   "source": [
    "n_of_aa_in_EV = sum(EV['Total'])\n",
    "total_aa = sum(prop_df['Total'])# Fraction of amino acids in EVs\n",
    "\n",
    "p_total_EV = n_of_aa_in_EV/total_aa\n",
    "print(p_total_EV)"
   ]
  },
  {
   "cell_type": "markdown",
   "metadata": {},
   "source": [
    "# Fraction of a certain amino acid in EVs"
   ]
  },
  {
   "cell_type": "code",
   "execution_count": 15,
   "metadata": {},
   "outputs": [],
   "source": [
    "propensity_dict = {'AA':[],'Propensity':[]}\n",
    "\n",
    "for aa in aa_columns:\n",
    "    n_of_aa_in_EV = sum(EV[aa])\n",
    "    total_n = sum(prop_df[aa])\n",
    "    p_aa_EV = n_of_aa_in_EV/total_n\n",
    "    propensity = p_aa_EV/p_total_EV\n",
    "    propensity_dict['AA'].append(aa)\n",
    "    propensity_dict['Propensity'].append(propensity)"
   ]
  },
  {
   "cell_type": "code",
   "execution_count": 16,
   "metadata": {},
   "outputs": [],
   "source": [
    "propensities = pd.DataFrame.from_dict(propensity_dict)"
   ]
  },
  {
   "cell_type": "markdown",
   "metadata": {},
   "source": [
    "# Exposed AA propensities"
   ]
  },
  {
   "cell_type": "code",
   "execution_count": 18,
   "metadata": {},
   "outputs": [],
   "source": [
    "prop_exp_df = prop[['id','EV','A_exposed', 'C_exposed', 'D_exposed','E_exposed','F_exposed','G_exposed','H_exposed', 'I_exposed', 'K_exposed', 'L_exposed', 'M_exposed', 'N_exposed', 'P_exposed', 'Q_exposed', 'R_exposed', \n",
    "                    'S_exposed', 'T_exposed', 'V_exposed', 'W_exposed', 'Y_exposed']]\n",
    "\n",
    "exp_aa_columns = ['A_exposed', 'C_exposed', 'D_exposed','E_exposed','F_exposed','G_exposed','H_exposed', 'I_exposed', 'K_exposed', 'L_exposed', 'M_exposed', 'N_exposed', 'P_exposed', 'Q_exposed', 'R_exposed', \n",
    "                    'S_exposed', 'T_exposed', 'V_exposed', 'W_exposed', 'Y_exposed']\n",
    "\n",
    "prop_exp_df['Total'] = prop_exp_df[exp_aa_columns].sum(axis=1)"
   ]
  },
  {
   "cell_type": "code",
   "execution_count": 21,
   "metadata": {},
   "outputs": [],
   "source": [
    "EV = prop_exp_df[prop_exp_df['EV']==1]\n",
    "\n",
    "n_of_aa_in_EV = sum(EV['Total'])\n",
    "total_aa = sum(prop_exp_df['Total'])# Fraction of amino acids in EVs\n",
    "p_total_EV = n_of_aa_in_EV/total_aa\n",
    "print(p_total_EV)"
   ]
  },
  {
   "cell_type": "code",
   "execution_count": 23,
   "metadata": {},
   "outputs": [],
   "source": [
    "exp_propensity_dict = {'AA':[],'Propensity':[]}\n",
    "\n",
    "for aa in exp_aa_columns:\n",
    "    n_of_aa_in_EV = sum(EV[aa])\n",
    "    total_n = sum(prop_exp_df[aa])\n",
    "    p_aa_EV = n_of_aa_in_EV/total_n\n",
    "    propensity = p_aa_EV/p_total_EV\n",
    "    exp_propensity_dict['AA'].append(aa)\n",
    "    exp_propensity_dict['Propensity'].append(propensity)"
   ]
  },
  {
   "cell_type": "code",
   "execution_count": 24,
   "metadata": {},
   "outputs": [],
   "source": [
    "exp_propensities = pd.DataFrame.from_dict(exp_propensity_dict)"
   ]
  },
  {
   "cell_type": "code",
   "execution_count": 25,
   "metadata": {},
   "outputs": [],
   "source": [
    "prop_exp_aa = list(exp_propensities['Propensity'])\n",
    "exp_aa = list(exp_propensities['AA'])\n",
    "propensities['Propensity_exp'] = prop_exp_aa\n",
    "propensities['AA_exp'] = exp_aa"
   ]
  },
  {
   "cell_type": "code",
   "execution_count": 26,
   "metadata": {},
   "outputs": [],
   "source": [
    "propensities['AA propensity'] = propensities['Propensity'] - 1\n",
    "propensities['Exposed AA propensity'] = propensities['Propensity_exp'] - 1"
   ]
  },
  {
   "cell_type": "code",
   "execution_count": 27,
   "metadata": {},
   "outputs": [
    {
     "data": {
      "text/html": [
       "<div>\n",
       "<style scoped>\n",
       "    .dataframe tbody tr th:only-of-type {\n",
       "        vertical-align: middle;\n",
       "    }\n",
       "\n",
       "    .dataframe tbody tr th {\n",
       "        vertical-align: top;\n",
       "    }\n",
       "\n",
       "    .dataframe thead th {\n",
       "        text-align: right;\n",
       "    }\n",
       "</style>\n",
       "<table border=\"1\" class=\"dataframe\">\n",
       "  <thead>\n",
       "    <tr style=\"text-align: right;\">\n",
       "      <th></th>\n",
       "      <th>AA</th>\n",
       "      <th>Propensity</th>\n",
       "      <th>Propensity_exp</th>\n",
       "      <th>AA_exp</th>\n",
       "      <th>AA propensity</th>\n",
       "      <th>Exposed AA propensity</th>\n",
       "    </tr>\n",
       "  </thead>\n",
       "  <tbody>\n",
       "    <tr>\n",
       "      <th>0</th>\n",
       "      <td>A</td>\n",
       "      <td>1.002030</td>\n",
       "      <td>0.987104</td>\n",
       "      <td>A_exposed</td>\n",
       "      <td>0.002030</td>\n",
       "      <td>-0.012896</td>\n",
       "    </tr>\n",
       "    <tr>\n",
       "      <th>1</th>\n",
       "      <td>C</td>\n",
       "      <td>0.944495</td>\n",
       "      <td>0.882839</td>\n",
       "      <td>C_exposed</td>\n",
       "      <td>-0.055505</td>\n",
       "      <td>-0.117161</td>\n",
       "    </tr>\n",
       "    <tr>\n",
       "      <th>2</th>\n",
       "      <td>D</td>\n",
       "      <td>1.032533</td>\n",
       "      <td>1.049858</td>\n",
       "      <td>D_exposed</td>\n",
       "      <td>0.032533</td>\n",
       "      <td>0.049858</td>\n",
       "    </tr>\n",
       "    <tr>\n",
       "      <th>3</th>\n",
       "      <td>E</td>\n",
       "      <td>1.015695</td>\n",
       "      <td>1.031736</td>\n",
       "      <td>E_exposed</td>\n",
       "      <td>0.015695</td>\n",
       "      <td>0.031736</td>\n",
       "    </tr>\n",
       "    <tr>\n",
       "      <th>4</th>\n",
       "      <td>F</td>\n",
       "      <td>0.984267</td>\n",
       "      <td>0.929248</td>\n",
       "      <td>F_exposed</td>\n",
       "      <td>-0.015733</td>\n",
       "      <td>-0.070752</td>\n",
       "    </tr>\n",
       "    <tr>\n",
       "      <th>5</th>\n",
       "      <td>G</td>\n",
       "      <td>1.011632</td>\n",
       "      <td>1.008694</td>\n",
       "      <td>G_exposed</td>\n",
       "      <td>0.011632</td>\n",
       "      <td>0.008694</td>\n",
       "    </tr>\n",
       "    <tr>\n",
       "      <th>6</th>\n",
       "      <td>H</td>\n",
       "      <td>0.945742</td>\n",
       "      <td>0.965272</td>\n",
       "      <td>H_exposed</td>\n",
       "      <td>-0.054258</td>\n",
       "      <td>-0.034728</td>\n",
       "    </tr>\n",
       "    <tr>\n",
       "      <th>7</th>\n",
       "      <td>I</td>\n",
       "      <td>1.025248</td>\n",
       "      <td>0.960922</td>\n",
       "      <td>I_exposed</td>\n",
       "      <td>0.025248</td>\n",
       "      <td>-0.039078</td>\n",
       "    </tr>\n",
       "    <tr>\n",
       "      <th>8</th>\n",
       "      <td>K</td>\n",
       "      <td>1.015322</td>\n",
       "      <td>1.027081</td>\n",
       "      <td>K_exposed</td>\n",
       "      <td>0.015322</td>\n",
       "      <td>0.027081</td>\n",
       "    </tr>\n",
       "    <tr>\n",
       "      <th>9</th>\n",
       "      <td>L</td>\n",
       "      <td>0.995168</td>\n",
       "      <td>0.938429</td>\n",
       "      <td>L_exposed</td>\n",
       "      <td>-0.004832</td>\n",
       "      <td>-0.061571</td>\n",
       "    </tr>\n",
       "    <tr>\n",
       "      <th>10</th>\n",
       "      <td>M</td>\n",
       "      <td>1.010721</td>\n",
       "      <td>0.967196</td>\n",
       "      <td>M_exposed</td>\n",
       "      <td>0.010721</td>\n",
       "      <td>-0.032804</td>\n",
       "    </tr>\n",
       "    <tr>\n",
       "      <th>11</th>\n",
       "      <td>N</td>\n",
       "      <td>1.016902</td>\n",
       "      <td>1.027078</td>\n",
       "      <td>N_exposed</td>\n",
       "      <td>0.016902</td>\n",
       "      <td>0.027078</td>\n",
       "    </tr>\n",
       "    <tr>\n",
       "      <th>12</th>\n",
       "      <td>P</td>\n",
       "      <td>0.973662</td>\n",
       "      <td>0.981384</td>\n",
       "      <td>P_exposed</td>\n",
       "      <td>-0.026338</td>\n",
       "      <td>-0.018616</td>\n",
       "    </tr>\n",
       "    <tr>\n",
       "      <th>13</th>\n",
       "      <td>Q</td>\n",
       "      <td>0.998800</td>\n",
       "      <td>1.007901</td>\n",
       "      <td>Q_exposed</td>\n",
       "      <td>-0.001200</td>\n",
       "      <td>0.007901</td>\n",
       "    </tr>\n",
       "    <tr>\n",
       "      <th>14</th>\n",
       "      <td>R</td>\n",
       "      <td>0.986616</td>\n",
       "      <td>0.981383</td>\n",
       "      <td>R_exposed</td>\n",
       "      <td>-0.013384</td>\n",
       "      <td>-0.018617</td>\n",
       "    </tr>\n",
       "    <tr>\n",
       "      <th>15</th>\n",
       "      <td>S</td>\n",
       "      <td>0.984305</td>\n",
       "      <td>0.990143</td>\n",
       "      <td>S_exposed</td>\n",
       "      <td>-0.015695</td>\n",
       "      <td>-0.009857</td>\n",
       "    </tr>\n",
       "    <tr>\n",
       "      <th>16</th>\n",
       "      <td>T</td>\n",
       "      <td>1.005645</td>\n",
       "      <td>0.998917</td>\n",
       "      <td>T_exposed</td>\n",
       "      <td>0.005645</td>\n",
       "      <td>-0.001083</td>\n",
       "    </tr>\n",
       "    <tr>\n",
       "      <th>17</th>\n",
       "      <td>V</td>\n",
       "      <td>1.018791</td>\n",
       "      <td>0.980517</td>\n",
       "      <td>V_exposed</td>\n",
       "      <td>0.018791</td>\n",
       "      <td>-0.019483</td>\n",
       "    </tr>\n",
       "    <tr>\n",
       "      <th>18</th>\n",
       "      <td>W</td>\n",
       "      <td>0.965069</td>\n",
       "      <td>0.870544</td>\n",
       "      <td>W_exposed</td>\n",
       "      <td>-0.034931</td>\n",
       "      <td>-0.129456</td>\n",
       "    </tr>\n",
       "    <tr>\n",
       "      <th>19</th>\n",
       "      <td>Y</td>\n",
       "      <td>0.996483</td>\n",
       "      <td>0.944139</td>\n",
       "      <td>Y_exposed</td>\n",
       "      <td>-0.003517</td>\n",
       "      <td>-0.055861</td>\n",
       "    </tr>\n",
       "  </tbody>\n",
       "</table>\n",
       "</div>"
      ],
      "text/plain": [
       "   AA  Propensity  Propensity_exp     AA_exp  AA propensity  \\\n",
       "0   A    1.002030        0.987104  A_exposed       0.002030   \n",
       "1   C    0.944495        0.882839  C_exposed      -0.055505   \n",
       "2   D    1.032533        1.049858  D_exposed       0.032533   \n",
       "3   E    1.015695        1.031736  E_exposed       0.015695   \n",
       "4   F    0.984267        0.929248  F_exposed      -0.015733   \n",
       "5   G    1.011632        1.008694  G_exposed       0.011632   \n",
       "6   H    0.945742        0.965272  H_exposed      -0.054258   \n",
       "7   I    1.025248        0.960922  I_exposed       0.025248   \n",
       "8   K    1.015322        1.027081  K_exposed       0.015322   \n",
       "9   L    0.995168        0.938429  L_exposed      -0.004832   \n",
       "10  M    1.010721        0.967196  M_exposed       0.010721   \n",
       "11  N    1.016902        1.027078  N_exposed       0.016902   \n",
       "12  P    0.973662        0.981384  P_exposed      -0.026338   \n",
       "13  Q    0.998800        1.007901  Q_exposed      -0.001200   \n",
       "14  R    0.986616        0.981383  R_exposed      -0.013384   \n",
       "15  S    0.984305        0.990143  S_exposed      -0.015695   \n",
       "16  T    1.005645        0.998917  T_exposed       0.005645   \n",
       "17  V    1.018791        0.980517  V_exposed       0.018791   \n",
       "18  W    0.965069        0.870544  W_exposed      -0.034931   \n",
       "19  Y    0.996483        0.944139  Y_exposed      -0.003517   \n",
       "\n",
       "    Exposed AA propensity  \n",
       "0               -0.012896  \n",
       "1               -0.117161  \n",
       "2                0.049858  \n",
       "3                0.031736  \n",
       "4               -0.070752  \n",
       "5                0.008694  \n",
       "6               -0.034728  \n",
       "7               -0.039078  \n",
       "8                0.027081  \n",
       "9               -0.061571  \n",
       "10              -0.032804  \n",
       "11               0.027078  \n",
       "12              -0.018616  \n",
       "13               0.007901  \n",
       "14              -0.018617  \n",
       "15              -0.009857  \n",
       "16              -0.001083  \n",
       "17              -0.019483  \n",
       "18              -0.129456  \n",
       "19              -0.055861  "
      ]
     },
     "execution_count": 27,
     "metadata": {},
     "output_type": "execute_result"
    }
   ],
   "source": [
    "propensities"
   ]
  },
  {
   "cell_type": "code",
   "execution_count": 28,
   "metadata": {},
   "outputs": [],
   "source": [
    "my_pal = {\"moccasin\",\"peru\"}\n",
    "\n",
    "ax = sns.barplot(x=\"AA\", y=\"Exposed AA propensity\", data=propensities,\n",
    "                 palette=\"rocket\")"
   ]
  },
  {
   "cell_type": "code",
   "execution_count": 32,
   "metadata": {
    "scrolled": false
   },
   "outputs": [
    {
     "data": {
      "image/png": "[encoded data removed]",
      "text/plain": [
       "<Figure size 1152x576 with 1 Axes>"
      ]
     },
     "metadata": {},
     "output_type": "display_data"
    }
   ],
   "source": [
    "bar = propensities.plot(x=\"AA\", y=[\"AA propensity\", \"Exposed AA propensity\"], kind=\"bar\",figsize=(16,8), edgecolor = 'grey')\n",
    "sns.set(style=(\"ticks\"), font_scale=1.5,palette=my_pal)\n",
    "bar.set(xlabel='Amino acid', ylabel=\"Propensity\", title=\"Amino acid propensities\")\n",
    "plt.show()"
   ]
  },
  {
   "cell_type": "code",
   "execution_count": 31,
   "metadata": {},
   "outputs": [
    {
     "data": {
      "image/png": "[encoded data removed]",
      "text/plain": [
       "<Figure size 1296x1080 with 1 Axes>"
      ]
     },
     "metadata": {},
     "output_type": "display_data"
    }
   ],
   "source": [
    "bar = propensities.plot(x=\"AA\", y=[\"Propensity\", \"Propensity_exp\"], kind=\"bar\",figsize=(18,15))\n",
    "sns.set(style=(\"ticks\"), font_scale=1.5)\n",
    "bar.set(xlabel='Amino acid', ylabel=\"Propensity\", title=\"Amino acid propensities\")\n",
    "plt.show()"
   ]
  }
 ],
 "metadata": {
  "kernelspec": {
   "display_name": "Python 3",
   "language": "python",
   "name": "python3"
  },
  "language_info": {
   "codemirror_mode": {
    "name": "ipython",
    "version": 3
   },
   "file_extension": ".py",
   "mimetype": "text/x-python",
   "name": "python",
   "nbconvert_exporter": "python",
   "pygments_lexer": "ipython3",
   "version": "3.8.3"
  }
 },
 "nbformat": 4,
 "nbformat_minor": 4
}
