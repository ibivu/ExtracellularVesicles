{
 "cells": [
  {
   "cell_type": "markdown",
   "metadata": {},
   "source": [
    "# Import Libraries"
   ]
  },
  {
   "cell_type": "code",
   "execution_count": 4,
   "metadata": {},
   "outputs": [],
   "source": [
    "import gseapy as gp\n",
    "import matplotlib.pyplot as plt\n",
    "import pandas as pd\n",
    "import seaborn as sns\n",
    "import sys\n",
    "import numpy as np\n",
    "from matplotlib_venn import venn2, venn2_circles, venn2_unweighted, venn3, venn3_circles"
   ]
  },
  {
   "cell_type": "markdown",
   "metadata": {},
   "source": [
    "# Define paths"
   ]
  },
  {
   "cell_type": "code",
   "execution_count": 5,
   "metadata": {},
   "outputs": [],
   "source": [
    "Data_path = os.path.dirname(os.path.dirname(os.getcwd())) + '/Data'"
   ]
  },
  {
   "cell_type": "code",
   "execution_count": 6,
   "metadata": {},
   "outputs": [],
   "source": [
    "vesiclepedia = Data_path + '/Raw/vesiclepedia.txt' \n",
    "VP = pd.read_csv(vesiclepedia, sep='\\t', engine='python')"
   ]
  },
  {
   "cell_type": "code",
   "execution_count": 7,
   "metadata": {},
   "outputs": [],
   "source": [
    "def curation(df):\n",
    "    df = df[df['CONTENT TYPE'] == \"protein\"]\n",
    "    df = df[df['SPECIES'] == 'Homo sapiens']\n",
    "    df['INSTANCES'] = df.groupby('ENTREZ GENE ID')['ENTREZ GENE ID'].transform('count')\n",
    "    df = df.drop_duplicates(subset=['ENTREZ GENE ID'], keep='first') \n",
    "    df = df[['ENTREZ GENE ID', 'GENE SYMBOL', 'INSTANCES']]\n",
    "    df = df.sort_values(by='INSTANCES', ascending=False)\n",
    "    #df = df.head(200)\n",
    "    df = df[df['INSTANCES'] >= 100]\n",
    "    return (df)"
   ]
  },
  {
   "cell_type": "code",
   "execution_count": 8,
   "metadata": {},
   "outputs": [
    {
     "data": {
      "text/plain": [
       "499"
      ]
     },
     "execution_count": 8,
     "metadata": {},
     "output_type": "execute_result"
    }
   ],
   "source": [
    "curated_VP = curation(VP)\n",
    "len(curated_VP.iloc[:,0])"
   ]
  },
  {
   "cell_type": "code",
   "execution_count": 9,
   "metadata": {},
   "outputs": [
    {
     "data": {
      "text/html": [
       "<div>\n",
       "<style scoped>\n",
       "    .dataframe tbody tr th:only-of-type {\n",
       "        vertical-align: middle;\n",
       "    }\n",
       "\n",
       "    .dataframe tbody tr th {\n",
       "        vertical-align: top;\n",
       "    }\n",
       "\n",
       "    .dataframe thead th {\n",
       "        text-align: right;\n",
       "    }\n",
       "</style>\n",
       "<table border=\"1\" class=\"dataframe\">\n",
       "  <thead>\n",
       "    <tr style=\"text-align: right;\">\n",
       "      <th></th>\n",
       "      <th>ENTREZ GENE ID</th>\n",
       "      <th>GENE SYMBOL</th>\n",
       "      <th>INSTANCES</th>\n",
       "    </tr>\n",
       "  </thead>\n",
       "  <tbody>\n",
       "    <tr>\n",
       "      <th>184827</th>\n",
       "      <td>10015</td>\n",
       "      <td>PDCD6IP</td>\n",
       "      <td>321</td>\n",
       "    </tr>\n",
       "    <tr>\n",
       "      <th>67740</th>\n",
       "      <td>3312</td>\n",
       "      <td>HSPA8</td>\n",
       "      <td>286</td>\n",
       "    </tr>\n",
       "    <tr>\n",
       "      <th>2943</th>\n",
       "      <td>60</td>\n",
       "      <td>ACTB</td>\n",
       "      <td>279</td>\n",
       "    </tr>\n",
       "    <tr>\n",
       "      <th>102087</th>\n",
       "      <td>5315</td>\n",
       "      <td>PKM</td>\n",
       "      <td>278</td>\n",
       "    </tr>\n",
       "    <tr>\n",
       "      <th>9333</th>\n",
       "      <td>302</td>\n",
       "      <td>ANXA2</td>\n",
       "      <td>276</td>\n",
       "    </tr>\n",
       "    <tr>\n",
       "      <th>...</th>\n",
       "      <td>...</td>\n",
       "      <td>...</td>\n",
       "      <td>...</td>\n",
       "    </tr>\n",
       "    <tr>\n",
       "      <th>111996</th>\n",
       "      <td>5706</td>\n",
       "      <td>PSMC6</td>\n",
       "      <td>100</td>\n",
       "    </tr>\n",
       "    <tr>\n",
       "      <th>65103</th>\n",
       "      <td>3184</td>\n",
       "      <td>HNRNPD</td>\n",
       "      <td>100</td>\n",
       "    </tr>\n",
       "    <tr>\n",
       "      <th>43064</th>\n",
       "      <td>1965</td>\n",
       "      <td>EIF2S1</td>\n",
       "      <td>100</td>\n",
       "    </tr>\n",
       "    <tr>\n",
       "      <th>68032</th>\n",
       "      <td>3313</td>\n",
       "      <td>HSPA9</td>\n",
       "      <td>100</td>\n",
       "    </tr>\n",
       "    <tr>\n",
       "      <th>128112</th>\n",
       "      <td>6230</td>\n",
       "      <td>RPS25</td>\n",
       "      <td>100</td>\n",
       "    </tr>\n",
       "  </tbody>\n",
       "</table>\n",
       "<p>499 rows × 3 columns</p>\n",
       "</div>"
      ],
      "text/plain": [
       "        ENTREZ GENE ID GENE SYMBOL  INSTANCES\n",
       "184827           10015     PDCD6IP        321\n",
       "67740             3312       HSPA8        286\n",
       "2943                60        ACTB        279\n",
       "102087            5315         PKM        278\n",
       "9333               302       ANXA2        276\n",
       "...                ...         ...        ...\n",
       "111996            5706       PSMC6        100\n",
       "65103             3184      HNRNPD        100\n",
       "43064             1965      EIF2S1        100\n",
       "68032             3313       HSPA9        100\n",
       "128112            6230       RPS25        100\n",
       "\n",
       "[499 rows x 3 columns]"
      ]
     },
     "execution_count": 9,
     "metadata": {},
     "output_type": "execute_result"
    }
   ],
   "source": [
    "curated_VP"
   ]
  },
  {
   "cell_type": "code",
   "execution_count": 10,
   "metadata": {},
   "outputs": [],
   "source": []
  },
  {
   "cell_type": "code",
   "execution_count": 11,
   "metadata": {},
   "outputs": [
    {
     "data": {
      "text/plain": [
       "<gseapy.gsea.Prerank at 0x7fabfcf44eb0>"
      ]
     },
     "execution_count": 11,
     "metadata": {},
     "output_type": "execute_result"
    }
   ],
   "source": [
    "# using prerank tool\n",
    "gene_ranked_dataframe = pd.DataFrame(curated_VP[['GENE SYMBOL', 'INSTANCES']])\n",
    "gp.prerank(rnk=gene_ranked_dataframe, gene_sets='KEGG_2016', outdir= path +'/FuncAnalysis/GSEA')"
   ]
  },
  {
   "cell_type": "code",
   "execution_count": 12,
   "metadata": {},
   "outputs": [
    {
     "data": {
      "text/html": [
       "<div>\n",
       "<style scoped>\n",
       "    .dataframe tbody tr th:only-of-type {\n",
       "        vertical-align: middle;\n",
       "    }\n",
       "\n",
       "    .dataframe tbody tr th {\n",
       "        vertical-align: top;\n",
       "    }\n",
       "\n",
       "    .dataframe thead th {\n",
       "        text-align: right;\n",
       "    }\n",
       "</style>\n",
       "<table border=\"1\" class=\"dataframe\">\n",
       "  <thead>\n",
       "    <tr style=\"text-align: right;\">\n",
       "      <th></th>\n",
       "      <th>GENE SYMBOL</th>\n",
       "      <th>INSTANCES</th>\n",
       "    </tr>\n",
       "  </thead>\n",
       "  <tbody>\n",
       "    <tr>\n",
       "      <th>184827</th>\n",
       "      <td>PDCD6IP</td>\n",
       "      <td>321</td>\n",
       "    </tr>\n",
       "    <tr>\n",
       "      <th>67740</th>\n",
       "      <td>HSPA8</td>\n",
       "      <td>286</td>\n",
       "    </tr>\n",
       "    <tr>\n",
       "      <th>2943</th>\n",
       "      <td>ACTB</td>\n",
       "      <td>279</td>\n",
       "    </tr>\n",
       "    <tr>\n",
       "      <th>102087</th>\n",
       "      <td>PKM</td>\n",
       "      <td>278</td>\n",
       "    </tr>\n",
       "    <tr>\n",
       "      <th>9333</th>\n",
       "      <td>ANXA2</td>\n",
       "      <td>276</td>\n",
       "    </tr>\n",
       "    <tr>\n",
       "      <th>...</th>\n",
       "      <td>...</td>\n",
       "      <td>...</td>\n",
       "    </tr>\n",
       "    <tr>\n",
       "      <th>111996</th>\n",
       "      <td>PSMC6</td>\n",
       "      <td>100</td>\n",
       "    </tr>\n",
       "    <tr>\n",
       "      <th>65103</th>\n",
       "      <td>HNRNPD</td>\n",
       "      <td>100</td>\n",
       "    </tr>\n",
       "    <tr>\n",
       "      <th>43064</th>\n",
       "      <td>EIF2S1</td>\n",
       "      <td>100</td>\n",
       "    </tr>\n",
       "    <tr>\n",
       "      <th>68032</th>\n",
       "      <td>HSPA9</td>\n",
       "      <td>100</td>\n",
       "    </tr>\n",
       "    <tr>\n",
       "      <th>128112</th>\n",
       "      <td>RPS25</td>\n",
       "      <td>100</td>\n",
       "    </tr>\n",
       "  </tbody>\n",
       "</table>\n",
       "<p>499 rows × 2 columns</p>\n",
       "</div>"
      ],
      "text/plain": [
       "       GENE SYMBOL  INSTANCES\n",
       "184827     PDCD6IP        321\n",
       "67740        HSPA8        286\n",
       "2943          ACTB        279\n",
       "102087         PKM        278\n",
       "9333         ANXA2        276\n",
       "...            ...        ...\n",
       "111996       PSMC6        100\n",
       "65103       HNRNPD        100\n",
       "43064       EIF2S1        100\n",
       "68032        HSPA9        100\n",
       "128112       RPS25        100\n",
       "\n",
       "[499 rows x 2 columns]"
      ]
     },
     "execution_count": 12,
     "metadata": {},
     "output_type": "execute_result"
    }
   ],
   "source": [
    "gene_ranked_dataframe"
   ]
  },
  {
   "cell_type": "code",
   "execution_count": 10,
   "metadata": {},
   "outputs": [],
   "source": [
    "# run prerank\n",
    "# enrichr libraries are supported by prerank module. Just provide the name\n",
    "# use 4 process to acceralate the permutation speed\n",
    "\n",
    "# note: multiprocessing may not work on windows\n",
    "pre_res = gp.prerank(rnk=curated_VP[['GENE SYMBOL', 'INSTANCES']], gene_sets='KEGG_2019_Human',\n",
    "                     processes=4,\n",
    "                     permutation_num=100, # reduce number to speed up testing\n",
    "                     outdir= path +'/FuncAnalysis/GSEA', format='png', seed=6)"
   ]
  },
  {
   "cell_type": "code",
   "execution_count": 11,
   "metadata": {},
   "outputs": [
    {
     "data": {
      "text/plain": [
       "['ARCHS4_Cell-lines',\n",
       " 'ARCHS4_IDG_Coexp',\n",
       " 'ARCHS4_Kinases_Coexp',\n",
       " 'ARCHS4_TFs_Coexp',\n",
       " 'ARCHS4_Tissues',\n",
       " 'Achilles_fitness_decrease',\n",
       " 'Achilles_fitness_increase',\n",
       " 'Aging_Perturbations_from_GEO_down',\n",
       " 'Aging_Perturbations_from_GEO_up',\n",
       " 'Allen_Brain_Atlas_10x_scRNA_2021',\n",
       " 'Allen_Brain_Atlas_down',\n",
       " 'Allen_Brain_Atlas_up',\n",
       " 'Azimuth_Cell_Types_2021',\n",
       " 'BioCarta_2013',\n",
       " 'BioCarta_2015',\n",
       " 'BioCarta_2016',\n",
       " 'BioPlanet_2019',\n",
       " 'BioPlex_2017',\n",
       " 'CCLE_Proteomics_2020',\n",
       " 'CORUM',\n",
       " 'COVID-19_Related_Gene_Sets',\n",
       " 'COVID-19_Related_Gene_Sets_2021',\n",
       " 'Cancer_Cell_Line_Encyclopedia',\n",
       " 'CellMarker_Augmented_2021',\n",
       " 'ChEA_2013',\n",
       " 'ChEA_2015',\n",
       " 'ChEA_2016',\n",
       " 'Chromosome_Location',\n",
       " 'Chromosome_Location_hg19',\n",
       " 'ClinVar_2019',\n",
       " 'DSigDB',\n",
       " 'Data_Acquisition_Method_Most_Popular_Genes',\n",
       " 'DepMap_WG_CRISPR_Screens_Broad_CellLines_2019',\n",
       " 'DepMap_WG_CRISPR_Screens_Sanger_CellLines_2019',\n",
       " 'Descartes_Cell_Types_and_Tissue_2021',\n",
       " 'DisGeNET',\n",
       " 'Disease_Perturbations_from_GEO_down',\n",
       " 'Disease_Perturbations_from_GEO_up',\n",
       " 'Disease_Signatures_from_GEO_down_2014',\n",
       " 'Disease_Signatures_from_GEO_up_2014',\n",
       " 'DrugMatrix',\n",
       " 'Drug_Perturbations_from_GEO_2014',\n",
       " 'Drug_Perturbations_from_GEO_down',\n",
       " 'Drug_Perturbations_from_GEO_up',\n",
       " 'ENCODE_Histone_Modifications_2013',\n",
       " 'ENCODE_Histone_Modifications_2015',\n",
       " 'ENCODE_TF_ChIP-seq_2014',\n",
       " 'ENCODE_TF_ChIP-seq_2015',\n",
       " 'ENCODE_and_ChEA_Consensus_TFs_from_ChIP-X',\n",
       " 'ESCAPE',\n",
       " 'Elsevier_Pathway_Collection',\n",
       " 'Enrichr_Libraries_Most_Popular_Genes',\n",
       " 'Enrichr_Submissions_TF-Gene_Coocurrence',\n",
       " 'Enrichr_Users_Contributed_Lists_2020',\n",
       " 'Epigenomics_Roadmap_HM_ChIP-seq',\n",
       " 'GO_Biological_Process_2013',\n",
       " 'GO_Biological_Process_2015',\n",
       " 'GO_Biological_Process_2017',\n",
       " 'GO_Biological_Process_2017b',\n",
       " 'GO_Biological_Process_2018',\n",
       " 'GO_Biological_Process_2021',\n",
       " 'GO_Cellular_Component_2013',\n",
       " 'GO_Cellular_Component_2015',\n",
       " 'GO_Cellular_Component_2017',\n",
       " 'GO_Cellular_Component_2017b',\n",
       " 'GO_Cellular_Component_2018',\n",
       " 'GO_Cellular_Component_2021',\n",
       " 'GO_Molecular_Function_2013',\n",
       " 'GO_Molecular_Function_2015',\n",
       " 'GO_Molecular_Function_2017',\n",
       " 'GO_Molecular_Function_2017b',\n",
       " 'GO_Molecular_Function_2018',\n",
       " 'GO_Molecular_Function_2021',\n",
       " 'GTEx_Aging_Signatures_2021',\n",
       " 'GTEx_Tissue_Expression_Down',\n",
       " 'GTEx_Tissue_Expression_Up',\n",
       " 'GWAS_Catalog_2019',\n",
       " 'GeneSigDB',\n",
       " 'Gene_Perturbations_from_GEO_down',\n",
       " 'Gene_Perturbations_from_GEO_up',\n",
       " 'Genes_Associated_with_NIH_Grants',\n",
       " 'Genome_Browser_PWMs',\n",
       " 'HDSigDB_Human_2021',\n",
       " 'HDSigDB_Mouse_2021',\n",
       " 'HMDB_Metabolites',\n",
       " 'HMS_LINCS_KinomeScan',\n",
       " 'HomoloGene',\n",
       " 'HuBMAP_ASCT_plus_B_augmented_w_RNAseq_Coexpression',\n",
       " 'HumanCyc_2015',\n",
       " 'HumanCyc_2016',\n",
       " 'Human_Gene_Atlas',\n",
       " 'Human_Phenotype_Ontology',\n",
       " 'InterPro_Domains_2019',\n",
       " 'Jensen_COMPARTMENTS',\n",
       " 'Jensen_DISEASES',\n",
       " 'Jensen_TISSUES',\n",
       " 'KEA_2013',\n",
       " 'KEA_2015',\n",
       " 'KEGG_2013',\n",
       " 'KEGG_2015',\n",
       " 'KEGG_2016',\n",
       " 'KEGG_2019_Human',\n",
       " 'KEGG_2019_Mouse',\n",
       " 'KEGG_2021_Human',\n",
       " 'Kinase_Perturbations_from_GEO_down',\n",
       " 'Kinase_Perturbations_from_GEO_up',\n",
       " 'L1000_Kinase_and_GPCR_Perturbations_down',\n",
       " 'L1000_Kinase_and_GPCR_Perturbations_up',\n",
       " 'LINCS_L1000_Chem_Pert_down',\n",
       " 'LINCS_L1000_Chem_Pert_up',\n",
       " 'LINCS_L1000_Ligand_Perturbations_down',\n",
       " 'LINCS_L1000_Ligand_Perturbations_up',\n",
       " 'Ligand_Perturbations_from_GEO_down',\n",
       " 'Ligand_Perturbations_from_GEO_up',\n",
       " 'MCF7_Perturbations_from_GEO_down',\n",
       " 'MCF7_Perturbations_from_GEO_up',\n",
       " 'MGI_Mammalian_Phenotype_2013',\n",
       " 'MGI_Mammalian_Phenotype_2017',\n",
       " 'MGI_Mammalian_Phenotype_Level_3',\n",
       " 'MGI_Mammalian_Phenotype_Level_4',\n",
       " 'MGI_Mammalian_Phenotype_Level_4_2019',\n",
       " 'MGI_Mammalian_Phenotype_Level_4_2021',\n",
       " 'MSigDB_Computational',\n",
       " 'MSigDB_Hallmark_2020',\n",
       " 'MSigDB_Oncogenic_Signatures',\n",
       " 'Microbe_Perturbations_from_GEO_down',\n",
       " 'Microbe_Perturbations_from_GEO_up',\n",
       " 'Mouse_Gene_Atlas',\n",
       " 'NCI-60_Cancer_Cell_Lines',\n",
       " 'NCI-Nature_2015',\n",
       " 'NCI-Nature_2016',\n",
       " 'NIH_Funded_PIs_2017_AutoRIF_ARCHS4_Predictions',\n",
       " 'NIH_Funded_PIs_2017_GeneRIF_ARCHS4_Predictions',\n",
       " 'NIH_Funded_PIs_2017_Human_AutoRIF',\n",
       " 'NIH_Funded_PIs_2017_Human_GeneRIF',\n",
       " 'NURSA_Human_Endogenous_Complexome',\n",
       " 'OMIM_Disease',\n",
       " 'OMIM_Expanded',\n",
       " 'Old_CMAP_down',\n",
       " 'Old_CMAP_up',\n",
       " 'Orphanet_Augmented_2021',\n",
       " 'PPI_Hub_Proteins',\n",
       " 'PanglaoDB_Augmented_2021',\n",
       " 'Panther_2015',\n",
       " 'Panther_2016',\n",
       " 'Pfam_Domains_2019',\n",
       " 'Pfam_InterPro_Domains',\n",
       " 'PheWeb_2019',\n",
       " 'PhenGenI_Association_2021',\n",
       " 'Phosphatase_Substrates_from_DEPOD',\n",
       " 'ProteomicsDB_2020',\n",
       " 'RNA-Seq_Disease_Gene_and_Drug_Signatures_from_GEO',\n",
       " 'RNAseq_Automatic_GEO_Signatures_Human_Down',\n",
       " 'RNAseq_Automatic_GEO_Signatures_Human_Up',\n",
       " 'RNAseq_Automatic_GEO_Signatures_Mouse_Down',\n",
       " 'RNAseq_Automatic_GEO_Signatures_Mouse_Up',\n",
       " 'Rare_Diseases_AutoRIF_ARCHS4_Predictions',\n",
       " 'Rare_Diseases_AutoRIF_Gene_Lists',\n",
       " 'Rare_Diseases_GeneRIF_ARCHS4_Predictions',\n",
       " 'Rare_Diseases_GeneRIF_Gene_Lists',\n",
       " 'Reactome_2013',\n",
       " 'Reactome_2015',\n",
       " 'Reactome_2016',\n",
       " 'SILAC_Phosphoproteomics',\n",
       " 'SubCell_BarCode',\n",
       " 'SysMyo_Muscle_Gene_Sets',\n",
       " 'TF-LOF_Expression_from_GEO',\n",
       " 'TF_Perturbations_Followed_by_Expression',\n",
       " 'TG_GATES_2020',\n",
       " 'TRANSFAC_and_JASPAR_PWMs',\n",
       " 'TRRUST_Transcription_Factors_2019',\n",
       " 'Table_Mining_of_CRISPR_Studies',\n",
       " 'TargetScan_microRNA',\n",
       " 'TargetScan_microRNA_2017',\n",
       " 'Tissue_Protein_Expression_from_Human_Proteome_Map',\n",
       " 'Tissue_Protein_Expression_from_ProteomicsDB',\n",
       " 'Transcription_Factor_PPIs',\n",
       " 'UK_Biobank_GWAS_v1',\n",
       " 'Virus-Host_PPI_P-HIPSTer_2020',\n",
       " 'VirusMINT',\n",
       " 'Virus_Perturbations_from_GEO_down',\n",
       " 'Virus_Perturbations_from_GEO_up',\n",
       " 'WikiPathway_2021_Human',\n",
       " 'WikiPathways_2013',\n",
       " 'WikiPathways_2015',\n",
       " 'WikiPathways_2016',\n",
       " 'WikiPathways_2019_Human',\n",
       " 'WikiPathways_2019_Mouse',\n",
       " 'dbGaP',\n",
       " 'huMAP',\n",
       " 'lncHUB_lncRNA_Co-Expression',\n",
       " 'miRTarBase_2017']"
      ]
     },
     "execution_count": 11,
     "metadata": {},
     "output_type": "execute_result"
    }
   ],
   "source": [
    "names = gp.get_library_name()\n",
    "names"
   ]
  },
  {
   "cell_type": "code",
   "execution_count": 12,
   "metadata": {},
   "outputs": [
    {
     "name": "stderr",
     "output_type": "stream",
     "text": [
      "2022-01-11 14:44:25,750 Connecting to Enrichr Server to get latest library names\n",
      "2022-01-11 14:44:25,752 Analysis name: GO, Enrichr Library: KEGG_2019_Human\n",
      "2022-01-11 14:44:29,248 Save file of enrichment results: Job Id:68abffcb4aa970239df185c2f66e4812\n",
      "2022-01-11 14:44:29,935 Done.\n",
      "\n"
     ]
    }
   ],
   "source": [
    "enr2 = gp.enrichr(gene_list=curated_VP['GENE SYMBOL'],\n",
    "                 description='GO',\n",
    "                 gene_sets='KEGG_2019_Human',\n",
    "                 background='TOP_EV_proteins', # or the number of genes, e.g 20000\n",
    "                 outdir=path +'/FuncAnalysis',\n",
    "                 cutoff=0.5, # only used for testing.\n",
    "                 verbose=True)"
   ]
  },
  {
   "cell_type": "code",
   "execution_count": 13,
   "metadata": {},
   "outputs": [
    {
     "data": {
      "text/plain": [
       "<Figure size 432x288 with 0 Axes>"
      ]
     },
     "metadata": {},
     "output_type": "display_data"
    },
    {
     "data": {
      "image/png": "[encoded data removed]",
      "text/plain": [
       "<Figure size 720x576 with 1 Axes>"
      ]
     },
     "metadata": {},
     "output_type": "display_data"
    }
   ],
   "source": [
    "# simple plotting function\n",
    "from gseapy.plot import barplot, dotplot\n",
    "\n",
    "fig, ax = plt.subplots(0,0)\n",
    "sns.set(font_scale = 1.3)\n",
    "\n",
    "barplot(enr2.res2d, title='KEGG 2019 Human', figsize=(10,8))\n",
    "\n",
    "fig = plt.gcf()\n",
    "#fig.savefig(Figure_path + '/gseapy.png', dpi = 150, bbox_inches=\"tight\")\n",
    "plt.show()"
   ]
  },
  {
   "cell_type": "code",
   "execution_count": 14,
   "metadata": {},
   "outputs": [
    {
     "data": {
      "text/plain": [
       "<Figure size 432x288 with 0 Axes>"
      ]
     },
     "metadata": {},
     "output_type": "display_data"
    },
    {
     "data": {
      "image/png": "[encoded data removed]",
      "text/plain": [
       "<Figure size 288x720 with 2 Axes>"
      ]
     },
     "metadata": {},
     "output_type": "display_data"
    }
   ],
   "source": [
    "fig, ax = plt.subplots(0,0)\n",
    "sns.set(font_scale = 1.3)\n",
    "\n",
    "dotplot(enr2.res2d, title='KEGG 2019 Human', cmap='autumn', figsize=(4,10))\n",
    "\n",
    "fig = plt.gcf()\n",
    "#fig.savefig(Figure_path + '/gseapy2.png', dpi = 150, bbox_inches=\"tight\")\n",
    "plt.show()"
   ]
  }
 ],
 "metadata": {
  "kernelspec": {
   "display_name": "Python 3",
   "language": "python",
   "name": "python3"
  },
  "language_info": {
   "codemirror_mode": {
    "name": "ipython",
    "version": 3
   },
   "file_extension": ".py",
   "mimetype": "text/x-python",
   "name": "python",
   "nbconvert_exporter": "python",
   "pygments_lexer": "ipython3",
   "version": "3.8.5"
  }
 },
 "nbformat": 4,
 "nbformat_minor": 4
}
