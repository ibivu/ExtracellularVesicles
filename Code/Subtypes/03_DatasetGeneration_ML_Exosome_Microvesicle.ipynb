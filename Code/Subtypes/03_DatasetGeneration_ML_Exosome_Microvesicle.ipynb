{
 "cells": [
  {
   "cell_type": "markdown",
   "metadata": {},
   "source": [
    "This notebook includes:\n",
    "- Merging of EV proteins with feature dataset to create Exosome/Microvesicle annotation\n",
    "- Removal of low count proteins (<3)\n",
    "\n",
    "Output dataset:\n",
    "- training_data_exo.csv\n",
    "- training_data_mv.csv"
   ]
  },
  {
   "cell_type": "markdown",
   "metadata": {},
   "source": [
    "# Import libraries"
   ]
  },
  {
   "cell_type": "code",
   "execution_count": 1,
   "metadata": {},
   "outputs": [],
   "source": [
    "import matplotlib.pyplot as plt\n",
    "import numpy as np\n",
    "import os\n",
    "import pandas as pd\n",
    "import seaborn as sns\n",
    "\n",
    "from os import listdir\n",
    "from os.path import isfile, join"
   ]
  },
  {
   "cell_type": "markdown",
   "metadata": {},
   "source": [
    "# Define paths"
   ]
  },
  {
   "cell_type": "code",
   "execution_count": 2,
   "metadata": {},
   "outputs": [],
   "source": [
    "Data_path = os.path.dirname(os.path.dirname(os.getcwd())) + '/Data'"
   ]
  },
  {
   "cell_type": "markdown",
   "metadata": {},
   "source": [
    "# Import datasets"
   ]
  },
  {
   "cell_type": "markdown",
   "metadata": {},
   "source": [
    "### Mapped exosome & microvesicle datasets\n",
    "\n",
    "This mapping dataset was produced in the \"01_DataCuration\" Jupyter notebook."
   ]
  },
  {
   "cell_type": "code",
   "execution_count": 3,
   "metadata": {},
   "outputs": [],
   "source": [
    "# Exocarta + Vesiclepedia\n",
    "exo_mapped = Data_path + '/Curated/VP_exosomes_mapped.csv'  \n",
    "exo_mapped = pd.read_csv(exo_mapped, sep=',', engine='python')\n",
    "\n",
    "mv_mapped = Data_path + '/Curated/VP_microvesicles_mapped.csv'  \n",
    "mv_mapped = pd.read_csv(mv_mapped, sep=',', engine='python')"
   ]
  },
  {
   "cell_type": "markdown",
   "metadata": {},
   "source": [
    "### Feature dataset"
   ]
  },
  {
   "cell_type": "code",
   "execution_count": 4,
   "metadata": {},
   "outputs": [],
   "source": [
    "df_features = Data_path + '/Curated/features_human_proteome.csv' \n",
    "df_features = pd.read_csv(df_features, sep=',', engine='python')"
   ]
  },
  {
   "cell_type": "markdown",
   "metadata": {},
   "source": [
    "# Create feature data sets"
   ]
  },
  {
   "cell_type": "markdown",
   "metadata": {},
   "source": [
    "### Exosome/Microvesicle annotation"
   ]
  },
  {
   "cell_type": "code",
   "execution_count": 5,
   "metadata": {},
   "outputs": [],
   "source": [
    "exo_list = list(exo_mapped[\"Uniprot\"])\n",
    "mv_list = list(mv_mapped[\"Uniprot\"])"
   ]
  },
  {
   "cell_type": "code",
   "execution_count": 6,
   "metadata": {},
   "outputs": [
    {
     "name": "stdout",
     "output_type": "stream",
     "text": [
      "Number of proteins: 16790\n",
      "Number of exosome associated proteins: 8775\n",
      "Number of non-exosome associated proteins: 8015\n",
      "Number of microvesicle associated proteins: 4738\n",
      "Number of non-microvesicle associated proteins: 12052\n"
     ]
    }
   ],
   "source": [
    "# create copies of feature dataset\n",
    "features_exo = df_features.copy()\n",
    "features_mv = df_features.copy()\n",
    "\n",
    "# Create exosome and microvesicle column (1/0) to categorize proteins found in EVs according to Vesiclepedia\n",
    "features_exo['Exosome'] = np.where(features_exo['id'].isin(exo_list), 1, 0)\n",
    "features_mv['Microvesicle'] = np.where(features_mv['id'].isin(mv_list), 1, 0)\n",
    "\n",
    "# Check distribution in data set\n",
    "print(\"Number of proteins:\", len(df_features))\n",
    "print(\"Number of exosome associated proteins:\", (features_exo[\"Exosome\"] == 1).sum())\n",
    "print(\"Number of non-exosome associated proteins:\", (features_exo[\"Exosome\"] == 0).sum())\n",
    "print(\"Number of microvesicle associated proteins:\", (features_mv[\"Microvesicle\"] == 1).sum())\n",
    "print(\"Number of non-microvesicle associated proteins:\", (features_mv[\"Microvesicle\"] == 0).sum())"
   ]
  },
  {
   "cell_type": "markdown",
   "metadata": {},
   "source": [
    "### Removal of low count proteins from data sets"
   ]
  },
  {
   "cell_type": "code",
   "execution_count": 7,
   "metadata": {},
   "outputs": [],
   "source": [
    "# set maximum number of occurrences that should be removed (inclusive)\n",
    "low_count = 2"
   ]
  },
  {
   "cell_type": "code",
   "execution_count": 8,
   "metadata": {},
   "outputs": [],
   "source": [
    "# create low count subset\n",
    "exo_low_count = exo_mapped[exo_mapped['OCCURRENCES'] <= low_count].copy()\n",
    "mv_low_count = mv_mapped[mv_mapped['OCCURRENCES'] <= low_count].copy()"
   ]
  },
  {
   "cell_type": "code",
   "execution_count": 9,
   "metadata": {},
   "outputs": [],
   "source": [
    "#filter out low count proteins\n",
    "\n",
    "keep_exo = (features_exo['id'].isin(exo_low_count[\"Uniprot\"]) == False)\n",
    "df_features_exo = features_exo[keep_exo]\n",
    "\n",
    "keep_mv = (features_mv['id'].isin(mv_low_count[\"Uniprot\"]) == False)\n",
    "df_features_mv = features_mv[keep_mv]"
   ]
  },
  {
   "cell_type": "code",
   "execution_count": 10,
   "metadata": {},
   "outputs": [
    {
     "name": "stdout",
     "output_type": "stream",
     "text": [
      "Number of low count proteins in exosomes: 3994 (REMOVED)\n",
      "Number of exosome associated proteins: 4781\n",
      "Number of non-exosome associated proteins: 8015\n",
      "Number of total proteins: 12796\n",
      "---------------\n",
      "Number of low count proteins in microvesicles: 1745 (REMOVED)\n",
      "Number of microvesicle associated proteins: 2993\n",
      "Number of non-microvesicle associated proteins: 12052\n",
      "Number of total proteins: 15045\n"
     ]
    }
   ],
   "source": [
    "# Check new distribution in data set\n",
    "print(\"Number of low count proteins in exosomes:\", (keep_exo == False).sum(), \"(REMOVED)\")\n",
    "print(\"Number of exosome associated proteins:\", (df_features_exo[\"Exosome\"] == 1).sum())\n",
    "print(\"Number of non-exosome associated proteins:\", (df_features_exo[\"Exosome\"] == 0).sum())\n",
    "print(\"Number of total proteins:\", (len(df_features_exo)))\n",
    "print(\"---------------\")\n",
    "print(\"Number of low count proteins in microvesicles:\", (keep_mv == False).sum(), \"(REMOVED)\")\n",
    "print(\"Number of microvesicle associated proteins:\", (df_features_mv[\"Microvesicle\"] == 1).sum())\n",
    "print(\"Number of non-microvesicle associated proteins:\", (df_features_mv[\"Microvesicle\"] == 0).sum())\n",
    "print(\"Number of total proteins:\", (len(df_features_mv)))"
   ]
  },
  {
   "cell_type": "markdown",
   "metadata": {},
   "source": [
    "# Save final feature data sets"
   ]
  },
  {
   "cell_type": "code",
   "execution_count": 11,
   "metadata": {},
   "outputs": [],
   "source": [
    "df_features_exo = df_features_exo.drop(columns=['fasta_sequence']) \n",
    "df_features_mv = df_features_mv.drop(columns=['fasta_sequence']) \n",
    "\n",
    "df_features_exo.to_csv(Data_path + '/MachineLearning/training_data_exo.csv', index=False)\n",
    "df_features_mv.to_csv(Data_path + '/MachineLearning/training_data_mv.csv', index=False)"
   ]
  }
 ],
 "metadata": {
  "kernelspec": {
   "display_name": "Python 3",
   "language": "python",
   "name": "python3"
  },
  "language_info": {
   "codemirror_mode": {
    "name": "ipython",
    "version": 3
   },
   "file_extension": ".py",
   "mimetype": "text/x-python",
   "name": "python",
   "nbconvert_exporter": "python",
   "pygments_lexer": "ipython3",
   "version": "3.8.3"
  }
 },
 "nbformat": 4,
 "nbformat_minor": 4
}
