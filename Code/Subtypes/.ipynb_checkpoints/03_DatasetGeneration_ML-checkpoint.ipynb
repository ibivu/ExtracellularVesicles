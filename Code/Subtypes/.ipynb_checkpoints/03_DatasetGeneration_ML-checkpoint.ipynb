{
 "cells": [
  {
   "cell_type": "markdown",
   "metadata": {},
   "source": [
    "This notebook includes:\n",
    "- Mapping of UniProt IDs to Entrez Gene IDs of EV proteins (of combined EV database dataset)\n",
    "- Merging of EV proteins with feature dataset to create Exosome/Microvesicle annotation\n",
    "- Removal of low count proteins (<3)\n",
    "- Generate Fasta files for STREME\n",
    "- Add de novo discovered motifs as features\n",
    "\n",
    "Output dataset:\n",
    "- training_data_exo.csv\n",
    "- training_data_mv.csv"
   ]
  },
  {
   "cell_type": "markdown",
   "metadata": {},
   "source": [
    "# Import libraries"
   ]
  },
  {
   "cell_type": "code",
   "execution_count": 1,
   "metadata": {},
   "outputs": [],
   "source": [
    "import matplotlib.pyplot as plt\n",
    "import numpy as np\n",
    "import pandas as pd\n",
    "import seaborn as sns\n",
    "from os import listdir\n",
    "from os.path import isfile, join"
   ]
  },
  {
   "cell_type": "markdown",
   "metadata": {},
   "source": [
    "# Define paths"
   ]
  },
  {
   "cell_type": "code",
   "execution_count": 3,
   "metadata": {},
   "outputs": [],
   "source": [
    "# user = 'kathi'\n",
    "user = 'DeaGogishvili'\n",
    "\n",
    "Data_path = '/Users/' + user + '/Documents/GitHub/ExtracellularVesicles/Data'"
   ]
  },
  {
   "cell_type": "markdown",
   "metadata": {},
   "source": [
    "# Import datasets"
   ]
  },
  {
   "cell_type": "markdown",
   "metadata": {},
   "source": [
    "### Mapped exosome & microvesicle datasets\n",
    "\n",
    "This mapping dataset was produced in the \"01_DataCuration\" Jupyter notebook."
   ]
  },
  {
   "cell_type": "code",
   "execution_count": 4,
   "metadata": {},
   "outputs": [],
   "source": [
    "# Exocarta + Vesiclepedia\n",
    "exo_mapped = Data_path + '/Curated/VP_exosomes_mapped.csv'  \n",
    "exo_mapped = pd.read_csv(exo_mapped, sep=',', engine='python')\n",
    "\n",
    "mv_mapped = Data_path + '/Curated/VP_microvesicles_mapped.csv'  \n",
    "mv_mapped = pd.read_csv(mv_mapped, sep=',', engine='python')"
   ]
  },
  {
   "cell_type": "markdown",
   "metadata": {},
   "source": [
    "### Feature dataset"
   ]
  },
  {
   "cell_type": "code",
   "execution_count": 5,
   "metadata": {},
   "outputs": [],
   "source": [
    "df_features = Data_path + '/Curated/features_human_proteome.csv' \n",
    "df_features = pd.read_csv(df_features, sep=',', engine='python')"
   ]
  },
  {
   "cell_type": "markdown",
   "metadata": {},
   "source": [
    "# Create feature data sets"
   ]
  },
  {
   "cell_type": "markdown",
   "metadata": {},
   "source": [
    "### Exosome/Microvesicle annotation"
   ]
  },
  {
   "cell_type": "code",
   "execution_count": 6,
   "metadata": {},
   "outputs": [],
   "source": [
    "exo_list = list(exo_mapped[\"Uniprot\"])\n",
    "mv_list = list(mv_mapped[\"Uniprot\"])"
   ]
  },
  {
   "cell_type": "code",
   "execution_count": 7,
   "metadata": {},
   "outputs": [
    {
     "name": "stdout",
     "output_type": "stream",
     "text": [
      "Number of proteins: 16790\n",
      "Number of exosome associated proteins: 8775\n",
      "Number of non-exosome associated proteins: 8015\n",
      "Number of microvesicle associated proteins: 4738\n",
      "Number of non-microvesicle associated proteins: 12052\n"
     ]
    }
   ],
   "source": [
    "# create copies of feature dataset\n",
    "features_exo = df_features.copy()\n",
    "features_mv = df_features.copy()\n",
    "\n",
    "# Create exosome and microvesicle column (1/0) to categorize proteins found in EVs according to Vesiclepedia\n",
    "features_exo['Exosome'] = np.where(features_exo['id'].isin(exo_list), 1, 0)\n",
    "features_mv['Microvesicle'] = np.where(features_mv['id'].isin(mv_list), 1, 0)\n",
    "\n",
    "# Check distribution in data set\n",
    "print(\"Number of proteins:\", len(df_features))\n",
    "print(\"Number of exosome associated proteins:\", (features_exo[\"Exosome\"] == 1).sum())\n",
    "print(\"Number of non-exosome associated proteins:\", (features_exo[\"Exosome\"] == 0).sum())\n",
    "print(\"Number of microvesicle associated proteins:\", (features_mv[\"Microvesicle\"] == 1).sum())\n",
    "print(\"Number of non-microvesicle associated proteins:\", (features_mv[\"Microvesicle\"] == 0).sum())"
   ]
  },
  {
   "cell_type": "markdown",
   "metadata": {},
   "source": [
    "### Removal of low count proteins from data sets"
   ]
  },
  {
   "cell_type": "code",
   "execution_count": 8,
   "metadata": {},
   "outputs": [],
   "source": [
    "# set maximum number of occurrences that should be removed (inclusive)\n",
    "low_count = 2"
   ]
  },
  {
   "cell_type": "code",
   "execution_count": 9,
   "metadata": {},
   "outputs": [],
   "source": [
    "# create low count subset\n",
    "exo_low_count = exo_mapped[exo_mapped['OCCURRENCES'] <= low_count].copy()\n",
    "mv_low_count = mv_mapped[mv_mapped['OCCURRENCES'] <= low_count].copy()"
   ]
  },
  {
   "cell_type": "code",
   "execution_count": 10,
   "metadata": {},
   "outputs": [],
   "source": [
    "#filter out low count proteins\n",
    "\n",
    "keep_exo = (features_exo['id'].isin(exo_low_count[\"Uniprot\"]) == False)\n",
    "df_features_exo = features_exo[keep_exo]\n",
    "\n",
    "keep_mv = (features_mv['id'].isin(mv_low_count[\"Uniprot\"]) == False)\n",
    "df_features_mv = features_mv[keep_mv]"
   ]
  },
  {
   "cell_type": "code",
   "execution_count": 11,
   "metadata": {},
   "outputs": [
    {
     "name": "stdout",
     "output_type": "stream",
     "text": [
      "Number of low count proteins in exosomes: 3994 (REMOVED)\n",
      "Number of exosome associated proteins: 4781\n",
      "Number of non-exosome associated proteins: 8015\n",
      "Number of total proteins: 12796\n",
      "---------------\n",
      "Number of low count proteins in microvesicles: 1745 (REMOVED)\n",
      "Number of microvesicle associated proteins: 2993\n",
      "Number of non-microvesicle associated proteins: 12052\n",
      "Number of total proteins: 15045\n"
     ]
    }
   ],
   "source": [
    "# Check new distribution in data set\n",
    "print(\"Number of low count proteins in exosomes:\", (keep_exo == False).sum(), \"(REMOVED)\")\n",
    "print(\"Number of exosome associated proteins:\", (df_features_exo[\"Exosome\"] == 1).sum())\n",
    "print(\"Number of non-exosome associated proteins:\", (df_features_exo[\"Exosome\"] == 0).sum())\n",
    "print(\"Number of total proteins:\", (len(df_features_exo)))\n",
    "print(\"---------------\")\n",
    "print(\"Number of low count proteins in microvesicles:\", (keep_mv == False).sum(), \"(REMOVED)\")\n",
    "print(\"Number of microvesicle associated proteins:\", (df_features_mv[\"Microvesicle\"] == 1).sum())\n",
    "print(\"Number of non-microvesicle associated proteins:\", (df_features_mv[\"Microvesicle\"] == 0).sum())\n",
    "print(\"Number of total proteins:\", (len(df_features_mv)))"
   ]
  },
  {
   "cell_type": "markdown",
   "metadata": {},
   "source": [
    "# Save final feature data sets"
   ]
  },
  {
   "cell_type": "code",
   "execution_count": 12,
   "metadata": {},
   "outputs": [],
   "source": [
    "df_features_exo = df_features_exo.drop(columns=['fasta_sequence']) \n",
    "df_features_mv = df_features_mv.drop(columns=['fasta_sequence']) \n",
    "\n",
    "df_features_exo.to_csv(Data_path + '/MachineLearning/training_data_exo.csv', index=False)\n",
    "df_features_mv.to_csv(Data_path + '/MachineLearning/training_data_mv.csv', index=False)"
   ]
  },
  {
   "cell_type": "markdown",
   "metadata": {},
   "source": [
    "# Microvesicles \n",
    "### Generate FASTA files for STREME"
   ]
  },
  {
   "cell_type": "code",
   "execution_count": 49,
   "metadata": {},
   "outputs": [],
   "source": [
    "# # all\n",
    "# all_data_mv = df_features_mv[['id', 'fasta_sequence']]\n",
    "# all_data_mv['id'] = '>'+all_data_mv['id']\n",
    "\n",
    "# # change U to C, otherwise STREME doesn't work\n",
    "# sequences = list(all_data_mv['fasta_sequence'])\n",
    "# sequences = [sequence.replace('U', 'C') for sequence in sequences]\n",
    "# all_data_mv['fasta'] = sequences\n",
    "# all_data_mv = all_data_mv[['id', 'fasta']]\n",
    "\n",
    "# #all_data_mv.to_csv(Data_path + '/STREME/MVs/all_data_mv.FASTA', sep='\\n', header=False, index=False)"
   ]
  },
  {
   "cell_type": "code",
   "execution_count": 50,
   "metadata": {},
   "outputs": [],
   "source": [
    "# # positive\n",
    "\n",
    "# positive_mv = df_features_mv[df_features_mv['Microvesicle'] == 1]\n",
    "# positive_mv = positive_mv[['id', 'fasta_sequence']]\n",
    "# positive_mv['id'] = '>'+positive_mv['id']\n",
    "\n",
    "# # change U to C\n",
    "# sequences = list(positive_mv['fasta_sequence'])\n",
    "# sequences = [sequence.replace('U', 'C') for sequence in sequences]\n",
    "# positive_mv['fasta'] = sequences\n",
    "# positive_mv = positive_mv[['id', 'fasta']]\n",
    "\n",
    "# #positive_mv.to_csv(Data_path + '/STREME/MVs/positive_mv.FASTA', sep='\\n', header=False, index=False)"
   ]
  },
  {
   "cell_type": "code",
   "execution_count": 51,
   "metadata": {},
   "outputs": [],
   "source": [
    "# # negative\n",
    "# negative_mv = df_features_mv[df_features_mv['Microvesicle'] == 0]\n",
    "# negative_mv = negative_mv[['id', 'fasta_sequence']]\n",
    "# negative_mv['id'] = '>'+negative_mv['id']\n",
    "\n",
    "# # change U to C\n",
    "# sequences = list(negative_mv['fasta_sequence'])\n",
    "# sequences = [sequence.replace('U', 'C') for sequence in sequences]\n",
    "# negative_mv['fasta'] = sequences\n",
    "# negative_mv = negative_mv[['id', 'fasta']]\n",
    "\n",
    "# #negative_mv.to_csv(Data_path + '/STREME/MVs/negative_mv.FASTA', sep='\\n', header=False, index=False)"
   ]
  }
 ],
 "metadata": {
  "kernelspec": {
   "display_name": "Python 3",
   "language": "python",
   "name": "python3"
  },
  "language_info": {
   "codemirror_mode": {
    "name": "ipython",
    "version": 3
   },
   "file_extension": ".py",
   "mimetype": "text/x-python",
   "name": "python",
   "nbconvert_exporter": "python",
   "pygments_lexer": "ipython3",
   "version": "3.8.3"
  }
 },
 "nbformat": 4,
 "nbformat_minor": 4
}
