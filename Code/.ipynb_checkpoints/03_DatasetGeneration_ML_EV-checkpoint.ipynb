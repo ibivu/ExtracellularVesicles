{
 "cells": [
  {
   "cell_type": "markdown",
   "metadata": {},
   "source": [
    "This notebook includes:\n",
    "\n",
    "- Merging of EV proteins with feature dataset to create EV annotation\n",
    "- Removal of low count proteins (<3)\n",
    "\n",
    "Output datasets:\n",
    "\n",
    "- training_data_no_filter.csv\n",
    "- training_data_MS_filter.csv\n",
    "- training_data_MS_iso_filter.csv"
   ]
  },
  {
   "cell_type": "markdown",
   "metadata": {},
   "source": [
    "# Import libraries"
   ]
  },
  {
   "cell_type": "code",
   "execution_count": 1,
   "metadata": {},
   "outputs": [],
   "source": [
    "import io\n",
    "import matplotlib.pyplot as plt\n",
    "import numpy as np\n",
    "import pandas as pd\n",
    "import seaborn as sns\n",
    "import urllib.parse\n",
    "import urllib.request\n",
    "import os\n",
    "\n",
    "from matplotlib_venn import venn2, venn3\n",
    "from os import listdir\n",
    "from os.path import isfile, join\n",
    "import warnings\n",
    "warnings.filterwarnings(\"ignore\")"
   ]
  },
  {
   "cell_type": "markdown",
   "metadata": {},
   "source": [
    "# Define paths"
   ]
  },
  {
   "cell_type": "code",
   "execution_count": 2,
   "metadata": {},
   "outputs": [],
   "source": [
    "Data_path = os.path.dirname(os.getcwd()) + '/Data'"
   ]
  },
  {
   "cell_type": "markdown",
   "metadata": {},
   "source": [
    "# Import datasets"
   ]
  },
  {
   "cell_type": "markdown",
   "metadata": {},
   "source": [
    "## Curated EV datasets\n",
    "\n",
    "### All EVs (no filtering)"
   ]
  },
  {
   "cell_type": "code",
   "execution_count": 3,
   "metadata": {},
   "outputs": [
    {
     "data": {
      "text/html": [
       "<div>\n",
       "<style scoped>\n",
       "    .dataframe tbody tr th:only-of-type {\n",
       "        vertical-align: middle;\n",
       "    }\n",
       "\n",
       "    .dataframe tbody tr th {\n",
       "        vertical-align: top;\n",
       "    }\n",
       "\n",
       "    .dataframe thead th {\n",
       "        text-align: right;\n",
       "    }\n",
       "</style>\n",
       "<table border=\"1\" class=\"dataframe\">\n",
       "  <thead>\n",
       "    <tr style=\"text-align: right;\">\n",
       "      <th></th>\n",
       "      <th>ENTREZ GENE ID</th>\n",
       "      <th>GENE SYMBOL</th>\n",
       "      <th>OCCURRENCES</th>\n",
       "      <th>Uniprot</th>\n",
       "    </tr>\n",
       "  </thead>\n",
       "  <tbody>\n",
       "    <tr>\n",
       "      <th>0</th>\n",
       "      <td>16</td>\n",
       "      <td>AARS</td>\n",
       "      <td>124</td>\n",
       "      <td>P49588</td>\n",
       "    </tr>\n",
       "    <tr>\n",
       "      <th>1</th>\n",
       "      <td>34</td>\n",
       "      <td>ACADM</td>\n",
       "      <td>42</td>\n",
       "      <td>P11310</td>\n",
       "    </tr>\n",
       "    <tr>\n",
       "      <th>2</th>\n",
       "      <td>38</td>\n",
       "      <td>ACAT1</td>\n",
       "      <td>65</td>\n",
       "      <td>P24752</td>\n",
       "    </tr>\n",
       "    <tr>\n",
       "      <th>3</th>\n",
       "      <td>47</td>\n",
       "      <td>ACLY</td>\n",
       "      <td>185</td>\n",
       "      <td>P53396</td>\n",
       "    </tr>\n",
       "    <tr>\n",
       "      <th>4</th>\n",
       "      <td>50</td>\n",
       "      <td>ACO2</td>\n",
       "      <td>58</td>\n",
       "      <td>Q99798</td>\n",
       "    </tr>\n",
       "  </tbody>\n",
       "</table>\n",
       "</div>"
      ],
      "text/plain": [
       "   ENTREZ GENE ID GENE SYMBOL  OCCURRENCES Uniprot\n",
       "0              16        AARS          124  P49588\n",
       "1              34       ACADM           42  P11310\n",
       "2              38       ACAT1           65  P24752\n",
       "3              47        ACLY          185  P53396\n",
       "4              50        ACO2           58  Q99798"
      ]
     },
     "execution_count": 3,
     "metadata": {},
     "output_type": "execute_result"
    }
   ],
   "source": [
    "EV_all = pd.read_csv(Data_path + '/curated/VPEC_all.csv')\n",
    "EV_all[:5]"
   ]
  },
  {
   "cell_type": "markdown",
   "metadata": {},
   "source": [
    "### Filtered EVs (isolation method filtering)"
   ]
  },
  {
   "cell_type": "code",
   "execution_count": 4,
   "metadata": {},
   "outputs": [
    {
     "data": {
      "text/html": [
       "<div>\n",
       "<style scoped>\n",
       "    .dataframe tbody tr th:only-of-type {\n",
       "        vertical-align: middle;\n",
       "    }\n",
       "\n",
       "    .dataframe tbody tr th {\n",
       "        vertical-align: top;\n",
       "    }\n",
       "\n",
       "    .dataframe thead th {\n",
       "        text-align: right;\n",
       "    }\n",
       "</style>\n",
       "<table border=\"1\" class=\"dataframe\">\n",
       "  <thead>\n",
       "    <tr style=\"text-align: right;\">\n",
       "      <th></th>\n",
       "      <th>ENTREZ GENE ID</th>\n",
       "      <th>GENE SYMBOL</th>\n",
       "      <th>OCCURRENCES</th>\n",
       "      <th>VESICLE TYPE</th>\n",
       "      <th>Uniprot</th>\n",
       "    </tr>\n",
       "  </thead>\n",
       "  <tbody>\n",
       "    <tr>\n",
       "      <th>0</th>\n",
       "      <td>1</td>\n",
       "      <td>A1BG</td>\n",
       "      <td>3</td>\n",
       "      <td>Exosomes</td>\n",
       "      <td>P04217</td>\n",
       "    </tr>\n",
       "    <tr>\n",
       "      <th>1</th>\n",
       "      <td>2</td>\n",
       "      <td>A2M</td>\n",
       "      <td>33</td>\n",
       "      <td>Exosomes</td>\n",
       "      <td>P01023</td>\n",
       "    </tr>\n",
       "    <tr>\n",
       "      <th>2</th>\n",
       "      <td>213</td>\n",
       "      <td>ALB</td>\n",
       "      <td>27</td>\n",
       "      <td>Exosomes</td>\n",
       "      <td>P02768</td>\n",
       "    </tr>\n",
       "    <tr>\n",
       "      <th>3</th>\n",
       "      <td>325</td>\n",
       "      <td>APCS</td>\n",
       "      <td>3</td>\n",
       "      <td>Exosomes</td>\n",
       "      <td>P02743</td>\n",
       "    </tr>\n",
       "    <tr>\n",
       "      <th>4</th>\n",
       "      <td>335</td>\n",
       "      <td>APOA1</td>\n",
       "      <td>38</td>\n",
       "      <td>Exosomes</td>\n",
       "      <td>P02647</td>\n",
       "    </tr>\n",
       "  </tbody>\n",
       "</table>\n",
       "</div>"
      ],
      "text/plain": [
       "   ENTREZ GENE ID GENE SYMBOL  OCCURRENCES VESICLE TYPE Uniprot\n",
       "0               1        A1BG            3     Exosomes  P04217\n",
       "1               2         A2M           33     Exosomes  P01023\n",
       "2             213         ALB           27     Exosomes  P02768\n",
       "3             325        APCS            3     Exosomes  P02743\n",
       "4             335       APOA1           38     Exosomes  P02647"
      ]
     },
     "execution_count": 4,
     "metadata": {},
     "output_type": "execute_result"
    }
   ],
   "source": [
    "EV_iso_filter = pd.read_csv(Data_path + '/curated/VP_Isolation_filter.csv')\n",
    "EV_iso_filter[:5]"
   ]
  },
  {
   "cell_type": "code",
   "execution_count": 5,
   "metadata": {},
   "outputs": [],
   "source": [
    "EV_proteins = set(EV_all[\"Uniprot\"])\n",
    "EV_proteins_iso_filter = set(EV_iso_filter[\"Uniprot\"])"
   ]
  },
  {
   "cell_type": "markdown",
   "metadata": {},
   "source": [
    "## Feature datasets"
   ]
  },
  {
   "cell_type": "code",
   "execution_count": 6,
   "metadata": {},
   "outputs": [
    {
     "data": {
      "text/html": [
       "<div>\n",
       "<style scoped>\n",
       "    .dataframe tbody tr th:only-of-type {\n",
       "        vertical-align: middle;\n",
       "    }\n",
       "\n",
       "    .dataframe tbody tr th {\n",
       "        vertical-align: top;\n",
       "    }\n",
       "\n",
       "    .dataframe thead th {\n",
       "        text-align: right;\n",
       "    }\n",
       "</style>\n",
       "<table border=\"1\" class=\"dataframe\">\n",
       "  <thead>\n",
       "    <tr style=\"text-align: right;\">\n",
       "      <th></th>\n",
       "      <th>id</th>\n",
       "      <th>length</th>\n",
       "      <th>hydr_count</th>\n",
       "      <th>polar_count</th>\n",
       "      <th>molecular_weight</th>\n",
       "      <th>helix</th>\n",
       "      <th>turn</th>\n",
       "      <th>sheet</th>\n",
       "      <th>A</th>\n",
       "      <th>C</th>\n",
       "      <th>...</th>\n",
       "      <th>Methylation_MSD</th>\n",
       "      <th>ww_domain</th>\n",
       "      <th>RAS_profile</th>\n",
       "      <th>EGF</th>\n",
       "      <th>RRM</th>\n",
       "      <th>coiled_coil</th>\n",
       "      <th>transmembrane</th>\n",
       "      <th>TMHMM</th>\n",
       "      <th>Polar_exposed</th>\n",
       "      <th>Hydrophobic_exposed</th>\n",
       "    </tr>\n",
       "  </thead>\n",
       "  <tbody>\n",
       "    <tr>\n",
       "      <th>0</th>\n",
       "      <td>Q8N7X0</td>\n",
       "      <td>10.703038</td>\n",
       "      <td>0.376125</td>\n",
       "      <td>0.431314</td>\n",
       "      <td>17.745289</td>\n",
       "      <td>0.225555</td>\n",
       "      <td>0.604079</td>\n",
       "      <td>0.170366</td>\n",
       "      <td>0.056989</td>\n",
       "      <td>0.011398</td>\n",
       "      <td>...</td>\n",
       "      <td>1.0</td>\n",
       "      <td>0</td>\n",
       "      <td>0</td>\n",
       "      <td>0</td>\n",
       "      <td>0</td>\n",
       "      <td>0</td>\n",
       "      <td>0</td>\n",
       "      <td>0</td>\n",
       "      <td>0.597984</td>\n",
       "      <td>0.161254</td>\n",
       "    </tr>\n",
       "    <tr>\n",
       "      <th>1</th>\n",
       "      <td>Q5T1N1</td>\n",
       "      <td>9.707359</td>\n",
       "      <td>0.290670</td>\n",
       "      <td>0.479665</td>\n",
       "      <td>16.719373</td>\n",
       "      <td>0.183014</td>\n",
       "      <td>0.777512</td>\n",
       "      <td>0.039474</td>\n",
       "      <td>0.052632</td>\n",
       "      <td>0.021531</td>\n",
       "      <td>...</td>\n",
       "      <td>1.0</td>\n",
       "      <td>0</td>\n",
       "      <td>0</td>\n",
       "      <td>0</td>\n",
       "      <td>0</td>\n",
       "      <td>0</td>\n",
       "      <td>0</td>\n",
       "      <td>0</td>\n",
       "      <td>0.570968</td>\n",
       "      <td>0.162903</td>\n",
       "    </tr>\n",
       "    <tr>\n",
       "      <th>2</th>\n",
       "      <td>Q92667</td>\n",
       "      <td>9.818582</td>\n",
       "      <td>0.376523</td>\n",
       "      <td>0.370986</td>\n",
       "      <td>16.793404</td>\n",
       "      <td>0.079734</td>\n",
       "      <td>0.805094</td>\n",
       "      <td>0.115172</td>\n",
       "      <td>0.079734</td>\n",
       "      <td>0.018826</td>\n",
       "      <td>...</td>\n",
       "      <td>0.0</td>\n",
       "      <td>0</td>\n",
       "      <td>0</td>\n",
       "      <td>0</td>\n",
       "      <td>0</td>\n",
       "      <td>1</td>\n",
       "      <td>1</td>\n",
       "      <td>1</td>\n",
       "      <td>0.447738</td>\n",
       "      <td>0.263651</td>\n",
       "    </tr>\n",
       "    <tr>\n",
       "      <th>3</th>\n",
       "      <td>Q5VUY0</td>\n",
       "      <td>8.668885</td>\n",
       "      <td>0.511057</td>\n",
       "      <td>0.312039</td>\n",
       "      <td>15.706400</td>\n",
       "      <td>0.491400</td>\n",
       "      <td>0.380835</td>\n",
       "      <td>0.127764</td>\n",
       "      <td>0.058968</td>\n",
       "      <td>0.039312</td>\n",
       "      <td>...</td>\n",
       "      <td>0.0</td>\n",
       "      <td>0</td>\n",
       "      <td>0</td>\n",
       "      <td>0</td>\n",
       "      <td>0</td>\n",
       "      <td>0</td>\n",
       "      <td>0</td>\n",
       "      <td>1</td>\n",
       "      <td>0.560000</td>\n",
       "      <td>0.256000</td>\n",
       "    </tr>\n",
       "    <tr>\n",
       "      <th>4</th>\n",
       "      <td>P62736</td>\n",
       "      <td>8.558421</td>\n",
       "      <td>0.427056</td>\n",
       "      <td>0.379310</td>\n",
       "      <td>15.574035</td>\n",
       "      <td>0.445623</td>\n",
       "      <td>0.347480</td>\n",
       "      <td>0.206897</td>\n",
       "      <td>0.076923</td>\n",
       "      <td>0.018568</td>\n",
       "      <td>...</td>\n",
       "      <td>1.0</td>\n",
       "      <td>0</td>\n",
       "      <td>0</td>\n",
       "      <td>0</td>\n",
       "      <td>0</td>\n",
       "      <td>0</td>\n",
       "      <td>0</td>\n",
       "      <td>0</td>\n",
       "      <td>0.682540</td>\n",
       "      <td>0.111111</td>\n",
       "    </tr>\n",
       "  </tbody>\n",
       "</table>\n",
       "<p>5 rows × 95 columns</p>\n",
       "</div>"
      ],
      "text/plain": [
       "       id     length  hydr_count  polar_count  molecular_weight     helix  \\\n",
       "0  Q8N7X0  10.703038    0.376125     0.431314         17.745289  0.225555   \n",
       "1  Q5T1N1   9.707359    0.290670     0.479665         16.719373  0.183014   \n",
       "2  Q92667   9.818582    0.376523     0.370986         16.793404  0.079734   \n",
       "3  Q5VUY0   8.668885    0.511057     0.312039         15.706400  0.491400   \n",
       "4  P62736   8.558421    0.427056     0.379310         15.574035  0.445623   \n",
       "\n",
       "       turn     sheet         A         C  ...  Methylation_MSD  ww_domain  \\\n",
       "0  0.604079  0.170366  0.056989  0.011398  ...              1.0          0   \n",
       "1  0.777512  0.039474  0.052632  0.021531  ...              1.0          0   \n",
       "2  0.805094  0.115172  0.079734  0.018826  ...              0.0          0   \n",
       "3  0.380835  0.127764  0.058968  0.039312  ...              0.0          0   \n",
       "4  0.347480  0.206897  0.076923  0.018568  ...              1.0          0   \n",
       "\n",
       "   RAS_profile  EGF  RRM  coiled_coil  transmembrane  TMHMM  Polar_exposed  \\\n",
       "0            0    0    0            0              0      0       0.597984   \n",
       "1            0    0    0            0              0      0       0.570968   \n",
       "2            0    0    0            1              1      1       0.447738   \n",
       "3            0    0    0            0              0      1       0.560000   \n",
       "4            0    0    0            0              0      0       0.682540   \n",
       "\n",
       "   Hydrophobic_exposed  \n",
       "0             0.161254  \n",
       "1             0.162903  \n",
       "2             0.263651  \n",
       "3             0.256000  \n",
       "4             0.111111  \n",
       "\n",
       "[5 rows x 95 columns]"
      ]
     },
     "execution_count": 6,
     "metadata": {},
     "output_type": "execute_result"
    }
   ],
   "source": [
    "features_all = Data_path + '/curated/features_human_proteome.csv' \n",
    "features_all = pd.read_csv(features_all, sep=',', engine='python')\n",
    "features_all[:5]"
   ]
  },
  {
   "cell_type": "code",
   "execution_count": 7,
   "metadata": {},
   "outputs": [
    {
     "data": {
      "text/html": [
       "<div>\n",
       "<style scoped>\n",
       "    .dataframe tbody tr th:only-of-type {\n",
       "        vertical-align: middle;\n",
       "    }\n",
       "\n",
       "    .dataframe tbody tr th {\n",
       "        vertical-align: top;\n",
       "    }\n",
       "\n",
       "    .dataframe thead th {\n",
       "        text-align: right;\n",
       "    }\n",
       "</style>\n",
       "<table border=\"1\" class=\"dataframe\">\n",
       "  <thead>\n",
       "    <tr style=\"text-align: right;\">\n",
       "      <th></th>\n",
       "      <th>id</th>\n",
       "      <th>length</th>\n",
       "      <th>hydr_count</th>\n",
       "      <th>polar_count</th>\n",
       "      <th>molecular_weight</th>\n",
       "      <th>helix</th>\n",
       "      <th>turn</th>\n",
       "      <th>sheet</th>\n",
       "      <th>A</th>\n",
       "      <th>C</th>\n",
       "      <th>...</th>\n",
       "      <th>Methylation_MSD</th>\n",
       "      <th>ww_domain</th>\n",
       "      <th>RAS_profile</th>\n",
       "      <th>EGF</th>\n",
       "      <th>RRM</th>\n",
       "      <th>coiled_coil</th>\n",
       "      <th>transmembrane</th>\n",
       "      <th>TMHMM</th>\n",
       "      <th>Polar_exposed</th>\n",
       "      <th>Hydrophobic_exposed</th>\n",
       "    </tr>\n",
       "  </thead>\n",
       "  <tbody>\n",
       "    <tr>\n",
       "      <th>0</th>\n",
       "      <td>Q92667</td>\n",
       "      <td>9.818582</td>\n",
       "      <td>0.376523</td>\n",
       "      <td>0.370986</td>\n",
       "      <td>16.793404</td>\n",
       "      <td>0.079734</td>\n",
       "      <td>0.805094</td>\n",
       "      <td>0.115172</td>\n",
       "      <td>0.079734</td>\n",
       "      <td>0.018826</td>\n",
       "      <td>...</td>\n",
       "      <td>0.0</td>\n",
       "      <td>0</td>\n",
       "      <td>0</td>\n",
       "      <td>0</td>\n",
       "      <td>0</td>\n",
       "      <td>1</td>\n",
       "      <td>1</td>\n",
       "      <td>1</td>\n",
       "      <td>0.447738</td>\n",
       "      <td>0.263651</td>\n",
       "    </tr>\n",
       "    <tr>\n",
       "      <th>1</th>\n",
       "      <td>P62736</td>\n",
       "      <td>8.558421</td>\n",
       "      <td>0.427056</td>\n",
       "      <td>0.379310</td>\n",
       "      <td>15.574035</td>\n",
       "      <td>0.445623</td>\n",
       "      <td>0.347480</td>\n",
       "      <td>0.206897</td>\n",
       "      <td>0.076923</td>\n",
       "      <td>0.018568</td>\n",
       "      <td>...</td>\n",
       "      <td>1.0</td>\n",
       "      <td>0</td>\n",
       "      <td>0</td>\n",
       "      <td>0</td>\n",
       "      <td>0</td>\n",
       "      <td>0</td>\n",
       "      <td>0</td>\n",
       "      <td>0</td>\n",
       "      <td>0.682540</td>\n",
       "      <td>0.111111</td>\n",
       "    </tr>\n",
       "    <tr>\n",
       "      <th>2</th>\n",
       "      <td>Q9H553</td>\n",
       "      <td>8.700440</td>\n",
       "      <td>0.471154</td>\n",
       "      <td>0.358173</td>\n",
       "      <td>15.735720</td>\n",
       "      <td>0.485577</td>\n",
       "      <td>0.375000</td>\n",
       "      <td>0.139423</td>\n",
       "      <td>0.072115</td>\n",
       "      <td>0.028846</td>\n",
       "      <td>...</td>\n",
       "      <td>1.0</td>\n",
       "      <td>0</td>\n",
       "      <td>0</td>\n",
       "      <td>0</td>\n",
       "      <td>0</td>\n",
       "      <td>0</td>\n",
       "      <td>1</td>\n",
       "      <td>0</td>\n",
       "      <td>0.614286</td>\n",
       "      <td>0.185714</td>\n",
       "    </tr>\n",
       "    <tr>\n",
       "      <th>3</th>\n",
       "      <td>P0C7M7</td>\n",
       "      <td>9.179909</td>\n",
       "      <td>0.424138</td>\n",
       "      <td>0.379310</td>\n",
       "      <td>16.216178</td>\n",
       "      <td>0.320690</td>\n",
       "      <td>0.448276</td>\n",
       "      <td>0.231034</td>\n",
       "      <td>0.058621</td>\n",
       "      <td>0.022414</td>\n",
       "      <td>...</td>\n",
       "      <td>0.0</td>\n",
       "      <td>0</td>\n",
       "      <td>0</td>\n",
       "      <td>0</td>\n",
       "      <td>0</td>\n",
       "      <td>0</td>\n",
       "      <td>0</td>\n",
       "      <td>0</td>\n",
       "      <td>0.661111</td>\n",
       "      <td>0.088889</td>\n",
       "    </tr>\n",
       "    <tr>\n",
       "      <th>4</th>\n",
       "      <td>P49703</td>\n",
       "      <td>7.651052</td>\n",
       "      <td>0.417910</td>\n",
       "      <td>0.402985</td>\n",
       "      <td>14.652697</td>\n",
       "      <td>0.328358</td>\n",
       "      <td>0.477612</td>\n",
       "      <td>0.194030</td>\n",
       "      <td>0.099502</td>\n",
       "      <td>0.004975</td>\n",
       "      <td>...</td>\n",
       "      <td>1.0</td>\n",
       "      <td>0</td>\n",
       "      <td>0</td>\n",
       "      <td>0</td>\n",
       "      <td>0</td>\n",
       "      <td>0</td>\n",
       "      <td>0</td>\n",
       "      <td>0</td>\n",
       "      <td>0.567010</td>\n",
       "      <td>0.195876</td>\n",
       "    </tr>\n",
       "  </tbody>\n",
       "</table>\n",
       "<p>5 rows × 95 columns</p>\n",
       "</div>"
      ],
      "text/plain": [
       "       id    length  hydr_count  polar_count  molecular_weight     helix  \\\n",
       "0  Q92667  9.818582    0.376523     0.370986         16.793404  0.079734   \n",
       "1  P62736  8.558421    0.427056     0.379310         15.574035  0.445623   \n",
       "2  Q9H553  8.700440    0.471154     0.358173         15.735720  0.485577   \n",
       "3  P0C7M7  9.179909    0.424138     0.379310         16.216178  0.320690   \n",
       "4  P49703  7.651052    0.417910     0.402985         14.652697  0.328358   \n",
       "\n",
       "       turn     sheet         A         C  ...  Methylation_MSD  ww_domain  \\\n",
       "0  0.805094  0.115172  0.079734  0.018826  ...              0.0          0   \n",
       "1  0.347480  0.206897  0.076923  0.018568  ...              1.0          0   \n",
       "2  0.375000  0.139423  0.072115  0.028846  ...              1.0          0   \n",
       "3  0.448276  0.231034  0.058621  0.022414  ...              0.0          0   \n",
       "4  0.477612  0.194030  0.099502  0.004975  ...              1.0          0   \n",
       "\n",
       "   RAS_profile  EGF  RRM  coiled_coil  transmembrane  TMHMM  Polar_exposed  \\\n",
       "0            0    0    0            1              1      1       0.447738   \n",
       "1            0    0    0            0              0      0       0.682540   \n",
       "2            0    0    0            0              1      0       0.614286   \n",
       "3            0    0    0            0              0      0       0.661111   \n",
       "4            0    0    0            0              0      0       0.567010   \n",
       "\n",
       "   Hydrophobic_exposed  \n",
       "0             0.263651  \n",
       "1             0.111111  \n",
       "2             0.185714  \n",
       "3             0.088889  \n",
       "4             0.195876  \n",
       "\n",
       "[5 rows x 95 columns]"
      ]
     },
     "execution_count": 7,
     "metadata": {},
     "output_type": "execute_result"
    }
   ],
   "source": [
    "features_MS_filter = Data_path + '/curated/features_human_proteome_MS_filter.csv' \n",
    "features_MS_filter = pd.read_csv(features_MS_filter, sep=',', engine='python')\n",
    "features_MS_filter[:5]"
   ]
  },
  {
   "cell_type": "code",
   "execution_count": 8,
   "metadata": {},
   "outputs": [],
   "source": [
    "human_proteome = set(features_all[\"id\"])\n",
    "human_proteome_MS_filter = set(features_MS_filter[\"id\"])"
   ]
  },
  {
   "cell_type": "code",
   "execution_count": 9,
   "metadata": {},
   "outputs": [
    {
     "data": {
      "image/png": "[encoded data removed]",
      "text/plain": [
       "<Figure size 1500x1000 with 3 Axes>"
      ]
     },
     "metadata": {},
     "output_type": "display_data"
    }
   ],
   "source": [
    "fig, axs = plt.subplots(1, 3, figsize=(15,10))\n",
    "plt.subplots_adjust(wspace=0.2)\n",
    "\n",
    "venn2([EV_proteins, human_proteome], [\"All EV proteins\", \"All human proteins\"], ax=axs[0])\n",
    "venn2([EV_proteins, human_proteome_MS_filter], [\"All EV proteins\", \"All MS-filtered \\n human proteins\"], ax=axs[1])\n",
    "venn2([EV_proteins_iso_filter, human_proteome_MS_filter], [\"Isolation method-filtered \\n EV proteins\", \n",
    "    \"All MS-filtered \\n human proteins\"], ax=axs[2])\n",
    "plt.show()"
   ]
  },
  {
   "cell_type": "code",
   "execution_count": 10,
   "metadata": {},
   "outputs": [],
   "source": [
    "# annotate proteins in EV list as EV proteins, missing proteins as non-EV proteins in human proteome\n",
    "df_no_filter = features_all.copy()\n",
    "df_no_filter['EV'] = np.where(features_all['id'].isin(EV_proteins), 1, 0)\n",
    "df_MS_filter = features_MS_filter.copy()\n",
    "df_MS_filter['EV'] = np.where(features_MS_filter['id'].isin(EV_proteins), 1, 0)\n",
    "df_MS_iso_filter = features_MS_filter.copy()\n",
    "df_MS_iso_filter['EV'] = np.where(features_MS_filter['id'].isin(EV_proteins_iso_filter), 1, 0)"
   ]
  },
  {
   "cell_type": "code",
   "execution_count": 11,
   "metadata": {},
   "outputs": [
    {
     "name": "stdout",
     "output_type": "stream",
     "text": [
      "Before removal of ambiguous proteins\n",
      "Dataset with no filter: 11860 EV proteins and 8521 non-EV proteins\n",
      "Dataset with MS filter: 11279 EV proteins and 5511 non-EV proteins\n",
      "Dataset with MS & isolation method filter: 6500 EV proteins and 10290 non-EV proteins\n"
     ]
    }
   ],
   "source": [
    "print(\"Before removal of ambiguous proteins\")\n",
    "print(\"Dataset with no filter:\", (df_no_filter[\"EV\"] == 1).sum(), \"EV proteins and\", \n",
    "      (df_no_filter[\"EV\"] == 0).sum(), \"non-EV proteins\")\n",
    "print(\"Dataset with MS filter:\", (df_MS_filter[\"EV\"] == 1).sum(), \"EV proteins and\", \n",
    "      (df_MS_filter[\"EV\"] == 0).sum(), \"non-EV proteins\")\n",
    "print(\"Dataset with MS & isolation method filter:\", (df_MS_iso_filter[\"EV\"] == 1).sum(), \"EV proteins and\", \n",
    "      (df_MS_iso_filter[\"EV\"] == 0).sum(), \"non-EV proteins\")"
   ]
  },
  {
   "cell_type": "markdown",
   "metadata": {},
   "source": [
    "### Removal of low count proteins from dataset"
   ]
  },
  {
   "cell_type": "code",
   "execution_count": 12,
   "metadata": {},
   "outputs": [
    {
     "data": {
      "text/html": [
       "<div>\n",
       "<style scoped>\n",
       "    .dataframe tbody tr th:only-of-type {\n",
       "        vertical-align: middle;\n",
       "    }\n",
       "\n",
       "    .dataframe tbody tr th {\n",
       "        vertical-align: top;\n",
       "    }\n",
       "\n",
       "    .dataframe thead th {\n",
       "        text-align: right;\n",
       "    }\n",
       "</style>\n",
       "<table border=\"1\" class=\"dataframe\">\n",
       "  <thead>\n",
       "    <tr style=\"text-align: right;\">\n",
       "      <th></th>\n",
       "      <th>ENTREZ GENE ID</th>\n",
       "      <th>GENE SYMBOL</th>\n",
       "      <th>OCCURRENCES</th>\n",
       "      <th>VESICLE TYPE</th>\n",
       "      <th>Uniprot</th>\n",
       "    </tr>\n",
       "  </thead>\n",
       "  <tbody>\n",
       "    <tr>\n",
       "      <th>40</th>\n",
       "      <td>4619</td>\n",
       "      <td>MYH1</td>\n",
       "      <td>2</td>\n",
       "      <td>Exosomes</td>\n",
       "      <td>P12882</td>\n",
       "    </tr>\n",
       "    <tr>\n",
       "      <th>41</th>\n",
       "      <td>4620</td>\n",
       "      <td>MYH2</td>\n",
       "      <td>2</td>\n",
       "      <td>Exosomes</td>\n",
       "      <td>Q9UKX2</td>\n",
       "    </tr>\n",
       "    <tr>\n",
       "      <th>42</th>\n",
       "      <td>4621</td>\n",
       "      <td>MYH3</td>\n",
       "      <td>1</td>\n",
       "      <td>Exosomes</td>\n",
       "      <td>P11055</td>\n",
       "    </tr>\n",
       "    <tr>\n",
       "      <th>43</th>\n",
       "      <td>4622</td>\n",
       "      <td>MYH4</td>\n",
       "      <td>2</td>\n",
       "      <td>Exosomes</td>\n",
       "      <td>Q9Y623</td>\n",
       "    </tr>\n",
       "    <tr>\n",
       "      <th>44</th>\n",
       "      <td>4624</td>\n",
       "      <td>MYH6</td>\n",
       "      <td>1</td>\n",
       "      <td>Exosomes</td>\n",
       "      <td>P13533</td>\n",
       "    </tr>\n",
       "  </tbody>\n",
       "</table>\n",
       "</div>"
      ],
      "text/plain": [
       "    ENTREZ GENE ID GENE SYMBOL  OCCURRENCES VESICLE TYPE Uniprot\n",
       "40            4619        MYH1            2     Exosomes  P12882\n",
       "41            4620        MYH2            2     Exosomes  Q9UKX2\n",
       "42            4621        MYH3            1     Exosomes  P11055\n",
       "43            4622        MYH4            2     Exosomes  Q9Y623\n",
       "44            4624        MYH6            1     Exosomes  P13533"
      ]
     },
     "execution_count": 12,
     "metadata": {},
     "output_type": "execute_result"
    }
   ],
   "source": [
    "# set maximum number of occurrences that should be removed (inclusive)\n",
    "low_count = 2\n",
    "EV_all_low_count = EV_all[EV_all['OCCURRENCES'] <= low_count].copy()\n",
    "EV_iso_filter_low_count = EV_iso_filter[EV_iso_filter['OCCURRENCES'] <= low_count].copy()\n",
    "EV_iso_filter_low_count[:5]"
   ]
  },
  {
   "cell_type": "code",
   "execution_count": 13,
   "metadata": {},
   "outputs": [
    {
     "name": "stdout",
     "output_type": "stream",
     "text": [
      "Number of low count proteins: 3452 (REMOVED)\n",
      "Number of kept proteins: 16929\n",
      "Number of EV associated proteins: 8408\n",
      "Number of non-EV associated proteins: 8521\n"
     ]
    }
   ],
   "source": [
    "# no filter dataset\n",
    "keep = (df_no_filter['id'].isin(EV_all_low_count[\"Uniprot\"]) == False)\n",
    "df_no_filter_keep = df_no_filter[keep]\n",
    "\n",
    "print(\"Number of low count proteins:\", (keep == False).sum(), \"(REMOVED)\")\n",
    "print(\"Number of kept proteins:\", len(df_no_filter_keep))\n",
    "print(\"Number of EV associated proteins:\", (df_no_filter_keep[\"EV\"] == 1).sum())\n",
    "print(\"Number of non-EV associated proteins:\", (df_no_filter_keep[\"EV\"] == 0).sum())"
   ]
  },
  {
   "cell_type": "code",
   "execution_count": 14,
   "metadata": {},
   "outputs": [
    {
     "name": "stdout",
     "output_type": "stream",
     "text": [
      "Number of low count proteins: 3081 (REMOVED)\n",
      "Number of kept proteins: 13709\n",
      "Number of EV associated proteins: 8198\n",
      "Number of non-EV associated proteins: 5511\n"
     ]
    }
   ],
   "source": [
    "# MS filter dataset\n",
    "keep = (df_MS_filter['id'].isin(EV_all_low_count[\"Uniprot\"]) == False)\n",
    "df_MS_filter_keep = df_MS_filter[keep]\n",
    "\n",
    "print(\"Number of low count proteins:\", (keep == False).sum(), \"(REMOVED)\")\n",
    "print(\"Number of kept proteins:\", len(df_MS_filter_keep))\n",
    "print(\"Number of EV associated proteins:\", (df_MS_filter_keep[\"EV\"] == 1).sum())\n",
    "print(\"Number of non-EV associated proteins:\", (df_MS_filter_keep[\"EV\"] == 0).sum())"
   ]
  },
  {
   "cell_type": "code",
   "execution_count": 15,
   "metadata": {},
   "outputs": [
    {
     "name": "stdout",
     "output_type": "stream",
     "text": [
      "Number of low count proteins: 535 (REMOVED)\n",
      "Number of kept proteins: 16255\n",
      "Number of EV associated proteins: 5965\n",
      "Number of non-EV associated proteins: 10290\n"
     ]
    }
   ],
   "source": [
    "# MS & isolation method filter dataset\n",
    "keep = (df_MS_filter['id'].isin(EV_iso_filter_low_count[\"Uniprot\"]) == False)\n",
    "df_MS_iso_filter_keep = df_MS_iso_filter[keep]\n",
    "\n",
    "print(\"Number of low count proteins:\", (keep == False).sum(), \"(REMOVED)\")\n",
    "print(\"Number of kept proteins:\", len(df_MS_iso_filter_keep))\n",
    "print(\"Number of EV associated proteins:\", (df_MS_iso_filter_keep[\"EV\"] == 1).sum())\n",
    "print(\"Number of non-EV associated proteins:\", (df_MS_iso_filter_keep[\"EV\"] == 0).sum())"
   ]
  },
  {
   "cell_type": "code",
   "execution_count": 16,
   "metadata": {},
   "outputs": [
    {
     "data": {
      "image/png": "[encoded data removed]",
      "text/plain": [
       "<Figure size 1200x400 with 3 Axes>"
      ]
     },
     "metadata": {},
     "output_type": "display_data"
    }
   ],
   "source": [
    "fig, ax = plt.subplots(1, 3, sharey=True, figsize=(12,4))\n",
    "\n",
    "sns.countplot(x=\"EV\", data=df_no_filter_keep, ax=ax[0])\n",
    "ax[0].set(title=\"No filtering\")\n",
    "sns.countplot(x=\"EV\", data=df_MS_filter_keep, ax=ax[1])\n",
    "ax[1].set(title=\"MS filtering\")\n",
    "sns.countplot(x=\"EV\", data=df_MS_iso_filter_keep, ax=ax[2])\n",
    "ax[2].set(title=\"MS & isolation method filtering\")\n",
    "\n",
    "plt.show()"
   ]
  },
  {
   "cell_type": "code",
   "execution_count": 17,
   "metadata": {},
   "outputs": [
    {
     "data": {
      "image/png": "[encoded data removed]",
      "text/plain": [
       "<Figure size 640x480 with 1 Axes>"
      ]
     },
     "metadata": {},
     "output_type": "display_data"
    }
   ],
   "source": [
    "EV_no_filter = set(df_no_filter_keep[df_no_filter_keep[\"EV\"] == 1][\"id\"])\n",
    "EV_MS_filter = set(df_MS_filter_keep[df_MS_filter_keep[\"EV\"] == 1][\"id\"])\n",
    "EV_MS_iso_filter = set(df_MS_iso_filter_keep[df_MS_iso_filter_keep[\"EV\"] == 1][\"id\"])\n",
    "\n",
    "venn3([EV_no_filter, EV_MS_filter, EV_MS_iso_filter], [\"No filter\", \"MS filter\", \"MS & isolation method filter\"])\n",
    "plt.show()"
   ]
  },
  {
   "cell_type": "markdown",
   "metadata": {
    "tags": []
   },
   "source": [
    "# Save final feature data set"
   ]
  },
  {
   "cell_type": "code",
   "execution_count": 18,
   "metadata": {},
   "outputs": [],
   "source": [
    "df_no_filter_keep.drop(columns=['fasta_sequence'], inplace=True) \n",
    "df_no_filter_keep.to_csv(Data_path + '/training/training_data_no_filter.csv', index=False)\n",
    "\n",
    "df_MS_filter_keep.drop(columns=['fasta_sequence'], inplace=True) \n",
    "df_MS_filter_keep.to_csv(Data_path + '/training/training_data_MS_filter.csv', index=False)\n",
    "\n",
    "df_MS_iso_filter_keep.drop(columns=['fasta_sequence'], inplace=True) \n",
    "df_MS_iso_filter_keep.to_csv(Data_path + '/training/training_data_MS_iso_filter.csv', index=False)"
   ]
  }
 ],
 "metadata": {
  "kernelspec": {
   "display_name": "Python 3",
   "language": "python",
   "name": "python3"
  },
  "language_info": {
   "codemirror_mode": {
    "name": "ipython",
    "version": 3
   },
   "file_extension": ".py",
   "mimetype": "text/x-python",
   "name": "python",
   "nbconvert_exporter": "python",
   "pygments_lexer": "ipython3",
   "version": "3.8.5"
  }
 },
 "nbformat": 4,
 "nbformat_minor": 4
}
