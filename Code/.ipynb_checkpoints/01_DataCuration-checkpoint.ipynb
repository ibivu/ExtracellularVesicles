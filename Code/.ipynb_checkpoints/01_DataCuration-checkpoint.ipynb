{
 "cells": [
  {
   "cell_type": "markdown",
   "metadata": {},
   "source": [
    "This notebook includes:\n",
    "- Exploration of Vesiclepedia and Exocarta datasets\n",
    "- Curation and merging of Vesiclepedia and Exocarta datasets\n",
    "- Mapping of EV entries to UniProt IDs (via UniProt API)\n",
    "- Data visualization (number of occurrences, dataset overlap) \n",
    "- Functional enrichment analysis of the top EV proteins\n",
    "\n",
    "Output datasets:\n",
    "- VPEC_all.csv\n",
    "- VPEC_mapped.csv\n",
    "- VP_old_mapped.csv"
   ]
  },
  {
   "cell_type": "markdown",
   "metadata": {},
   "source": [
    "# Import libraries"
   ]
  },
  {
   "cell_type": "code",
   "execution_count": 1,
   "metadata": {},
   "outputs": [],
   "source": [
    "import io\n",
    "import matplotlib.pyplot as plt\n",
    "import numpy as np\n",
    "import pandas as pd\n",
    "import seaborn as sns\n",
    "import urllib.parse\n",
    "import urllib.request\n",
    "import os\n",
    "\n",
    "import gseapy as gp\n",
    "from gseapy.plot import barplot, dotplot\n",
    "from matplotlib_venn import venn2, venn3 \n",
    "import warnings\n",
    "warnings.filterwarnings(\"ignore\")"
   ]
  },
  {
   "cell_type": "markdown",
   "metadata": {},
   "source": [
    "# Define data path"
   ]
  },
  {
   "cell_type": "code",
   "execution_count": 2,
   "metadata": {},
   "outputs": [],
   "source": [
    "Data_path = os.path.dirname(os.getcwd()) + '/Data'"
   ]
  },
  {
   "cell_type": "markdown",
   "metadata": {},
   "source": [
    "# Import data sets"
   ]
  },
  {
   "cell_type": "markdown",
   "metadata": {},
   "source": [
    "### Vesiclepedia"
   ]
  },
  {
   "cell_type": "code",
   "execution_count": 3,
   "metadata": {},
   "outputs": [],
   "source": [
    "# load raw Vesiclepedia datasets\n",
    "vesiclepedia = Data_path + '/raw/vesiclepedia.txt'\n",
    "vesiclepedia_experiments = Data_path + '/raw/vesiclepedia_experiments.txt'\n",
    "VP = pd.read_csv(vesiclepedia, sep='\\t', engine='python')\n",
    "VP_experiments = pd.read_csv(vesiclepedia_experiments, sep='\\t', engine='python')\n",
    "\n",
    "# merge experiment details with content data frame \n",
    "VP_all = VP.merge(VP_experiments[[\"EXPERIMENT ID\", \"PUBMED ID\", \"EXPERIMENT DESCRIPTION\", \"YEAR\", \"ISOLATION METHOD\", \n",
    "    \"VESICLE TYPE\"]], on=\"EXPERIMENT ID\", how=\"inner\")"
   ]
  },
  {
   "cell_type": "markdown",
   "metadata": {},
   "source": [
    "### Exocarta"
   ]
  },
  {
   "cell_type": "code",
   "execution_count": 4,
   "metadata": {},
   "outputs": [],
   "source": [
    "# load raw Exocarta datasets\n",
    "exocarta = Data_path + '/raw/exocarta.csv'\n",
    "exocarta_experiments = Data_path + '/raw/exocarta_experiments.txt'\n",
    "EC = pd.read_csv(exocarta, sep=';', engine='python')\n",
    "EC_experiments = pd.read_csv(exocarta_experiments, sep='\\t', engine='python')"
   ]
  },
  {
   "cell_type": "markdown",
   "metadata": {},
   "source": [
    "### UniProt human proteome"
   ]
  },
  {
   "cell_type": "code",
   "execution_count": 5,
   "metadata": {},
   "outputs": [],
   "source": [
    "# load all information from UniProt human proteins\n",
    "UP = Data_path + '/raw/UniProt/uniprot_9606.tab'\n",
    "UP = pd.read_csv(UP, sep='\\t', engine='python')"
   ]
  },
  {
   "cell_type": "code",
   "execution_count": 6,
   "metadata": {},
   "outputs": [
    {
     "name": "stdout",
     "output_type": "stream",
     "text": [
      "Vesiclepedia\n",
      "Unique genes:  34913\n",
      "Unique species:  35\n",
      "Unique experiments: 1141\n",
      "------------------\n",
      "Exocarta\n",
      "Unique genes:  12210\n",
      "Unique species:  7\n"
     ]
    }
   ],
   "source": [
    "print('Vesiclepedia')\n",
    "print('Unique genes: ', len(VP['ENTREZ GENE ID'].value_counts()))\n",
    "print('Unique species: ', len(VP['SPECIES'].value_counts()))\n",
    "print('Unique experiments:', len(VP_all['EXPERIMENT ID'].value_counts())) # some experiments not in cargo dataset\n",
    "print('------------------')\n",
    "print('Exocarta')\n",
    "print('Unique genes: ', len(EC['ENTREZ GENE ID'].value_counts()))\n",
    "print('Unique species: ', len(EC['SPECIES'].value_counts()))"
   ]
  },
  {
   "cell_type": "markdown",
   "metadata": {},
   "source": [
    "# Data curation"
   ]
  },
  {
   "cell_type": "code",
   "execution_count": 7,
   "metadata": {},
   "outputs": [],
   "source": [
    "# curation functions\n",
    "\n",
    "def filtering(df):\n",
    "    df = df[df['CONTENT TYPE'] == \"protein\"] # select proteins\n",
    "    df = df[df['SPECIES'] == 'Homo sapiens'] # select human proteins\n",
    "    return df\n",
    "\n",
    "def instance_count(df): \n",
    "    df_copy = df.copy()\n",
    "    df_copy['OCCURRENCES'] = df_copy.groupby('ENTREZ GENE ID')['ENTREZ GENE ID'].transform('count') # calculate occurrences\n",
    "    df_copy = df_copy.drop_duplicates(subset=['ENTREZ GENE ID'], keep='first') # keep a single value per protein\n",
    "    if 'VESICLE TYPE' in df_copy.columns:\n",
    "        df_copy = df_copy[['ENTREZ GENE ID', 'GENE SYMBOL', 'OCCURRENCES', 'VESICLE TYPE']]  # rename columns \n",
    "    else:\n",
    "        df_copy = df_copy[['ENTREZ GENE ID', 'GENE SYMBOL', 'OCCURRENCES']]  # rename columns \n",
    "    return df_copy"
   ]
  },
  {
   "cell_type": "markdown",
   "metadata": {},
   "source": [
    "## EV dataset 1 (full EV dataset, no filtering)"
   ]
  },
  {
   "cell_type": "code",
   "execution_count": 8,
   "metadata": {},
   "outputs": [
    {
     "name": "stdout",
     "output_type": "stream",
     "text": [
      "Number of filtered unique genes in Vesiclepedia: 13550\n",
      "Number of filtered unique genes in Exocarta: 5409\n",
      "-------------------\n",
      "Combined number of filtered unique genes: 13648\n"
     ]
    }
   ],
   "source": [
    "VP_filtered = filtering(VP_all)\n",
    "VP_curated = instance_count(VP_filtered)\n",
    "print('Number of filtered unique genes in Vesiclepedia:', len(VP_curated))\n",
    "EC_filtered = filtering(EC)\n",
    "EC_curated = instance_count(EC_filtered)\n",
    "print('Number of filtered unique genes in Exocarta:', len(EC_curated))\n",
    "print('-------------------')\n",
    "VPEC = pd.concat([VP_curated, EC_curated])\n",
    "VPEC = VPEC.drop_duplicates(subset=['ENTREZ GENE ID'], keep='first') # keep instances from Vesiclepedia\n",
    "VPEC = VPEC.drop(\"VESICLE TYPE\", axis=1)\n",
    "print('Combined number of filtered unique genes:', len(VPEC))"
   ]
  },
  {
   "cell_type": "markdown",
   "metadata": {},
   "source": [
    "### Mapping Entrez to Uniprot"
   ]
  },
  {
   "cell_type": "code",
   "execution_count": 9,
   "metadata": {},
   "outputs": [
    {
     "name": "stdout",
     "output_type": "stream",
     "text": [
      "Number of mappings: 23269\n",
      "Number of unique Entrez to Uniprot mappings: 12794\n",
      "Number of unique Entrez to human proteome Uniprot mappings: 11952\n"
     ]
    }
   ],
   "source": [
    "# ID mapping from GeneID to UniProtKB (https://www.uniprot.org/id-mapping)\n",
    "# import mapping\n",
    "mapping = pd.read_csv(Data_path + '/Mapping/all_EV_proteins_Entrez_to_Uniprot.tsv' , sep='\\t', header=0, \n",
    "    names=[\"ENTREZ GENE ID\", \"Uniprot\"])\n",
    "print(\"Number of mappings:\", len(mapping))\n",
    "\n",
    "# drop duplicates, keep first entry\n",
    "mapping.drop_duplicates(subset=[\"ENTREZ GENE ID\"], inplace=True)\n",
    "mapping.drop_duplicates(subset=[\"Uniprot\"])\n",
    "print(\"Number of unique Entrez to Uniprot mappings:\", len(mapping[\"ENTREZ GENE ID\"].unique()))\n",
    "\n",
    "# remove entries that are not part of the human proteome\n",
    "mapping = mapping[mapping[\"Uniprot\"].isin(UP[\"Entry\"])]\n",
    "print(\"Number of unique Entrez to human proteome Uniprot mappings:\", len(mapping[\"ENTREZ GENE ID\"].unique()))"
   ]
  },
  {
   "cell_type": "code",
   "execution_count": 10,
   "metadata": {},
   "outputs": [
    {
     "data": {
      "text/html": [
       "<div>\n",
       "<style scoped>\n",
       "    .dataframe tbody tr th:only-of-type {\n",
       "        vertical-align: middle;\n",
       "    }\n",
       "\n",
       "    .dataframe tbody tr th {\n",
       "        vertical-align: top;\n",
       "    }\n",
       "\n",
       "    .dataframe thead th {\n",
       "        text-align: right;\n",
       "    }\n",
       "</style>\n",
       "<table border=\"1\" class=\"dataframe\">\n",
       "  <thead>\n",
       "    <tr style=\"text-align: right;\">\n",
       "      <th></th>\n",
       "      <th>ENTREZ GENE ID</th>\n",
       "      <th>GENE SYMBOL</th>\n",
       "      <th>OCCURRENCES</th>\n",
       "      <th>Uniprot</th>\n",
       "    </tr>\n",
       "  </thead>\n",
       "  <tbody>\n",
       "    <tr>\n",
       "      <th>0</th>\n",
       "      <td>16</td>\n",
       "      <td>AARS</td>\n",
       "      <td>124</td>\n",
       "      <td>P49588</td>\n",
       "    </tr>\n",
       "    <tr>\n",
       "      <th>1</th>\n",
       "      <td>34</td>\n",
       "      <td>ACADM</td>\n",
       "      <td>42</td>\n",
       "      <td>P11310</td>\n",
       "    </tr>\n",
       "    <tr>\n",
       "      <th>2</th>\n",
       "      <td>38</td>\n",
       "      <td>ACAT1</td>\n",
       "      <td>65</td>\n",
       "      <td>P24752</td>\n",
       "    </tr>\n",
       "    <tr>\n",
       "      <th>3</th>\n",
       "      <td>47</td>\n",
       "      <td>ACLY</td>\n",
       "      <td>185</td>\n",
       "      <td>P53396</td>\n",
       "    </tr>\n",
       "    <tr>\n",
       "      <th>4</th>\n",
       "      <td>50</td>\n",
       "      <td>ACO2</td>\n",
       "      <td>58</td>\n",
       "      <td>Q99798</td>\n",
       "    </tr>\n",
       "  </tbody>\n",
       "</table>\n",
       "</div>"
      ],
      "text/plain": [
       "   ENTREZ GENE ID GENE SYMBOL  OCCURRENCES Uniprot\n",
       "0              16        AARS          124  P49588\n",
       "1              34       ACADM           42  P11310\n",
       "2              38       ACAT1           65  P24752\n",
       "3              47        ACLY          185  P53396\n",
       "4              50        ACO2           58  Q99798"
      ]
     },
     "execution_count": 10,
     "metadata": {},
     "output_type": "execute_result"
    }
   ],
   "source": [
    "VPEC_mapped = VPEC.merge(mapping, on=\"ENTREZ GENE ID\")\n",
    "VPEC_mapped[:5].sort_values(\"GENE SYMBOL\")"
   ]
  },
  {
   "cell_type": "markdown",
   "metadata": {},
   "source": [
    "## EV dataset 2 (isolation method filtering)\n",
    "\n",
    "Requirements:\n",
    "- No ExoQuick or Isolation Kits\n",
    "- At least three isolation steps\n",
    "- No Ultracentrifugation before the third step\n",
    "- Size or density-based filtration step first\n",
    "- At least two filtration steps at the beginning"
   ]
  },
  {
   "cell_type": "code",
   "execution_count": 11,
   "metadata": {},
   "outputs": [],
   "source": [
    "isolation_methods = [\"Differential centrifugation|Filtration|Ultracentrifugation\",\n",
    "    \"Differential centrifugation|Polymer-based precipitation|Ultracentrifugation\",\n",
    "    \"Differential centrifugation|Filtration|Ultracentrifugation|Density gradient centrifugation\",\n",
    "    \"Differential centrifugation|Filtration|Sucrose density gradient\",\n",
    "    \"Differential centrifugation|Filtration|Ultrafiltration\",\n",
    "    \"Microfiltration|Differential centrifugation|Ultracentrifugation\",\n",
    "    \"Differential centrifugation|Filtration|Ultrafiltration|Ultracentrifugation|Sucrose density gradient\",\n",
    "    \"Differential centrifugation|Filtration|Ultrafiltration|Ultracentrifugation\",\n",
    "    \"Hydrostatic filtration dialysis|Differential centrifugation|Ultracentrifugation\",\n",
    "    \"Differential centrifugation|Ultrafiltration|Ultracentrifugation|Density gradient centrifugation\",\n",
    "    \"Differential centrifugation|Sucrose density gradient|Ultracentrifugation\",\n",
    "    \"Differential centrifugation|Hydrostatic filtration dialysis|Ultrafiltration\",\n",
    "    \"Differential centrifugation|Sucrose density gradient|Diafiltration\",\n",
    "    \"Differential centrifugation|Filtration|Ultracentrifugation|Gel filtration\",\n",
    "    \"Differential centrifugation|Filtration|Sucrose density gradient|Ultracentrifugation\",\n",
    "    \"Filtration|Size exclusion chromatography|Sucrose density gradient\",\n",
    "    \"Differential centrifugation|Sucrose density gradient|Size exclusion chromatography\",\n",
    "    \"Differential centrifugation|Gel filtration|Ultracentrifugation\"]\n",
    "\n",
    "# filter Vesiclepedia database based on workflow for EV isolation\n",
    "VP_iso = VP_all[VP_all[\"ISOLATION METHOD\"].isin(isolation_methods)]"
   ]
  },
  {
   "cell_type": "code",
   "execution_count": 12,
   "metadata": {},
   "outputs": [
    {
     "name": "stdout",
     "output_type": "stream",
     "text": [
      "Number of filtered unique genes in Vesiclepedia: 13550\n",
      "Number of filtered unique genes in Vesiclepedia (isolation method filtered): 6818\n"
     ]
    }
   ],
   "source": [
    "print('Number of filtered unique genes in Vesiclepedia:', len(VP_curated)) # to compare\n",
    "VP_iso_filtered = filtering(VP_iso)\n",
    "VP_iso_curated = instance_count(VP_iso_filtered)\n",
    "print('Number of filtered unique genes in Vesiclepedia (isolation method filtered):', len(VP_iso_curated))"
   ]
  },
  {
   "cell_type": "code",
   "execution_count": 13,
   "metadata": {},
   "outputs": [
    {
     "name": "stdout",
     "output_type": "stream",
     "text": [
      "Number of unique Entrez to human proteome Uniprot mappings: 6678\n"
     ]
    }
   ],
   "source": [
    "VP_iso_mapped = VP_iso_curated.merge(mapping, on=\"ENTREZ GENE ID\")\n",
    "print(\"Number of unique Entrez to human proteome Uniprot mappings:\", len(VP_iso_mapped))"
   ]
  },
  {
   "cell_type": "code",
   "execution_count": 14,
   "metadata": {},
   "outputs": [
    {
     "data": {
      "image/png": "[encoded data removed]",
      "text/plain": [
       "<Figure size 640x480 with 1 Axes>"
      ]
     },
     "metadata": {},
     "output_type": "display_data"
    }
   ],
   "source": [
    "venn2([set(VPEC_mapped[\"ENTREZ GENE ID\"]), set(VP_iso_mapped[\"ENTREZ GENE ID\"])], \n",
    "    [\"All EV proteins\", \"Filtered on isolation method\"])\n",
    "plt.show()"
   ]
  },
  {
   "cell_type": "markdown",
   "metadata": {},
   "source": [
    "## Save data sets"
   ]
  },
  {
   "cell_type": "code",
   "execution_count": 15,
   "metadata": {},
   "outputs": [],
   "source": [
    "VPEC_mapped.to_csv(Data_path + '/curated/VPEC_all.csv', index=False)\n",
    "VP_iso_mapped.to_csv(Data_path + '/curated/VP_Isolation_filter.csv', index=False)"
   ]
  },
  {
   "cell_type": "markdown",
   "metadata": {},
   "source": [
    "# Low confidence EV protein sets \n",
    "\n",
    "EV studies published before 2010"
   ]
  },
  {
   "cell_type": "code",
   "execution_count": 16,
   "metadata": {},
   "outputs": [
    {
     "name": "stdout",
     "output_type": "stream",
     "text": [
      "Number of unique Entrez to human proteome Uniprot mappings from old studies: 9506\n"
     ]
    },
    {
     "data": {
      "text/html": [
       "<div>\n",
       "<style scoped>\n",
       "    .dataframe tbody tr th:only-of-type {\n",
       "        vertical-align: middle;\n",
       "    }\n",
       "\n",
       "    .dataframe tbody tr th {\n",
       "        vertical-align: top;\n",
       "    }\n",
       "\n",
       "    .dataframe thead th {\n",
       "        text-align: right;\n",
       "    }\n",
       "</style>\n",
       "<table border=\"1\" class=\"dataframe\">\n",
       "  <thead>\n",
       "    <tr style=\"text-align: right;\">\n",
       "      <th></th>\n",
       "      <th>ENTREZ GENE ID</th>\n",
       "      <th>GENE SYMBOL</th>\n",
       "      <th>OCCURRENCES</th>\n",
       "      <th>VESICLE TYPE</th>\n",
       "      <th>Uniprot</th>\n",
       "    </tr>\n",
       "  </thead>\n",
       "  <tbody>\n",
       "    <tr>\n",
       "      <th>0</th>\n",
       "      <td>16</td>\n",
       "      <td>AARS</td>\n",
       "      <td>10</td>\n",
       "      <td>Microparticles</td>\n",
       "      <td>P49588</td>\n",
       "    </tr>\n",
       "    <tr>\n",
       "      <th>1</th>\n",
       "      <td>34</td>\n",
       "      <td>ACADM</td>\n",
       "      <td>6</td>\n",
       "      <td>Microparticles</td>\n",
       "      <td>P11310</td>\n",
       "    </tr>\n",
       "    <tr>\n",
       "      <th>2</th>\n",
       "      <td>38</td>\n",
       "      <td>ACAT1</td>\n",
       "      <td>12</td>\n",
       "      <td>Microparticles</td>\n",
       "      <td>P24752</td>\n",
       "    </tr>\n",
       "    <tr>\n",
       "      <th>3</th>\n",
       "      <td>47</td>\n",
       "      <td>ACLY</td>\n",
       "      <td>25</td>\n",
       "      <td>Microparticles</td>\n",
       "      <td>P53396</td>\n",
       "    </tr>\n",
       "    <tr>\n",
       "      <th>4</th>\n",
       "      <td>50</td>\n",
       "      <td>ACO2</td>\n",
       "      <td>8</td>\n",
       "      <td>Microparticles</td>\n",
       "      <td>Q99798</td>\n",
       "    </tr>\n",
       "    <tr>\n",
       "      <th>...</th>\n",
       "      <td>...</td>\n",
       "      <td>...</td>\n",
       "      <td>...</td>\n",
       "      <td>...</td>\n",
       "      <td>...</td>\n",
       "    </tr>\n",
       "    <tr>\n",
       "      <th>9501</th>\n",
       "      <td>958</td>\n",
       "      <td>CD40</td>\n",
       "      <td>2</td>\n",
       "      <td>Exosomes</td>\n",
       "      <td>P25942</td>\n",
       "    </tr>\n",
       "    <tr>\n",
       "      <th>9502</th>\n",
       "      <td>2651</td>\n",
       "      <td>GCNT2</td>\n",
       "      <td>1</td>\n",
       "      <td>Exosomes</td>\n",
       "      <td>Q8N0V5</td>\n",
       "    </tr>\n",
       "    <tr>\n",
       "      <th>9503</th>\n",
       "      <td>7306</td>\n",
       "      <td>TYRP1</td>\n",
       "      <td>1</td>\n",
       "      <td>Exosomes</td>\n",
       "      <td>P17643</td>\n",
       "    </tr>\n",
       "    <tr>\n",
       "      <th>9504</th>\n",
       "      <td>1234</td>\n",
       "      <td>CCR5</td>\n",
       "      <td>1</td>\n",
       "      <td>Microparticles</td>\n",
       "      <td>P51681</td>\n",
       "    </tr>\n",
       "    <tr>\n",
       "      <th>9505</th>\n",
       "      <td>3082</td>\n",
       "      <td>HGF</td>\n",
       "      <td>2</td>\n",
       "      <td>Microvesicles</td>\n",
       "      <td>P14210</td>\n",
       "    </tr>\n",
       "  </tbody>\n",
       "</table>\n",
       "<p>9506 rows × 5 columns</p>\n",
       "</div>"
      ],
      "text/plain": [
       "      ENTREZ GENE ID GENE SYMBOL  OCCURRENCES    VESICLE TYPE Uniprot\n",
       "0                 16        AARS           10  Microparticles  P49588\n",
       "1                 34       ACADM            6  Microparticles  P11310\n",
       "2                 38       ACAT1           12  Microparticles  P24752\n",
       "3                 47        ACLY           25  Microparticles  P53396\n",
       "4                 50        ACO2            8  Microparticles  Q99798\n",
       "...              ...         ...          ...             ...     ...\n",
       "9501             958        CD40            2        Exosomes  P25942\n",
       "9502            2651       GCNT2            1        Exosomes  Q8N0V5\n",
       "9503            7306       TYRP1            1        Exosomes  P17643\n",
       "9504            1234        CCR5            1  Microparticles  P51681\n",
       "9505            3082         HGF            2   Microvesicles  P14210\n",
       "\n",
       "[9506 rows x 5 columns]"
      ]
     },
     "execution_count": 16,
     "metadata": {},
     "output_type": "execute_result"
    }
   ],
   "source": [
    "# filter based on the year of the study\n",
    "VP_old = VP_all[VP_all[\"YEAR\"] < 2010]\n",
    "# apply the same filtering as for the other datasets and map to UniProt\n",
    "VP_old_filtered = filtering(VP_old)\n",
    "VP_old_curated = instance_count(VP_old)\n",
    "VP_old_mapped = VP_old_curated.merge(mapping, on=\"ENTREZ GENE ID\")\n",
    "print(\"Number of unique Entrez to human proteome Uniprot mappings from old studies:\", len(VP_old_mapped))\n",
    "#save\n",
    "VP_old_mapped.to_csv(Data_path + '/curated/VP_old_mapped.csv', index=False)\n",
    "VP_old_mapped"
   ]
  },
  {
   "cell_type": "markdown",
   "metadata": {},
   "source": [
    "# Top EV proteins - Functional enrichment analysis"
   ]
  },
  {
   "cell_type": "code",
   "execution_count": 17,
   "metadata": {},
   "outputs": [],
   "source": [
    "df_filtered = pd.read_csv(Data_path + \"/curated/VP_Isolation_filter.csv\")\n",
    "df = df_filtered[df_filtered['OCCURRENCES'] >= 30]"
   ]
  },
  {
   "cell_type": "code",
   "execution_count": 18,
   "metadata": {},
   "outputs": [],
   "source": [
    "enr2 = gp.enrichr(gene_list=df['GENE SYMBOL'],\n",
    "                 gene_sets='KEGG_2019_Human',\n",
    "                 cutoff=0.5)"
   ]
  },
  {
   "cell_type": "code",
   "execution_count": 19,
   "metadata": {},
   "outputs": [
    {
     "data": {
      "image/png": "[encoded data removed]",
      "text/plain": [
       "<Figure size 1000x800 with 1 Axes>"
      ]
     },
     "metadata": {},
     "output_type": "display_data"
    }
   ],
   "source": [
    "sns.set(font_scale = 1.3)\n",
    "barplot(enr2.res2d, title='KEGG 2019 Human', figsize=(10,8))\n",
    "fig = plt.gcf()\n",
    "plt.show()"
   ]
  }
 ],
 "metadata": {
  "kernelspec": {
   "display_name": "Python 3",
   "language": "python",
   "name": "python3"
  },
  "language_info": {
   "codemirror_mode": {
    "name": "ipython",
    "version": 3
   },
   "file_extension": ".py",
   "mimetype": "text/x-python",
   "name": "python",
   "nbconvert_exporter": "python",
   "pygments_lexer": "ipython3",
   "version": "3.8.5"
  }
 },
 "nbformat": 4,
 "nbformat_minor": 4
}
