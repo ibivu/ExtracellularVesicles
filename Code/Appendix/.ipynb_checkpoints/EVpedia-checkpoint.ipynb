{
 "cells": [
  {
   "cell_type": "markdown",
   "metadata": {},
   "source": [
    "# EVpedia analysis"
   ]
  },
  {
   "cell_type": "markdown",
   "metadata": {},
   "source": [
    "## Import libraries"
   ]
  },
  {
   "cell_type": "code",
   "execution_count": 1,
   "metadata": {},
   "outputs": [],
   "source": [
    "import gzip\n",
    "import matplotlib.pyplot as plt\n",
    "import numpy as np\n",
    "import pandas as pd\n",
    "import pickle\n",
    "import scikitplot as skplt\n",
    "import seaborn as sns\n",
    "import os\n",
    "\n",
    "from imblearn.under_sampling import RandomUnderSampler\n",
    "from matplotlib import patches\n",
    "from sklearn.ensemble import RandomForestClassifier\n",
    "from sklearn.metrics import auc, RocCurveDisplay, ConfusionMatrixDisplay\n",
    "from sklearn.model_selection import train_test_split, StratifiedKFold\n",
    "from sklearn.preprocessing import StandardScaler, MinMaxScaler, RobustScaler\n",
    "from matplotlib_venn import venn2\n",
    "%matplotlib inline\n",
    "\n",
    "import warnings\n",
    "warnings.filterwarnings(\"ignore\")"
   ]
  },
  {
   "cell_type": "markdown",
   "metadata": {},
   "source": [
    "## Define paths"
   ]
  },
  {
   "cell_type": "code",
   "execution_count": 2,
   "metadata": {},
   "outputs": [],
   "source": [
    "Data_path = os.path.dirname(os.path.dirname(os.getcwd())) + '/Data'\n",
    "Model_path = os.path.dirname(os.path.dirname(os.getcwd())) + '/Models'"
   ]
  },
  {
   "cell_type": "markdown",
   "metadata": {},
   "source": [
    "## Import dataset"
   ]
  },
  {
   "cell_type": "markdown",
   "metadata": {},
   "source": [
    "### Feature datasets"
   ]
  },
  {
   "cell_type": "code",
   "execution_count": 3,
   "metadata": {},
   "outputs": [],
   "source": [
    "df_all = pd.read_csv(Data_path + \"/curated/features_human_proteome.csv\")\n",
    "df_unfiltered = pd.read_csv(Data_path + '/training/training_data_no_filter.csv', sep=',')\n",
    "df_MS_iso_filter = pd.read_csv(Data_path + '/training/training_data_MS_iso_filter.csv', sep=',')"
   ]
  },
  {
   "cell_type": "markdown",
   "metadata": {},
   "source": [
    "### EVpedia"
   ]
  },
  {
   "cell_type": "code",
   "execution_count": 4,
   "metadata": {},
   "outputs": [],
   "source": [
    "evpedia = pd.read_csv(Data_path + \"/raw/evpedia.csv\", index_col=0)"
   ]
  },
  {
   "cell_type": "markdown",
   "metadata": {},
   "source": [
    "### Random Forest models"
   ]
  },
  {
   "cell_type": "code",
   "execution_count": 5,
   "metadata": {},
   "outputs": [],
   "source": [
    "file = gzip.GzipFile(Model_path + '/EV_RF_model_MS_iso_filter.pkl', 'rb')\n",
    "rf_3 = pickle.loads(file.read())\n",
    "file.close()"
   ]
  },
  {
   "cell_type": "markdown",
   "metadata": {},
   "source": [
    "## Preprocess data"
   ]
  },
  {
   "cell_type": "code",
   "execution_count": 6,
   "metadata": {},
   "outputs": [],
   "source": [
    "continuous = ['length', 'hydr_count', 'polar_count', 'molecular_weight', 'helix', 'turn', 'sheet', \n",
    "    'A', 'C', 'D', 'E', 'F', 'G', 'H', 'I', 'K', 'L', 'M', 'N', 'P', 'Q', 'R', 'S', 'T', 'V', 'W', 'Y', \n",
    "    'thsa_netsurfp2', 'tasa_netsurfp2', 'rhsa_netsurfp2', 'disorder', 'A_exposed', 'C_exposed', 'D_exposed', \n",
    "    'E_exposed', 'F_exposed', 'G_exposed', 'H_exposed', 'I_exposed', 'K_exposed', 'L_exposed', 'M_exposed', \n",
    "    'N_exposed', 'P_exposed', 'Q_exposed', 'R_exposed', 'S_exposed', 'T_exposed', 'V_exposed', 'W_exposed', \n",
    "    'Y_exposed', 'Probability_solubility', 'Aggregation_propensity', 'Aromaticity', 'Instability_index', \n",
    "    'Gravy', 'Isoelectric_point', 'Charge_at_7', 'Charge_at_5', 'Polar_exposed', 'Hydrophobic_exposed']"
   ]
  },
  {
   "cell_type": "code",
   "execution_count": 7,
   "metadata": {},
   "outputs": [],
   "source": [
    "def preprocess(df):\n",
    "    \n",
    "    # define explanatory and response variables\n",
    "    X = df.drop([\"id\", \"EV\"], axis=1)\n",
    "    y = df[\"EV\"]\n",
    "    \n",
    "    # undersample majority class\n",
    "    undersample = RandomUnderSampler(random_state=0)\n",
    "    X_balanced, y_balanced = undersample.fit_resample(X, y)\n",
    "    \n",
    "    return X_balanced, y_balanced\n",
    "\n",
    "\n",
    "def split_and_scale(X_balanced, y_balanced, features_cont=continuous, scaler=RobustScaler()):\n",
    "\n",
    "    # split 80% training and 20% test \n",
    "    train_X, test_X, train_y, test_y = train_test_split(X_balanced, y_balanced, test_size=0.2, random_state=0, \n",
    "        stratify=y_balanced)\n",
    "    \n",
    "    # robust scaling\n",
    "    train_X_scaled = train_X.copy()\n",
    "    test_X_scaled = test_X.copy()\n",
    "    train_X_scaled[features_cont] = scaler.fit_transform(train_X[features_cont])\n",
    "    test_X_scaled[features_cont] = scaler.transform(test_X[features_cont])\n",
    "    \n",
    "    print(\"Size of training set:\", len(train_X_scaled))\n",
    "    print(\"Size of test set:\", len(test_X_scaled))\n",
    "    \n",
    "    return train_X_scaled, train_y, test_X_scaled, test_y, scaler"
   ]
  },
  {
   "cell_type": "code",
   "execution_count": 8,
   "metadata": {},
   "outputs": [
    {
     "name": "stdout",
     "output_type": "stream",
     "text": [
      "Dataset with MS and isolation method filtering\n",
      "Size of training set: 9544\n",
      "Size of test set: 2386\n"
     ]
    }
   ],
   "source": [
    "print(\"Dataset with MS and isolation method filtering\")\n",
    "X_balanced_3, y_balanced_3 = preprocess(df_MS_iso_filter)\n",
    "train_X_3, train_y_3, test_X_3, test_y_3, scaler_3 = split_and_scale(X_balanced_3, y_balanced_3)"
   ]
  },
  {
   "cell_type": "markdown",
   "metadata": {},
   "source": [
    "## EVpedia comparison"
   ]
  },
  {
   "cell_type": "code",
   "execution_count": 9,
   "metadata": {},
   "outputs": [
    {
     "name": "stdout",
     "output_type": "stream",
     "text": [
      "Number of human EV proteins in EVpedia: 25118\n",
      "Number of human EV proteins in EVpedia with >= 3 occurences: 12711\n",
      "Number of filtered EVpedia proteins in human proteome: 9423\n"
     ]
    }
   ],
   "source": [
    "cutoff = 3\n",
    "\n",
    "print(\"Number of human EV proteins in EVpedia:\", len(evpedia))\n",
    "evpedia_filtered = evpedia[evpedia[\"Identification number\"] >= cutoff]\n",
    "print(\"Number of human EV proteins in EVpedia with >= %i occurences: %i\" %(cutoff, len(evpedia_filtered)))\n",
    "evpedia_filtered_hp = evpedia_filtered[evpedia_filtered[\"UniProt accession\"].isin(df_all[\"id\"])]\n",
    "print(\"Number of filtered EVpedia proteins in human proteome:\", len(evpedia_filtered_hp))"
   ]
  },
  {
   "cell_type": "code",
   "execution_count": 10,
   "metadata": {},
   "outputs": [
    {
     "name": "stdout",
     "output_type": "stream",
     "text": [
      "Number of tested proteins: 9423\n",
      "Sensitivity: 67.06\n"
     ]
    }
   ],
   "source": [
    "evpedia_val = df_all[df_all[\"id\"].isin(evpedia_filtered_hp[\"UniProt accession\"])]\n",
    "print(\"Number of tested proteins:\", len(evpedia_val))\n",
    "X_evpedia = evpedia_val.drop([\"id\", \"fasta_sequence\"], axis=1)\n",
    "\n",
    "X_evpedia[continuous] = scaler_3.transform(X_evpedia[continuous])\n",
    "print(\"Sensitivity:\", round(rf_3.predict(X_evpedia).sum()/len(X_evpedia)*100, 2))\n",
    "# compared to sensitivity of 73% during testing (small drop)"
   ]
  },
  {
   "cell_type": "code",
   "execution_count": 11,
   "metadata": {},
   "outputs": [
    {
     "name": "stdout",
     "output_type": "stream",
     "text": [
      "676\n"
     ]
    },
    {
     "data": {
      "image/png": "[encoded data removed]",
      "text/plain": [
       "<Figure size 432x288 with 1 Axes>"
      ]
     },
     "metadata": {},
     "output_type": "display_data"
    }
   ],
   "source": [
    "venn2([set(df_MS_iso_filter[\"id\"]), set(evpedia_filtered_hp[\"UniProt accession\"])], \n",
    "    (\"Discovery dataset\", \"EVpedia EV proteins\"))\n",
    "\n",
    "novel_evpedia_proteins = set(evpedia_filtered_hp[\"UniProt accession\"]) - set(df_MS_iso_filter[\"id\"])\n",
    "print(len(novel_evpedia_proteins))"
   ]
  },
  {
   "cell_type": "code",
   "execution_count": 12,
   "metadata": {},
   "outputs": [
    {
     "name": "stdout",
     "output_type": "stream",
     "text": [
      "Number of tested proteins: 676\n",
      "Sensitivity: 41.27\n"
     ]
    }
   ],
   "source": [
    "evpedia_val = df_all[df_all[\"id\"].isin(novel_evpedia_proteins)]\n",
    "print(\"Number of tested proteins:\", len(evpedia_val))\n",
    "X_evpedia = evpedia_val.drop([\"id\", \"fasta_sequence\"], axis=1)\n",
    "\n",
    "X_evpedia[continuous] = scaler_3.transform(X_evpedia[continuous])\n",
    "print(\"Sensitivity:\", round(rf_3.predict(X_evpedia).sum()/len(X_evpedia)*100, 2))"
   ]
  },
  {
   "cell_type": "code",
   "execution_count": 13,
   "metadata": {},
   "outputs": [
    {
     "name": "stdout",
     "output_type": "stream",
     "text": [
      "Number of proteins that are included in unfiltered EV protein set but not discovery dataset: 2447\n"
     ]
    }
   ],
   "source": [
    "filtered_out_EV_proteins = set(df_unfiltered[df_unfiltered[\"EV\"] == 1][\"id\"]) - \\\n",
    "    set(df_MS_iso_filter[df_MS_iso_filter[\"EV\"] == 1][\"id\"])\n",
    "\n",
    "print(\"Number of proteins that are included in unfiltered EV protein set but not discovery dataset:\", \n",
    "    len(filtered_out_EV_proteins))"
   ]
  },
  {
   "cell_type": "code",
   "execution_count": 14,
   "metadata": {},
   "outputs": [
    {
     "name": "stdout",
     "output_type": "stream",
     "text": [
      "229\n"
     ]
    },
    {
     "data": {
      "image/png": "[encoded data removed]",
      "text/plain": [
       "<Figure size 432x288 with 1 Axes>"
      ]
     },
     "metadata": {},
     "output_type": "display_data"
    }
   ],
   "source": [
    "venn2([filtered_out_EV_proteins, novel_evpedia_proteins], \n",
    "    (\"Filtered out EV proteins\", \"EVpedia EV proteins\"))\n",
    "\n",
    "novel_evpedia_EV_proteins = novel_evpedia_proteins - filtered_out_EV_proteins\n",
    "print(len(novel_evpedia_EV_proteins))"
   ]
  },
  {
   "cell_type": "code",
   "execution_count": 15,
   "metadata": {},
   "outputs": [
    {
     "name": "stdout",
     "output_type": "stream",
     "text": [
      "Number of tested proteins: 229\n",
      "Sensitivity: 17.03\n"
     ]
    }
   ],
   "source": [
    "evpedia_val = df_all[df_all[\"id\"].isin(novel_evpedia_EV_proteins)]\n",
    "print(\"Number of tested proteins:\", len(evpedia_val))\n",
    "X_evpedia = evpedia_val.drop([\"id\", \"fasta_sequence\"], axis=1)\n",
    "\n",
    "X_evpedia[continuous] = scaler_3.transform(X_evpedia[continuous])\n",
    "print(\"Sensitivity:\", round(rf_3.predict(X_evpedia).sum()/len(X_evpedia)*100, 2))"
   ]
  }
 ],
 "metadata": {
  "kernelspec": {
   "display_name": "Python 3",
   "language": "python",
   "name": "python3"
  },
  "language_info": {
   "codemirror_mode": {
    "name": "ipython",
    "version": 3
   },
   "file_extension": ".py",
   "mimetype": "text/x-python",
   "name": "python",
   "nbconvert_exporter": "python",
   "pygments_lexer": "ipython3",
   "version": "3.8.5"
  }
 },
 "nbformat": 4,
 "nbformat_minor": 4
}
