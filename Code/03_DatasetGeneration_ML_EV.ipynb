{
 "cells": [
  {
   "cell_type": "markdown",
   "metadata": {},
   "source": [
    "This notebook includes:\n",
    "- Merging of EV proteins with feature dataset to create EV annotation\n",
    "- Removal of low count proteins (<3)\n",
    "\n",
    "Output dataset:\n",
    "- training_data.csv\n",
    "- training_data_no_filtering.csv"
   ]
  },
  {
   "cell_type": "markdown",
   "metadata": {},
   "source": [
    "# Import libraries"
   ]
  },
  {
   "cell_type": "code",
   "execution_count": 1,
   "metadata": {},
   "outputs": [],
   "source": [
    "import io\n",
    "import matplotlib.pyplot as plt\n",
    "import numpy as np\n",
    "import os\n",
    "import pandas as pd\n",
    "import seaborn as sns\n",
    "import urllib.parse\n",
    "import urllib.request\n",
    "\n",
    "from matplotlib_venn import venn2"
   ]
  },
  {
   "cell_type": "markdown",
   "metadata": {},
   "source": [
    "# Define paths"
   ]
  },
  {
   "cell_type": "code",
   "execution_count": 2,
   "metadata": {},
   "outputs": [],
   "source": [
    "Data_path = os.path.dirname(os.getcwd()) + '/Data'"
   ]
  },
  {
   "cell_type": "markdown",
   "metadata": {},
   "source": [
    "# Import datasets"
   ]
  },
  {
   "cell_type": "markdown",
   "metadata": {},
   "source": [
    "### Combined EV database dataset"
   ]
  },
  {
   "cell_type": "code",
   "execution_count": 3,
   "metadata": {},
   "outputs": [
    {
     "data": {
      "text/html": [
       "<div>\n",
       "<style scoped>\n",
       "    .dataframe tbody tr th:only-of-type {\n",
       "        vertical-align: middle;\n",
       "    }\n",
       "\n",
       "    .dataframe tbody tr th {\n",
       "        vertical-align: top;\n",
       "    }\n",
       "\n",
       "    .dataframe thead th {\n",
       "        text-align: right;\n",
       "    }\n",
       "</style>\n",
       "<table border=\"1\" class=\"dataframe\">\n",
       "  <thead>\n",
       "    <tr style=\"text-align: right;\">\n",
       "      <th></th>\n",
       "      <th>ENTREZ GENE ID</th>\n",
       "      <th>Uniprot</th>\n",
       "      <th>GENE SYMBOL</th>\n",
       "      <th>OCCURRENCES</th>\n",
       "    </tr>\n",
       "  </thead>\n",
       "  <tbody>\n",
       "    <tr>\n",
       "      <th>0</th>\n",
       "      <td>16</td>\n",
       "      <td>P49588</td>\n",
       "      <td>AARS</td>\n",
       "      <td>124</td>\n",
       "    </tr>\n",
       "    <tr>\n",
       "      <th>1</th>\n",
       "      <td>34</td>\n",
       "      <td>P11310</td>\n",
       "      <td>ACADM</td>\n",
       "      <td>42</td>\n",
       "    </tr>\n",
       "    <tr>\n",
       "      <th>2</th>\n",
       "      <td>38</td>\n",
       "      <td>P24752</td>\n",
       "      <td>ACAT1</td>\n",
       "      <td>65</td>\n",
       "    </tr>\n",
       "    <tr>\n",
       "      <th>3</th>\n",
       "      <td>47</td>\n",
       "      <td>P53396</td>\n",
       "      <td>ACLY</td>\n",
       "      <td>185</td>\n",
       "    </tr>\n",
       "    <tr>\n",
       "      <th>4</th>\n",
       "      <td>50</td>\n",
       "      <td>Q99798</td>\n",
       "      <td>ACO2</td>\n",
       "      <td>58</td>\n",
       "    </tr>\n",
       "    <tr>\n",
       "      <th>...</th>\n",
       "      <td>...</td>\n",
       "      <td>...</td>\n",
       "      <td>...</td>\n",
       "      <td>...</td>\n",
       "    </tr>\n",
       "    <tr>\n",
       "      <th>11838</th>\n",
       "      <td>201456</td>\n",
       "      <td>Q8NCQ5</td>\n",
       "      <td>FBXO15</td>\n",
       "      <td>5</td>\n",
       "    </tr>\n",
       "    <tr>\n",
       "      <th>11839</th>\n",
       "      <td>388662</td>\n",
       "      <td>Q9H1V8</td>\n",
       "      <td>SLC6A17</td>\n",
       "      <td>3</td>\n",
       "    </tr>\n",
       "    <tr>\n",
       "      <th>11840</th>\n",
       "      <td>55117</td>\n",
       "      <td>Q9H2J7</td>\n",
       "      <td>SLC6A15</td>\n",
       "      <td>1</td>\n",
       "    </tr>\n",
       "    <tr>\n",
       "      <th>11841</th>\n",
       "      <td>80217</td>\n",
       "      <td>Q8NDM7</td>\n",
       "      <td>CFAP43</td>\n",
       "      <td>1</td>\n",
       "    </tr>\n",
       "    <tr>\n",
       "      <th>11842</th>\n",
       "      <td>4225</td>\n",
       "      <td>Q16820</td>\n",
       "      <td>MEP1B</td>\n",
       "      <td>1</td>\n",
       "    </tr>\n",
       "  </tbody>\n",
       "</table>\n",
       "<p>11843 rows × 4 columns</p>\n",
       "</div>"
      ],
      "text/plain": [
       "       ENTREZ GENE ID Uniprot GENE SYMBOL  OCCURRENCES\n",
       "0                  16  P49588        AARS          124\n",
       "1                  34  P11310       ACADM           42\n",
       "2                  38  P24752       ACAT1           65\n",
       "3                  47  P53396        ACLY          185\n",
       "4                  50  Q99798        ACO2           58\n",
       "...               ...     ...         ...          ...\n",
       "11838          201456  Q8NCQ5      FBXO15            5\n",
       "11839          388662  Q9H1V8     SLC6A17            3\n",
       "11840           55117  Q9H2J7     SLC6A15            1\n",
       "11841           80217  Q8NDM7      CFAP43            1\n",
       "11842            4225  Q16820       MEP1B            1\n",
       "\n",
       "[11843 rows x 4 columns]"
      ]
     },
     "execution_count": 3,
     "metadata": {},
     "output_type": "execute_result"
    }
   ],
   "source": [
    "# Exocarta + Vesiclepedia\n",
    "VPEC_mapped = Data_path + '/Curated/VPEC_mapped.csv'  \n",
    "VPEC_mapped = pd.read_csv(VPEC_mapped, sep=',')\n",
    "VPEC_mapped"
   ]
  },
  {
   "cell_type": "markdown",
   "metadata": {},
   "source": [
    "### Feature dataset"
   ]
  },
  {
   "cell_type": "code",
   "execution_count": 4,
   "metadata": {},
   "outputs": [],
   "source": [
    "df_features = Data_path + '/Curated/features_human_proteome.csv' \n",
    "df_features = pd.read_csv(df_features, sep=',', engine='python')"
   ]
  },
  {
   "cell_type": "code",
   "execution_count": 5,
   "metadata": {},
   "outputs": [],
   "source": [
    "df_features_no_filtering = Data_path + '/Curated/features_human_proteome_no_filtering.csv' \n",
    "df_features_no_filtering = pd.read_csv(df_features_no_filtering, sep=',', engine='python')"
   ]
  },
  {
   "cell_type": "markdown",
   "metadata": {},
   "source": [
    "# EV annotation of human proteome"
   ]
  },
  {
   "cell_type": "code",
   "execution_count": 6,
   "metadata": {},
   "outputs": [],
   "source": [
    "# EV_list = list(VPEC_mapped[\"Uniprot\"])\n",
    "# len(EV_list)"
   ]
  },
  {
   "cell_type": "code",
   "execution_count": 7,
   "metadata": {},
   "outputs": [
    {
     "data": {
      "image/png": "[encoded data removed]",
      "text/plain": [
       "<Figure size 432x288 with 1 Axes>"
      ]
     },
     "metadata": {},
     "output_type": "display_data"
    }
   ],
   "source": [
    "sns.set(font_scale=1)\n",
    "\n",
    "venn2([set(VPEC_mapped[\"Uniprot\"]), set(df_features[\"id\"])], (\"EV proteome\", \"MS-detectable human proteome\"), alpha=0.4) \n",
    "# some proteins are missing because of MS filtering\n",
    "plt.title('Overlap of human EV and MS-detectable proteome')\n",
    "plt.show()"
   ]
  },
  {
   "cell_type": "code",
   "execution_count": 8,
   "metadata": {},
   "outputs": [],
   "source": [
    "# annotate proteins in EV list as EV proteins, missing proteins as non-EV proteins in human proteome\n",
    "EV_list = list(VPEC_mapped[\"Uniprot\"])\n",
    "df_features['EV'] = np.where(df_features['id'].isin(EV_list), 1, 0)\n",
    "df_features_no_filtering['EV'] = np.where(df_features_no_filtering['id'].isin(EV_list), 1, 0)"
   ]
  },
  {
   "cell_type": "code",
   "execution_count": 9,
   "metadata": {},
   "outputs": [
    {
     "name": "stdout",
     "output_type": "stream",
     "text": [
      "Number of unique Uniprot IDs mapped to the human proteome dataset: 11271\n",
      "Number of unique Uniprot IDs mapped to the human proteome dataset: 5519\n",
      "-----------\n",
      "Fraction of EV proteins in human proteome: 0.671292435973794\n",
      "Fraction of non-EV proteins in human proteome: 0.32870756402620604\n"
     ]
    }
   ],
   "source": [
    "print(\"Number of unique Uniprot IDs mapped to the human proteome dataset:\", df_features['EV'].sum())\n",
    "print(\"Number of unique Uniprot IDs mapped to the human proteome dataset:\", len(df_features) - df_features['EV'].sum())\n",
    "print(\"-----------\")\n",
    "print(\"Fraction of EV proteins in human proteome:\", df_features['EV'].sum()/len(df_features))\n",
    "print(\"Fraction of non-EV proteins in human proteome:\", 1 - df_features['EV'].sum()/len(df_features))"
   ]
  },
  {
   "cell_type": "markdown",
   "metadata": {},
   "source": [
    "### Removal of low count proteins from dataset"
   ]
  },
  {
   "cell_type": "code",
   "execution_count": 10,
   "metadata": {},
   "outputs": [],
   "source": [
    "# set maximum number of occurrences that should be removed (inclusive)\n",
    "low_count = 2\n",
    "EV_low_count = VPEC_mapped[VPEC_mapped['OCCURRENCES'] <= low_count].copy()"
   ]
  },
  {
   "cell_type": "code",
   "execution_count": 11,
   "metadata": {},
   "outputs": [],
   "source": [
    "keep = (df_features['id'].isin(EV_low_count[\"Uniprot\"]) == False)\n",
    "df_features_keep = df_features[keep]\n",
    "\n",
    "keep = (df_features_no_filtering['id'].isin(EV_low_count[\"Uniprot\"]) == False)\n",
    "df_features_no_filtering_keep = df_features_no_filtering[keep]"
   ]
  },
  {
   "cell_type": "code",
   "execution_count": 12,
   "metadata": {},
   "outputs": [
    {
     "name": "stdout",
     "output_type": "stream",
     "text": [
      "Number of low count proteins: 3442 (REMOVED)\n",
      "Number of kept proteins: 13717\n",
      "Number of EV associated proteins: 8198\n",
      "Number of non-EV associated proteins: 5519\n"
     ]
    }
   ],
   "source": [
    "# Check new distribution in data set\n",
    "print(\"Number of low count proteins:\", (keep == False).sum(), \"(REMOVED)\")\n",
    "print(\"Number of kept proteins:\", len(df_features_keep))\n",
    "print(\"Number of EV associated proteins:\", (df_features_keep[\"EV\"] == 1).sum())\n",
    "print(\"Number of non-EV associated proteins:\", (df_features_keep[\"EV\"] == 0).sum())"
   ]
  },
  {
   "cell_type": "markdown",
   "metadata": {},
   "source": [
    "# Save final feature data set"
   ]
  },
  {
   "cell_type": "code",
   "execution_count": 13,
   "metadata": {},
   "outputs": [],
   "source": [
    "df_features_keep = df_features_keep.drop(columns=['fasta_sequence']) \n",
    "df_features_keep.to_csv(Data_path + '/MachineLearning/training_data.csv', index=False)\n",
    "\n",
    "df_features_no_filtering_keep = df_features_no_filtering_keep.drop(columns=['fasta_sequence']) \n",
    "df_features_no_filtering_keep.to_csv(Data_path + '/MachineLearning/training_data_no_filtering.csv', index=False)"
   ]
  }
 ],
 "metadata": {
  "kernelspec": {
   "display_name": "Python 3",
   "language": "python",
   "name": "python3"
  },
  "language_info": {
   "codemirror_mode": {
    "name": "ipython",
    "version": 3
   },
   "file_extension": ".py",
   "mimetype": "text/x-python",
   "name": "python",
   "nbconvert_exporter": "python",
   "pygments_lexer": "ipython3",
   "version": "3.8.3"
  }
 },
 "nbformat": 4,
 "nbformat_minor": 4
}
