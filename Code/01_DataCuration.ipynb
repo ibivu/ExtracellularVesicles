{
 "cells": [
  {
   "cell_type": "markdown",
   "metadata": {},
   "source": [
    "# Data curation\n",
    "\n",
    "### Workflow\n",
    "- Exploration of Vesiclepedia and Exocarta datasets\n",
    "- Curation and merging of Vesiclepedia and Exocarta datasets\n",
    "- Mapping of EV entries to UniProt IDs (via UniProt mapping tool) --> General EV dataset\n",
    "- Filtering on isolation method --> Stringent EV dataset\n",
    "- Curation of high and low confidence EV datasets\n",
    "- Functional enrichment analysis of the top EV proteins\n",
    "\n",
    "### Created datasets\n",
    "- VPEC_all.csv\n",
    "- VP_Isolation_filter.csv\n",
    "- VP_pre2014_mapped.csv\n",
    "- Low_confidence_EV_proteins.txt\n",
    "- High_confidence_EV_proteins.txt"
   ]
  },
  {
   "cell_type": "markdown",
   "metadata": {},
   "source": [
    "## Import libraries"
   ]
  },
  {
   "cell_type": "code",
   "execution_count": 1,
   "metadata": {},
   "outputs": [],
   "source": [
    "import gseapy as gp\n",
    "import matplotlib.pyplot as plt\n",
    "import numpy as np\n",
    "import pandas as pd\n",
    "import os\n",
    "import seaborn as sns\n",
    "\n",
    "from matplotlib_venn import venn2\n",
    "\n",
    "import warnings\n",
    "warnings.filterwarnings(\"ignore\")"
   ]
  },
  {
   "cell_type": "markdown",
   "metadata": {},
   "source": [
    "## Define paths"
   ]
  },
  {
   "cell_type": "code",
   "execution_count": 2,
   "metadata": {},
   "outputs": [],
   "source": [
    "Data_path = os.path.dirname(os.getcwd()) + '/Data'"
   ]
  },
  {
   "cell_type": "markdown",
   "metadata": {},
   "source": [
    "## Import data sets"
   ]
  },
  {
   "cell_type": "markdown",
   "metadata": {},
   "source": [
    "### Vesiclepedia"
   ]
  },
  {
   "cell_type": "code",
   "execution_count": 3,
   "metadata": {},
   "outputs": [],
   "source": [
    "# load raw Vesiclepedia datasets\n",
    "VP_cargo = pd.read_csv(Data_path + '/raw/vesiclepedia.txt', sep='\\t', engine='python')\n",
    "VP_experiments = pd.read_csv(Data_path + '/raw/vesiclepedia_experiments.txt', sep='\\t', engine='python')\n",
    "\n",
    "# merge experiment details with cargo data frame \n",
    "VP = VP_cargo.merge(VP_experiments[[\"EXPERIMENT ID\", \"PUBMED ID\", \"EXPERIMENT DESCRIPTION\", \"YEAR\", \"ISOLATION METHOD\", \n",
    "    \"VESICLE TYPE\"]], on=\"EXPERIMENT ID\", how=\"inner\")"
   ]
  },
  {
   "cell_type": "markdown",
   "metadata": {},
   "source": [
    "### Exocarta"
   ]
  },
  {
   "cell_type": "code",
   "execution_count": 4,
   "metadata": {},
   "outputs": [],
   "source": [
    "# load raw Exocarta datasets\n",
    "EC = pd.read_csv(Data_path + '/raw/exocarta.csv', sep=';', engine='python')"
   ]
  },
  {
   "cell_type": "markdown",
   "metadata": {},
   "source": [
    "### UniProt human proteome"
   ]
  },
  {
   "cell_type": "code",
   "execution_count": 5,
   "metadata": {},
   "outputs": [],
   "source": [
    "# load all information from UniProt human proteins\n",
    "UP = pd.read_csv(Data_path + '/Features/UniProt/uniprot_9606.tab', sep='\\t', engine='python')"
   ]
  },
  {
   "cell_type": "code",
   "execution_count": 6,
   "metadata": {},
   "outputs": [
    {
     "name": "stdout",
     "output_type": "stream",
     "text": [
      "Vesiclepedia\n",
      "Unique genes:  34913\n",
      "Unique species:  35\n",
      "Unique experiments: 1141\n",
      "------------------\n",
      "Exocarta\n",
      "Unique genes:  12210\n",
      "Unique species:  7\n"
     ]
    }
   ],
   "source": [
    "print('Vesiclepedia')\n",
    "print('Unique genes: ', len(VP['ENTREZ GENE ID'].value_counts()))\n",
    "print('Unique species: ', len(VP['SPECIES'].value_counts()))\n",
    "print('Unique experiments:', len(VP['EXPERIMENT ID'].value_counts())) # some experiments not in cargo dataset\n",
    "print('------------------')\n",
    "print('Exocarta')\n",
    "print('Unique genes: ', len(EC['ENTREZ GENE ID'].value_counts()))\n",
    "print('Unique species: ', len(EC['SPECIES'].value_counts()))"
   ]
  },
  {
   "cell_type": "markdown",
   "metadata": {},
   "source": [
    "## Data curation"
   ]
  },
  {
   "cell_type": "code",
   "execution_count": 7,
   "metadata": {},
   "outputs": [],
   "source": [
    "def filtering(df):\n",
    "    df_copy = df.copy()\n",
    "    df_copy = df_copy[df_copy['CONTENT TYPE'] == 'protein'] # select proteins\n",
    "    df_copy = df_copy[df_copy['SPECIES'] == 'Homo sapiens'] # select human proteins\n",
    "    return df_copy\n",
    "\n",
    "def instance_count(df): \n",
    "    df_copy = df.copy()\n",
    "    df_copy['OCCURRENCES'] = df_copy.groupby('ENTREZ GENE ID')['ENTREZ GENE ID'].transform('count') # calculate occurrences\n",
    "    df_copy = df_copy.drop_duplicates(subset=['ENTREZ GENE ID'], keep='first') # keep a single value per protein\n",
    "    if 'VESICLE TYPE' in df_copy.columns:\n",
    "        df_copy = df_copy[['ENTREZ GENE ID', 'GENE SYMBOL', 'OCCURRENCES', 'VESICLE TYPE']]  # rename columns \n",
    "    else:\n",
    "        df_copy = df_copy[['ENTREZ GENE ID', 'GENE SYMBOL', 'OCCURRENCES']]  # rename columns \n",
    "    return df_copy"
   ]
  },
  {
   "cell_type": "markdown",
   "metadata": {},
   "source": [
    "### General EV dataset"
   ]
  },
  {
   "cell_type": "code",
   "execution_count": 8,
   "metadata": {},
   "outputs": [
    {
     "name": "stdout",
     "output_type": "stream",
     "text": [
      "Number of filtered unique genes in Vesiclepedia: 13550\n",
      "Number of filtered unique genes in Exocarta: 5409\n",
      "-------------------\n",
      "Combined number of filtered unique genes: 13648\n"
     ]
    }
   ],
   "source": [
    "VP_filtered = filtering(VP)\n",
    "VP_curated = instance_count(VP_filtered)\n",
    "print('Number of filtered unique genes in Vesiclepedia:', len(VP_curated))\n",
    "EC_filtered = filtering(EC)\n",
    "EC_curated = instance_count(EC_filtered)\n",
    "print('Number of filtered unique genes in Exocarta:', len(EC_curated))\n",
    "print('-------------------')\n",
    "VPEC = pd.concat([VP_curated, EC_curated])\n",
    "VPEC = VPEC.drop_duplicates(subset=['ENTREZ GENE ID'], keep='first') # keep instances from Vesiclepedia\n",
    "VPEC = VPEC.drop(\"VESICLE TYPE\", axis=1)\n",
    "print('Combined number of filtered unique genes:', len(VPEC))"
   ]
  },
  {
   "cell_type": "markdown",
   "metadata": {},
   "source": [
    "#### Uniprot ID mapping\n",
    "\n",
    "Mapping table obtained from Uniprot ID mapping tool (https://www.uniprot.org/id-mapping): Gene ID to UniProtKB "
   ]
  },
  {
   "cell_type": "code",
   "execution_count": 9,
   "metadata": {},
   "outputs": [
    {
     "name": "stdout",
     "output_type": "stream",
     "text": [
      "Number of Gene ID to Uniprot ID mappings: 23269\n"
     ]
    }
   ],
   "source": [
    "# import mapping\n",
    "mapping = pd.read_csv(Data_path + '/curated/EV_proteins_Entrez_to_Uniprot.tsv' , sep='\\t', header=0, \n",
    "    names=['ENTREZ GENE ID', 'Uniprot'])\n",
    "print('Number of Gene ID to Uniprot ID mappings:', len(mapping))"
   ]
  },
  {
   "cell_type": "code",
   "execution_count": 10,
   "metadata": {},
   "outputs": [
    {
     "name": "stdout",
     "output_type": "stream",
     "text": [
      "Number of unique Entrez to Uniprot mappings: 12794\n",
      "Number of unique Entrez to human proteome Uniprot mappings: 11952\n",
      "Fraction of successfully mapped Entrez IDs: 87.57%\n"
     ]
    }
   ],
   "source": [
    "# drop duplicates, keep first entry as this is usually the manually annotated protein\n",
    "mapping.drop_duplicates(subset=['ENTREZ GENE ID'], inplace=True)\n",
    "mapping.drop_duplicates(subset=['Uniprot'])\n",
    "print('Number of unique Entrez to Uniprot mappings:', len(mapping['ENTREZ GENE ID'].unique()))\n",
    "\n",
    "# remove entries that are not part of the human proteome\n",
    "mapping = mapping[mapping['Uniprot'].isin(UP['Entry'])]\n",
    "print('Number of unique Entrez to human proteome Uniprot mappings:', len(mapping['ENTREZ GENE ID'].unique()))\n",
    "print('Fraction of successfully mapped Entrez IDs: %.2f%%' %(len(mapping['ENTREZ GENE ID'].unique())/len(VPEC)*100))"
   ]
  },
  {
   "cell_type": "code",
   "execution_count": 11,
   "metadata": {},
   "outputs": [
    {
     "data": {
      "text/html": [
       "<div>\n",
       "<style scoped>\n",
       "    .dataframe tbody tr th:only-of-type {\n",
       "        vertical-align: middle;\n",
       "    }\n",
       "\n",
       "    .dataframe tbody tr th {\n",
       "        vertical-align: top;\n",
       "    }\n",
       "\n",
       "    .dataframe thead th {\n",
       "        text-align: right;\n",
       "    }\n",
       "</style>\n",
       "<table border=\"1\" class=\"dataframe\">\n",
       "  <thead>\n",
       "    <tr style=\"text-align: right;\">\n",
       "      <th></th>\n",
       "      <th>ENTREZ GENE ID</th>\n",
       "      <th>GENE SYMBOL</th>\n",
       "      <th>OCCURRENCES</th>\n",
       "      <th>Uniprot</th>\n",
       "    </tr>\n",
       "  </thead>\n",
       "  <tbody>\n",
       "    <tr>\n",
       "      <th>0</th>\n",
       "      <td>16</td>\n",
       "      <td>AARS</td>\n",
       "      <td>124</td>\n",
       "      <td>P49588</td>\n",
       "    </tr>\n",
       "    <tr>\n",
       "      <th>1</th>\n",
       "      <td>34</td>\n",
       "      <td>ACADM</td>\n",
       "      <td>42</td>\n",
       "      <td>P11310</td>\n",
       "    </tr>\n",
       "    <tr>\n",
       "      <th>2</th>\n",
       "      <td>38</td>\n",
       "      <td>ACAT1</td>\n",
       "      <td>65</td>\n",
       "      <td>P24752</td>\n",
       "    </tr>\n",
       "    <tr>\n",
       "      <th>3</th>\n",
       "      <td>47</td>\n",
       "      <td>ACLY</td>\n",
       "      <td>185</td>\n",
       "      <td>P53396</td>\n",
       "    </tr>\n",
       "    <tr>\n",
       "      <th>4</th>\n",
       "      <td>50</td>\n",
       "      <td>ACO2</td>\n",
       "      <td>58</td>\n",
       "      <td>Q99798</td>\n",
       "    </tr>\n",
       "  </tbody>\n",
       "</table>\n",
       "</div>"
      ],
      "text/plain": [
       "   ENTREZ GENE ID GENE SYMBOL  OCCURRENCES Uniprot\n",
       "0              16        AARS          124  P49588\n",
       "1              34       ACADM           42  P11310\n",
       "2              38       ACAT1           65  P24752\n",
       "3              47        ACLY          185  P53396\n",
       "4              50        ACO2           58  Q99798"
      ]
     },
     "execution_count": 11,
     "metadata": {},
     "output_type": "execute_result"
    }
   ],
   "source": [
    "VPEC_mapped = VPEC.merge(mapping, on=\"ENTREZ GENE ID\")\n",
    "VPEC_mapped[:5].sort_values(\"GENE SYMBOL\")"
   ]
  },
  {
   "cell_type": "markdown",
   "metadata": {},
   "source": [
    "### Stringent EV dataset \n",
    "\n",
    "This dataset contains only EV proteins detected by high-confidence isolation workflows. The requirement for a study and its workflow to be included are:\n",
    "- No ExoQuick or Isolation Kits;\n",
    "- At least three isolation steps that enrich for different properties (e.g., size and density);\n",
    "- Size or density-based filtration step first;\n",
    "- No ultracentrifugation as the first step."
   ]
  },
  {
   "cell_type": "code",
   "execution_count": 12,
   "metadata": {},
   "outputs": [],
   "source": [
    "isolation_methods = ['Differential centrifugation|Filtration|Ultracentrifugation',\n",
    "    'Differential centrifugation|Polymer-based precipitation|Ultracentrifugation',\n",
    "    'Differential centrifugation|Filtration|Ultracentrifugation|Density gradient centrifugation',\n",
    "    'Differential centrifugation|Filtration|Sucrose density gradient',\n",
    "    'Differential centrifugation|Filtration|Ultrafiltration',\n",
    "    'Microfiltration|Differential centrifugation|Ultracentrifugation',\n",
    "    'Differential centrifugation|Filtration|Ultrafiltration|Ultracentrifugation|Sucrose density gradient',\n",
    "    'Differential centrifugation|Filtration|Ultrafiltration|Ultracentrifugation',\n",
    "    'Hydrostatic filtration dialysis|Differential centrifugation|Ultracentrifugation',\n",
    "    'Differential centrifugation|Ultrafiltration|Ultracentrifugation|Density gradient centrifugation',\n",
    "    'Differential centrifugation|Sucrose density gradient|Ultracentrifugation',\n",
    "    'Differential centrifugation|Hydrostatic filtration dialysis|Ultrafiltration',\n",
    "    'Differential centrifugation|Sucrose density gradient|Diafiltration',\n",
    "    'Differential centrifugation|Filtration|Ultracentrifugation|Gel filtration',\n",
    "    'Differential centrifugation|Filtration|Sucrose density gradient|Ultracentrifugation',\n",
    "    'Filtration|Size exclusion chromatography|Sucrose density gradient',\n",
    "    'Differential centrifugation|Sucrose density gradient|Size exclusion chromatography',\n",
    "    'Differential centrifugation|Gel filtration|Ultracentrifugation']\n",
    "\n",
    "# save included isolation methods as a text file\n",
    "with open(Data_path + '/curated/Isolation_methods_filtered.txt', 'w') as f:\n",
    "    for method in isolation_methods:\n",
    "        f.write(method + '\\n')"
   ]
  },
  {
   "cell_type": "code",
   "execution_count": 13,
   "metadata": {},
   "outputs": [],
   "source": [
    "# filter Vesiclepedia dataset based on workflow for EV isolation\n",
    "VP_iso = VP[VP[\"ISOLATION METHOD\"].isin(isolation_methods)]"
   ]
  },
  {
   "cell_type": "code",
   "execution_count": 14,
   "metadata": {},
   "outputs": [
    {
     "name": "stdout",
     "output_type": "stream",
     "text": [
      "Number of filtered unique genes in Vesiclepedia: 13550\n",
      "Number of filtered unique genes in Vesiclepedia (after isolation method filter): 6818\n",
      "Number of unique Entrez to human proteome Uniprot mappings: 6678\n",
      "Fraction of successfully mapped Entrez IDs: 97.95%\n"
     ]
    }
   ],
   "source": [
    "print('Number of filtered unique genes in Vesiclepedia:', len(VP_curated)) # to compare\n",
    "VP_iso_filtered = filtering(VP_iso)\n",
    "VP_iso_curated = instance_count(VP_iso_filtered)\n",
    "print('Number of filtered unique genes in Vesiclepedia (after isolation method filter):', len(VP_iso_curated))\n",
    "\n",
    "VP_iso_mapped = VP_iso_curated.merge(mapping, on=\"ENTREZ GENE ID\")\n",
    "print(\"Number of unique Entrez to human proteome Uniprot mappings:\", len(VP_iso_mapped))\n",
    "print('Fraction of successfully mapped Entrez IDs: %.2f%%' %(len(VP_iso_mapped)/len(VP_iso_curated)*100))"
   ]
  },
  {
   "cell_type": "markdown",
   "metadata": {},
   "source": [
    "### Compare EV datasets"
   ]
  },
  {
   "cell_type": "code",
   "execution_count": 15,
   "metadata": {},
   "outputs": [
    {
     "data": {
      "image/png": "[encoded data removed]",
      "text/plain": [
       "<Figure size 640x480 with 1 Axes>"
      ]
     },
     "metadata": {},
     "output_type": "display_data"
    }
   ],
   "source": [
    "# visualize overlap \n",
    "v = venn2([set(VPEC_mapped[\"ENTREZ GENE ID\"]), set(VP_iso_mapped[\"ENTREZ GENE ID\"])], \n",
    "      ('General EV dataset', 'Stringent EV dataset'), set_colors=('lightblue', 'midnightblue'), alpha = 1)\n",
    "v.subset_labels[1].set_visible(False)\n",
    "v.get_patch_by_id('11').set_color('midnightblue')\n",
    "v.get_patch_by_id('11').set_alpha(0.8)\n",
    "\n",
    "plt.show()"
   ]
  },
  {
   "cell_type": "markdown",
   "metadata": {},
   "source": [
    "### Save data sets"
   ]
  },
  {
   "cell_type": "code",
   "execution_count": 16,
   "metadata": {},
   "outputs": [],
   "source": [
    "VPEC_mapped.to_csv(Data_path + '/curated/VPEC_all.csv', index=False)\n",
    "VP_iso_mapped.to_csv(Data_path + '/curated/VP_Isolation_filter.csv', index=False)"
   ]
  },
  {
   "cell_type": "markdown",
   "metadata": {},
   "source": [
    "### Low confidence EV protein set\n",
    "\n",
    "Filtering of Vesiclepedia for EV studies published before 2014."
   ]
  },
  {
   "cell_type": "code",
   "execution_count": 17,
   "metadata": {},
   "outputs": [
    {
     "name": "stdout",
     "output_type": "stream",
     "text": [
      "Number of unique Entrez to human proteome Uniprot mappings from studies before 2014: 9988\n"
     ]
    },
    {
     "data": {
      "text/html": [
       "<div>\n",
       "<style scoped>\n",
       "    .dataframe tbody tr th:only-of-type {\n",
       "        vertical-align: middle;\n",
       "    }\n",
       "\n",
       "    .dataframe tbody tr th {\n",
       "        vertical-align: top;\n",
       "    }\n",
       "\n",
       "    .dataframe thead th {\n",
       "        text-align: right;\n",
       "    }\n",
       "</style>\n",
       "<table border=\"1\" class=\"dataframe\">\n",
       "  <thead>\n",
       "    <tr style=\"text-align: right;\">\n",
       "      <th></th>\n",
       "      <th>ENTREZ GENE ID</th>\n",
       "      <th>GENE SYMBOL</th>\n",
       "      <th>OCCURRENCES</th>\n",
       "      <th>VESICLE TYPE</th>\n",
       "      <th>Uniprot</th>\n",
       "    </tr>\n",
       "  </thead>\n",
       "  <tbody>\n",
       "    <tr>\n",
       "      <th>0</th>\n",
       "      <td>16</td>\n",
       "      <td>AARS</td>\n",
       "      <td>52</td>\n",
       "      <td>Microparticles</td>\n",
       "      <td>P49588</td>\n",
       "    </tr>\n",
       "    <tr>\n",
       "      <th>1</th>\n",
       "      <td>34</td>\n",
       "      <td>ACADM</td>\n",
       "      <td>12</td>\n",
       "      <td>Microparticles</td>\n",
       "      <td>P11310</td>\n",
       "    </tr>\n",
       "    <tr>\n",
       "      <th>2</th>\n",
       "      <td>38</td>\n",
       "      <td>ACAT1</td>\n",
       "      <td>28</td>\n",
       "      <td>Microparticles</td>\n",
       "      <td>P24752</td>\n",
       "    </tr>\n",
       "    <tr>\n",
       "      <th>3</th>\n",
       "      <td>47</td>\n",
       "      <td>ACLY</td>\n",
       "      <td>86</td>\n",
       "      <td>Microparticles</td>\n",
       "      <td>P53396</td>\n",
       "    </tr>\n",
       "    <tr>\n",
       "      <th>4</th>\n",
       "      <td>50</td>\n",
       "      <td>ACO2</td>\n",
       "      <td>17</td>\n",
       "      <td>Microparticles</td>\n",
       "      <td>Q99798</td>\n",
       "    </tr>\n",
       "  </tbody>\n",
       "</table>\n",
       "</div>"
      ],
      "text/plain": [
       "   ENTREZ GENE ID GENE SYMBOL  OCCURRENCES    VESICLE TYPE Uniprot\n",
       "0              16        AARS           52  Microparticles  P49588\n",
       "1              34       ACADM           12  Microparticles  P11310\n",
       "2              38       ACAT1           28  Microparticles  P24752\n",
       "3              47        ACLY           86  Microparticles  P53396\n",
       "4              50        ACO2           17  Microparticles  Q99798"
      ]
     },
     "execution_count": 17,
     "metadata": {},
     "output_type": "execute_result"
    }
   ],
   "source": [
    "year = 2014\n",
    "\n",
    "# filter based on the year of the study\n",
    "VP_pre2014 = VP[VP[\"YEAR\"] < year]\n",
    "\n",
    "# apply the same filtering as for the other datasets and map to UniProt\n",
    "VP_pre2014_filtered = filtering(VP_pre2014)\n",
    "VP_pre2014_curated = instance_count(VP_pre2014_filtered)\n",
    "# VP_pre2010_curated = instance_count(VP_pre2010)\n",
    "VP_pre2014_mapped = VP_pre2014_curated.merge(mapping, on=\"ENTREZ GENE ID\")\n",
    "print(\"Number of unique Entrez to human proteome Uniprot mappings from studies before 2014:\", len(VP_pre2014_mapped))\n",
    "VP_pre2014_mapped[:5]"
   ]
  },
  {
   "cell_type": "code",
   "execution_count": 18,
   "metadata": {},
   "outputs": [],
   "source": [
    "VP_pre2014_mapped.to_csv(Data_path + '/curated/VP_pre2014_mapped.csv', index=False)\n",
    "with open(Data_path + '/curated/Low_confidence_EV_proteins.txt', 'w') as f:\n",
    "    for uniprot in list(VP_pre2014_mapped['Uniprot']):\n",
    "        f.write(uniprot + '\\n')"
   ]
  },
  {
   "cell_type": "markdown",
   "metadata": {},
   "source": [
    "### High confidence EV protein sets \n",
    "\n",
    "The following studies are included in the high confidence EV protein set:\n",
    "- Plasma: Karimi, N., Cvjetkovic, A., Jang, S.C. et al. Detailed analysis of the plasma extracellular vesicle proteome after separation from lipoproteins. Cell. Mol. Life Sci. 75, 2873–2886 (2018). https://doi.org/10.1007/s00018-018-2773-4\n",
    "- Urine: Dhondt, B., Geeurickx, E., Tulkens, J., Van Deun, J., Vergauwen, G., Lippens, L., Miinalainen, I., Rappu, P., Heino, J., Ost, P., Lumen, N., De Wever, O. and Hendrix, A. (2020), Unravelling the proteomic landscape of extracellular vesicles in prostate cancer by density-based fractionation of urine. Journal of Extracellular Vesicles, 9: 1736935. https://doi.org/10.1080/20013078.2020.1736935\n",
    "- Cell culture: Martínez-Greene, J. A., Hernández-Ortega, K., Quiroz-Baez, R., Resendis-Antonio, O., Pichardo-Casas, I., Sinclair, D. A., Budnik, B., Hidalgo-Miranda, A., Uribe-Querol, E., Ramos-Godínez, M. P., & Martínez-Martínez, E. (2021). Quantitative proteomic analysis of extracellular vesicle subgroups isolated by an optimized method combining polymer-based precipitation and size exclusion chromatography. J. Extracell. Vesicles, 10, e12087. https://doi.org/10.1002/jev2.12087"
   ]
  },
  {
   "cell_type": "code",
   "execution_count": 19,
   "metadata": {},
   "outputs": [
    {
     "name": "stdout",
     "output_type": "stream",
     "text": [
      "Number of EV proteins in high confidence plasma dataset: 1187\n"
     ]
    }
   ],
   "source": [
    "plasma = pd.read_csv(Data_path + \"/validation/raw/Karimi2018_plasma_EV_protein_list.txt\", sep=\" \", header=None, \n",
    "    names=[\"Uniprot\"], usecols=[0])\n",
    "plasma_set = set(plasma[\"Uniprot\"])\n",
    "print(\"Number of EV proteins in high confidence plasma dataset:\", len(plasma_set))"
   ]
  },
  {
   "cell_type": "code",
   "execution_count": 20,
   "metadata": {},
   "outputs": [
    {
     "name": "stdout",
     "output_type": "stream",
     "text": [
      "Number of EV proteins in high confidence urine dataset: 1789\n"
     ]
    }
   ],
   "source": [
    "def get_first_uniprot(string):\n",
    "    \n",
    "    if \";\" in string:\n",
    "        first_unirpot, _ = string.split(\";\", maxsplit=1)\n",
    "        return first_unirpot\n",
    "    else: \n",
    "        return string\n",
    "    \n",
    "urine = pd.read_csv(Data_path + \"/validation/raw/Dhondt2021_urine_EV_proteins.csv\", sep=\";\")\n",
    "urine[\"Protein IDs\"] = urine[\"Protein IDs\"].apply(get_first_uniprot)\n",
    "urine_set = set(urine[\"Protein IDs\"])\n",
    "print(\"Number of EV proteins in high confidence urine dataset:\", len(urine_set))"
   ]
  },
  {
   "cell_type": "code",
   "execution_count": 21,
   "metadata": {},
   "outputs": [
    {
     "name": "stdout",
     "output_type": "stream",
     "text": [
      "Number of EV proteins in high confidence cell culture dataset: 1686\n"
     ]
    }
   ],
   "source": [
    "culture = pd.read_csv(Data_path + \"/validation/raw/MartinezGreene2020_cell_culture_EV_proteins.csv\", sep=\";\")\n",
    "culture.dropna(axis=0, how=\"all\", inplace=True)\n",
    "culture_set = set(culture[\"Accession\"])\n",
    "print(\"Number of EV proteins in high confidence cell culture dataset:\", len(culture_set))"
   ]
  },
  {
   "cell_type": "code",
   "execution_count": 22,
   "metadata": {},
   "outputs": [
    {
     "name": "stdout",
     "output_type": "stream",
     "text": [
      "Number of EV proteins in high confidence dataset: 3243\n"
     ]
    }
   ],
   "source": [
    "high_confidence = plasma_set.union(urine_set).union(culture_set)\n",
    "print(\"Number of EV proteins in high confidence dataset:\", len(high_confidence))"
   ]
  },
  {
   "cell_type": "code",
   "execution_count": 23,
   "metadata": {},
   "outputs": [],
   "source": [
    "with open(Data_path + '/curated/High_confidence_EV_proteins.txt', 'w') as f:\n",
    "    for uniprot in high_confidence:\n",
    "        f.write(uniprot + '\\n')"
   ]
  },
  {
   "cell_type": "markdown",
   "metadata": {},
   "source": [
    "## Functional enrichment analysis of Top EV proteins"
   ]
  },
  {
   "cell_type": "code",
   "execution_count": 24,
   "metadata": {},
   "outputs": [],
   "source": [
    "# filter for top EV proteins\n",
    "top_EV_proteins = VP_iso_mapped[VP_iso_mapped['OCCURRENCES'] >= 30]"
   ]
  },
  {
   "cell_type": "code",
   "execution_count": 25,
   "metadata": {},
   "outputs": [],
   "source": [
    "# enrichment analysis\n",
    "enr2 = gp.enrichr(gene_list=top_EV_proteins['GENE SYMBOL'], gene_sets='KEGG_2019_Human', cutoff=0.5)"
   ]
  },
  {
   "cell_type": "code",
   "execution_count": 26,
   "metadata": {},
   "outputs": [
    {
     "data": {
      "image/png": "[encoded data removed]",
      "text/plain": [
       "<Figure size 1000x800 with 1 Axes>"
      ]
     },
     "metadata": {},
     "output_type": "display_data"
    }
   ],
   "source": [
    "sns.set(font_scale=1, style=\"whitegrid\")\n",
    "gp.plot.barplot(enr2.res2d, title='KEGG 2019 Human', figsize=(10,8))\n",
    "\n",
    "plt.show()"
   ]
  }
 ],
 "metadata": {
  "kernelspec": {
   "display_name": "Python 3",
   "language": "python",
   "name": "python3"
  },
  "language_info": {
   "codemirror_mode": {
    "name": "ipython",
    "version": 3
   },
   "file_extension": ".py",
   "mimetype": "text/x-python",
   "name": "python",
   "nbconvert_exporter": "python",
   "pygments_lexer": "ipython3",
   "version": "3.8.5"
  }
 },
 "nbformat": 4,
 "nbformat_minor": 4
}
